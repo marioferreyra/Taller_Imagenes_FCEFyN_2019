{
 "cells": [
  {
   "cell_type": "code",
   "execution_count": 1,
   "metadata": {
    "colab": {},
    "colab_type": "code",
    "id": "DYM5PniyYGyG"
   },
   "outputs": [],
   "source": [
    "%load_ext autoreload\n",
    "%autoreload 2\n",
    "\n",
    "%matplotlib inline"
   ]
  },
  {
   "cell_type": "markdown",
   "metadata": {},
   "source": [
    "### Curso-Taller 2019: Aprendizaje Automático e Imágenes en Python\n",
    "\n",
    "#### Trabajo Practico 2\n",
    "\n",
    "Integrantes:\n",
    "* Ferreyra, Mario Ezequiel (<ferreyramario7@gmail.com>)\n",
    "* Gonzalez, Maria Laura (<m.laugonzalez@gmail.com>)\n",
    "* Kopp, Matias Nicolas  (<koppmatias97@gmail.com>)"
   ]
  },
  {
   "cell_type": "code",
   "execution_count": 2,
   "metadata": {
    "colab": {
     "base_uri": "https://localhost:8080/",
     "height": 80
    },
    "colab_type": "code",
    "executionInfo": {
     "elapsed": 4821,
     "status": "ok",
     "timestamp": 1578104622112,
     "user": {
      "displayName": "Mario Ferreyra",
      "photoUrl": "https://lh3.googleusercontent.com/a-/AAuE7mC3ALq72FIGdXTnw1XggOwOgPC7wztJCvlXdaEk2w=s64",
      "userId": "00857178684086436690"
     },
     "user_tz": 180
    },
    "id": "8toQv1hl1mU6",
    "outputId": "79193d9b-c4c5-473c-be50-f4c7b9739b38"
   },
   "outputs": [
    {
     "name": "stderr",
     "output_type": "stream",
     "text": [
      "Using TensorFlow backend.\n"
     ]
    }
   ],
   "source": [
    "import numpy as np\n",
    "import matplotlib\n",
    "import matplotlib.pyplot as plt\n",
    "import seaborn as sns\n",
    "import tensorflow as tf\n",
    "import keras\n",
    "\n",
    "from PIL import Image\n",
    "from sklearn.preprocessing import LabelEncoder, OneHotEncoder\n",
    "from keras.layers import Input, Dense, Conv2D, MaxPooling2D, Flatten, BatchNormalization, Activation, Dropout\n",
    "from keras.models import Model, Sequential\n",
    "from keras.callbacks import EarlyStopping, ModelCheckpoint, Callback\n",
    "from keras.optimizers import RMSprop\n",
    "from keras.preprocessing.image import ImageDataGenerator\n",
    "from tensorflow.examples.tutorials.mnist import input_data\n",
    "\n",
    "from IPython.display import Image as IPImage\n",
    "\n",
    "import warnings\n",
    "warnings.filterwarnings(\"ignore\")"
   ]
  },
  {
   "cell_type": "code",
   "execution_count": 3,
   "metadata": {
    "colab": {
     "base_uri": "https://localhost:8080/",
     "height": 34
    },
    "colab_type": "code",
    "executionInfo": {
     "elapsed": 4550,
     "status": "ok",
     "timestamp": 1578104622114,
     "user": {
      "displayName": "Mario Ferreyra",
      "photoUrl": "https://lh3.googleusercontent.com/a-/AAuE7mC3ALq72FIGdXTnw1XggOwOgPC7wztJCvlXdaEk2w=s64",
      "userId": "00857178684086436690"
     },
     "user_tz": 180
    },
    "id": "RFH2QLWs1s-Z",
    "outputId": "c032fd9f-55d1-4f09-995c-4a7ffa4cb62d"
   },
   "outputs": [
    {
     "name": "stdout",
     "output_type": "stream",
     "text": [
      "1.15.0\n",
      "2.2.5\n"
     ]
    }
   ],
   "source": [
    "print(tf.__version__)\n",
    "print(keras.__version__)"
   ]
  },
  {
   "cell_type": "code",
   "execution_count": 4,
   "metadata": {
    "colab": {},
    "colab_type": "code",
    "id": "KgAAU1mR1-wd"
   },
   "outputs": [],
   "source": [
    "sns.set_style(\"white\")"
   ]
  },
  {
   "cell_type": "markdown",
   "metadata": {},
   "source": [
    "---"
   ]
  },
  {
   "cell_type": "markdown",
   "metadata": {},
   "source": [
    "> Ejercicio 1\n",
    "\n",
    "Cargamos los datos del MNIST"
   ]
  },
  {
   "cell_type": "code",
   "execution_count": 5,
   "metadata": {
    "colab": {
     "base_uri": "https://localhost:8080/",
     "height": 530
    },
    "colab_type": "code",
    "executionInfo": {
     "elapsed": 4897,
     "status": "ok",
     "timestamp": 1578104623067,
     "user": {
      "displayName": "Mario Ferreyra",
      "photoUrl": "https://lh3.googleusercontent.com/a-/AAuE7mC3ALq72FIGdXTnw1XggOwOgPC7wztJCvlXdaEk2w=s64",
      "userId": "00857178684086436690"
     },
     "user_tz": 180
    },
    "id": "d4cBGRK_1-6H",
    "outputId": "453682db-d129-4ca4-defb-85096794be28"
   },
   "outputs": [
    {
     "name": "stdout",
     "output_type": "stream",
     "text": [
      "WARNING:tensorflow:From <ipython-input-5-5933df94991b>:2: read_data_sets (from tensorflow.contrib.learn.python.learn.datasets.mnist) is deprecated and will be removed in a future version.\n",
      "Instructions for updating:\n",
      "Please use alternatives such as official/mnist/dataset.py from tensorflow/models.\n",
      "WARNING:tensorflow:From /home/ubuntu/miniconda3/envs/mlip/lib/python3.6/site-packages/tensorflow_core/contrib/learn/python/learn/datasets/mnist.py:260: maybe_download (from tensorflow.contrib.learn.python.learn.datasets.base) is deprecated and will be removed in a future version.\n",
      "Instructions for updating:\n",
      "Please write your own downloading logic.\n",
      "WARNING:tensorflow:From /home/ubuntu/miniconda3/envs/mlip/lib/python3.6/site-packages/tensorflow_core/contrib/learn/python/learn/datasets/mnist.py:262: extract_images (from tensorflow.contrib.learn.python.learn.datasets.mnist) is deprecated and will be removed in a future version.\n",
      "Instructions for updating:\n",
      "Please use tf.data to implement this functionality.\n",
      "Extracting ./mnist/data/train-images-idx3-ubyte.gz\n",
      "WARNING:tensorflow:From /home/ubuntu/miniconda3/envs/mlip/lib/python3.6/site-packages/tensorflow_core/contrib/learn/python/learn/datasets/mnist.py:267: extract_labels (from tensorflow.contrib.learn.python.learn.datasets.mnist) is deprecated and will be removed in a future version.\n",
      "Instructions for updating:\n",
      "Please use tf.data to implement this functionality.\n",
      "Extracting ./mnist/data/train-labels-idx1-ubyte.gz\n",
      "WARNING:tensorflow:From /home/ubuntu/miniconda3/envs/mlip/lib/python3.6/site-packages/tensorflow_core/contrib/learn/python/learn/datasets/mnist.py:110: dense_to_one_hot (from tensorflow.contrib.learn.python.learn.datasets.mnist) is deprecated and will be removed in a future version.\n",
      "Instructions for updating:\n",
      "Please use tf.one_hot on tensors.\n",
      "Extracting ./mnist/data/t10k-images-idx3-ubyte.gz\n",
      "Extracting ./mnist/data/t10k-labels-idx1-ubyte.gz\n",
      "WARNING:tensorflow:From /home/ubuntu/miniconda3/envs/mlip/lib/python3.6/site-packages/tensorflow_core/contrib/learn/python/learn/datasets/mnist.py:290: DataSet.__init__ (from tensorflow.contrib.learn.python.learn.datasets.mnist) is deprecated and will be removed in a future version.\n",
      "Instructions for updating:\n",
      "Please use alternatives such as official/mnist/dataset.py from tensorflow/models.\n"
     ]
    }
   ],
   "source": [
    "# importo y guardo MNIST data\n",
    "mnist = input_data.read_data_sets(\"./mnist/data/\", one_hot=True)"
   ]
  },
  {
   "cell_type": "code",
   "execution_count": 6,
   "metadata": {
    "colab": {},
    "colab_type": "code",
    "id": "VJEy7woe1-9F"
   },
   "outputs": [],
   "source": [
    "X_train = mnist.train.images\n",
    "y_train = mnist.train.labels\n",
    "\n",
    "X_val = mnist.validation.images\n",
    "y_val = mnist.validation.labels\n",
    "\n",
    "X_test = mnist.test.images\n",
    "y_test = mnist.test.labels"
   ]
  },
  {
   "cell_type": "code",
   "execution_count": 7,
   "metadata": {
    "colab": {
     "base_uri": "https://localhost:8080/",
     "height": 153
    },
    "colab_type": "code",
    "executionInfo": {
     "elapsed": 4104,
     "status": "ok",
     "timestamp": 1578104623069,
     "user": {
      "displayName": "Mario Ferreyra",
      "photoUrl": "https://lh3.googleusercontent.com/a-/AAuE7mC3ALq72FIGdXTnw1XggOwOgPC7wztJCvlXdaEk2w=s64",
      "userId": "00857178684086436690"
     },
     "user_tz": 180
    },
    "id": "PGBML_Oq1_AG",
    "outputId": "1067072e-9037-4c0f-8695-5c344683e4fa"
   },
   "outputs": [
    {
     "name": "stdout",
     "output_type": "stream",
     "text": [
      "X_train shape: (55000, 784)\n",
      "y_train shape: (55000, 10)\n",
      "\n",
      "X_val shape  : (5000, 784)\n",
      "y_val shape  : (5000, 10)\n",
      "\n",
      "X_test shape : (10000, 784)\n",
      "y_test shape : (10000, 10)\n"
     ]
    }
   ],
   "source": [
    "print(f\"X_train shape: {X_train.shape}\")\n",
    "print(f\"y_train shape: {y_train.shape}\")\n",
    "print()\n",
    "print(f\"X_val shape  : {X_val.shape}\")\n",
    "print(f\"y_val shape  : {y_val.shape}\")\n",
    "print()\n",
    "print(f\"X_test shape : {X_test.shape}\")\n",
    "print(f\"y_test shape : {y_test.shape}\")"
   ]
  },
  {
   "cell_type": "markdown",
   "metadata": {},
   "source": [
    "---"
   ]
  },
  {
   "cell_type": "markdown",
   "metadata": {},
   "source": [
    "> Ejercicio2\n",
    "\n",
    "Defina dos redes totalmente conectadas diferentes que sean capaces de clasificar la base MNIST.\n",
    "\n",
    "Una con 3 capas ocultas y la otra con 5.\n",
    "\n",
    "Evalúe posible overfitting en ambas y compárelas usándola parte de entrenamiento y la parte de la base destinada para validación."
   ]
  },
  {
   "cell_type": "code",
   "execution_count": null,
   "metadata": {},
   "outputs": [],
   "source": []
  },
  {
   "cell_type": "markdown",
   "metadata": {},
   "source": [
    "Red Fully Connected - 3 Capas Ocultas"
   ]
  },
  {
   "cell_type": "code",
   "execution_count": 8,
   "metadata": {
    "colab": {
     "base_uri": "https://localhost:8080/",
     "height": 187
    },
    "colab_type": "code",
    "executionInfo": {
     "elapsed": 3790,
     "status": "ok",
     "timestamp": 1578104623070,
     "user": {
      "displayName": "Mario Ferreyra",
      "photoUrl": "https://lh3.googleusercontent.com/a-/AAuE7mC3ALq72FIGdXTnw1XggOwOgPC7wztJCvlXdaEk2w=s64",
      "userId": "00857178684086436690"
     },
     "user_tz": 180
    },
    "id": "5ieIUR471_GR",
    "outputId": "60c070f6-0a76-41d1-904b-973c40a19607"
   },
   "outputs": [
    {
     "name": "stdout",
     "output_type": "stream",
     "text": [
      "WARNING:tensorflow:From /home/ubuntu/miniconda3/envs/mlip/lib/python3.6/site-packages/keras/backend/tensorflow_backend.py:66: The name tf.get_default_graph is deprecated. Please use tf.compat.v1.get_default_graph instead.\n",
      "\n",
      "WARNING:tensorflow:From /home/ubuntu/miniconda3/envs/mlip/lib/python3.6/site-packages/keras/backend/tensorflow_backend.py:541: The name tf.placeholder is deprecated. Please use tf.compat.v1.placeholder instead.\n",
      "\n",
      "WARNING:tensorflow:From /home/ubuntu/miniconda3/envs/mlip/lib/python3.6/site-packages/keras/backend/tensorflow_backend.py:4432: The name tf.random_uniform is deprecated. Please use tf.random.uniform instead.\n",
      "\n",
      "WARNING:tensorflow:From /home/ubuntu/miniconda3/envs/mlip/lib/python3.6/site-packages/keras/optimizers.py:793: The name tf.train.Optimizer is deprecated. Please use tf.compat.v1.train.Optimizer instead.\n",
      "\n",
      "WARNING:tensorflow:From /home/ubuntu/miniconda3/envs/mlip/lib/python3.6/site-packages/keras/backend/tensorflow_backend.py:3576: The name tf.log is deprecated. Please use tf.math.log instead.\n",
      "\n"
     ]
    }
   ],
   "source": [
    "model_3hl = Sequential()\n",
    "model_3hl.add(Dense(512, input_shape=(784,), activation=\"relu\"))\n",
    "model_3hl.add(Dense(1024, activation=\"relu\"))\n",
    "model_3hl.add(Dense(512, activation=\"relu\"))\n",
    "model_3hl.add(Dense(10, activation=\"softmax\"))\n",
    "\n",
    "model_3hl.compile(\n",
    "    loss='categorical_crossentropy',\n",
    "    metrics=['accuracy'],\n",
    "    optimizer='adam'\n",
    ")"
   ]
  },
  {
   "cell_type": "code",
   "execution_count": 9,
   "metadata": {
    "colab": {
     "base_uri": "https://localhost:8080/",
     "height": 1000
    },
    "colab_type": "code",
    "executionInfo": {
     "elapsed": 49474,
     "status": "ok",
     "timestamp": 1578104669008,
     "user": {
      "displayName": "Mario Ferreyra",
      "photoUrl": "https://lh3.googleusercontent.com/a-/AAuE7mC3ALq72FIGdXTnw1XggOwOgPC7wztJCvlXdaEk2w=s64",
      "userId": "00857178684086436690"
     },
     "user_tz": 180
    },
    "id": "aBvsrE-I1_Jy",
    "outputId": "68a0cf22-4c69-4a79-953c-00132c23e3c7"
   },
   "outputs": [
    {
     "name": "stdout",
     "output_type": "stream",
     "text": [
      "WARNING:tensorflow:From /home/ubuntu/miniconda3/envs/mlip/lib/python3.6/site-packages/tensorflow_core/python/ops/math_grad.py:1424: where (from tensorflow.python.ops.array_ops) is deprecated and will be removed in a future version.\n",
      "Instructions for updating:\n",
      "Use tf.where in 2.0, which has the same broadcast rule as np.where\n",
      "WARNING:tensorflow:From /home/ubuntu/miniconda3/envs/mlip/lib/python3.6/site-packages/keras/backend/tensorflow_backend.py:1033: The name tf.assign_add is deprecated. Please use tf.compat.v1.assign_add instead.\n",
      "\n",
      "WARNING:tensorflow:From /home/ubuntu/miniconda3/envs/mlip/lib/python3.6/site-packages/keras/backend/tensorflow_backend.py:1020: The name tf.assign is deprecated. Please use tf.compat.v1.assign instead.\n",
      "\n",
      "WARNING:tensorflow:From /home/ubuntu/miniconda3/envs/mlip/lib/python3.6/site-packages/keras/backend/tensorflow_backend.py:3005: The name tf.Session is deprecated. Please use tf.compat.v1.Session instead.\n",
      "\n",
      "Train on 55000 samples, validate on 5000 samples\n",
      "Epoch 1/20\n",
      "WARNING:tensorflow:From /home/ubuntu/miniconda3/envs/mlip/lib/python3.6/site-packages/keras/backend/tensorflow_backend.py:190: The name tf.get_default_session is deprecated. Please use tf.compat.v1.get_default_session instead.\n",
      "\n",
      "WARNING:tensorflow:From /home/ubuntu/miniconda3/envs/mlip/lib/python3.6/site-packages/keras/backend/tensorflow_backend.py:197: The name tf.ConfigProto is deprecated. Please use tf.compat.v1.ConfigProto instead.\n",
      "\n",
      "WARNING:tensorflow:From /home/ubuntu/miniconda3/envs/mlip/lib/python3.6/site-packages/keras/backend/tensorflow_backend.py:207: The name tf.global_variables is deprecated. Please use tf.compat.v1.global_variables instead.\n",
      "\n",
      "WARNING:tensorflow:From /home/ubuntu/miniconda3/envs/mlip/lib/python3.6/site-packages/keras/backend/tensorflow_backend.py:216: The name tf.is_variable_initialized is deprecated. Please use tf.compat.v1.is_variable_initialized instead.\n",
      "\n",
      "WARNING:tensorflow:From /home/ubuntu/miniconda3/envs/mlip/lib/python3.6/site-packages/keras/backend/tensorflow_backend.py:223: The name tf.variables_initializer is deprecated. Please use tf.compat.v1.variables_initializer instead.\n",
      "\n",
      "55000/55000 [==============================] - 10s 174us/step - loss: 0.2100 - acc: 0.9364 - val_loss: 0.1046 - val_acc: 0.9674\n",
      "Epoch 2/20\n",
      "55000/55000 [==============================] - 9s 164us/step - loss: 0.0827 - acc: 0.9744 - val_loss: 0.0787 - val_acc: 0.9746\n",
      "Epoch 3/20\n",
      "55000/55000 [==============================] - 9s 163us/step - loss: 0.0573 - acc: 0.9817 - val_loss: 0.0759 - val_acc: 0.9772\n",
      "Epoch 4/20\n",
      "55000/55000 [==============================] - 9s 164us/step - loss: 0.0411 - acc: 0.9866 - val_loss: 0.0795 - val_acc: 0.9794\n",
      "Epoch 5/20\n",
      "55000/55000 [==============================] - 9s 165us/step - loss: 0.0344 - acc: 0.9881 - val_loss: 0.0816 - val_acc: 0.9756\n",
      "Epoch 6/20\n",
      "55000/55000 [==============================] - 9s 164us/step - loss: 0.0270 - acc: 0.9910 - val_loss: 0.0770 - val_acc: 0.9798\n",
      "Epoch 7/20\n",
      "55000/55000 [==============================] - 9s 167us/step - loss: 0.0228 - acc: 0.9927 - val_loss: 0.0954 - val_acc: 0.9796\n",
      "Epoch 8/20\n",
      "55000/55000 [==============================] - 9s 165us/step - loss: 0.0253 - acc: 0.9918 - val_loss: 0.0875 - val_acc: 0.9784\n",
      "Epoch 9/20\n",
      "55000/55000 [==============================] - 9s 164us/step - loss: 0.0213 - acc: 0.9933 - val_loss: 0.0779 - val_acc: 0.9820\n",
      "Epoch 10/20\n",
      "55000/55000 [==============================] - 9s 164us/step - loss: 0.0150 - acc: 0.9954 - val_loss: 0.0848 - val_acc: 0.9812\n",
      "Epoch 11/20\n",
      "55000/55000 [==============================] - 9s 165us/step - loss: 0.0191 - acc: 0.9940 - val_loss: 0.0892 - val_acc: 0.9798\n",
      "Epoch 12/20\n",
      "55000/55000 [==============================] - 9s 165us/step - loss: 0.0126 - acc: 0.9958 - val_loss: 0.0962 - val_acc: 0.9804\n",
      "Epoch 13/20\n",
      "55000/55000 [==============================] - 9s 166us/step - loss: 0.0181 - acc: 0.9948 - val_loss: 0.0839 - val_acc: 0.9812\n",
      "Epoch 14/20\n",
      "55000/55000 [==============================] - 9s 166us/step - loss: 0.0137 - acc: 0.9957 - val_loss: 0.1121 - val_acc: 0.9790\n",
      "Epoch 15/20\n",
      "55000/55000 [==============================] - 9s 165us/step - loss: 0.0118 - acc: 0.9963 - val_loss: 0.0789 - val_acc: 0.9840\n",
      "Epoch 16/20\n",
      "55000/55000 [==============================] - 9s 165us/step - loss: 0.0091 - acc: 0.9973 - val_loss: 0.0987 - val_acc: 0.9812\n",
      "Epoch 17/20\n",
      "55000/55000 [==============================] - 9s 167us/step - loss: 0.0101 - acc: 0.9971 - val_loss: 0.0824 - val_acc: 0.9826\n",
      "Epoch 18/20\n",
      "55000/55000 [==============================] - 9s 166us/step - loss: 0.0119 - acc: 0.9964 - val_loss: 0.1023 - val_acc: 0.9814\n",
      "Epoch 19/20\n",
      "55000/55000 [==============================] - 9s 166us/step - loss: 0.0141 - acc: 0.9961 - val_loss: 0.0763 - val_acc: 0.9834\n",
      "Epoch 20/20\n",
      "55000/55000 [==============================] - 9s 168us/step - loss: 0.0074 - acc: 0.9979 - val_loss: 0.0964 - val_acc: 0.9830\n"
     ]
    }
   ],
   "source": [
    "BATCH_SIZE = 128\n",
    "NUM_EPOCHS = 20\n",
    "\n",
    "history_3hl = model_3hl.fit(\n",
    "    X_train, y_train,\n",
    "    batch_size=BATCH_SIZE,\n",
    "    epochs=NUM_EPOCHS,\n",
    "    verbose=1,\n",
    "    validation_data=(X_val, y_val)\n",
    ")"
   ]
  },
  {
   "cell_type": "code",
   "execution_count": 10,
   "metadata": {
    "colab": {
     "base_uri": "https://localhost:8080/",
     "height": 590
    },
    "colab_type": "code",
    "executionInfo": {
     "elapsed": 49978,
     "status": "ok",
     "timestamp": 1578104670050,
     "user": {
      "displayName": "Mario Ferreyra",
      "photoUrl": "https://lh3.googleusercontent.com/a-/AAuE7mC3ALq72FIGdXTnw1XggOwOgPC7wztJCvlXdaEk2w=s64",
      "userId": "00857178684086436690"
     },
     "user_tz": 180
    },
    "id": "4vdBiJKi1_EF",
    "outputId": "b7cce94c-faa7-4696-879b-05abc0976c1e"
   },
   "outputs": [
    {
     "data": {
      "text/plain": [
       "Text(0,0.5,'Loss')"
      ]
     },
     "execution_count": 10,
     "metadata": {},
     "output_type": "execute_result"
    },
    {
     "data": {
      "image/png": "[encoded data removed]",
      "text/plain": [
       "<Figure size 432x288 with 1 Axes>"
      ]
     },
     "metadata": {},
     "output_type": "display_data"
    },
    {
     "data": {
      "image/png": "[encoded data removed]",
      "text/plain": [
       "<Figure size 432x288 with 1 Axes>"
      ]
     },
     "metadata": {},
     "output_type": "display_data"
    }
   ],
   "source": [
    "## Visualizamos curvas de entrenamiento\n",
    "\n",
    "plt.figure()\n",
    "plt.title(\"Accuracy vs epochs\")\n",
    "plt.plot(history_3hl.history['acc'])\n",
    "plt.plot(history_3hl.history['val_acc'])\n",
    "plt.legend(['Training Accuracy', 'Validation Accuracy'])\n",
    "plt.xlabel(\"Epoch\")\n",
    "plt.ylabel(\"Accuracy\")\n",
    "\n",
    "\n",
    "plt.figure()\n",
    "plt.title(\"Loss vs epochs\")\n",
    "plt.plot(history_3hl.history['loss'])\n",
    "plt.plot(history_3hl.history['val_loss'])\n",
    "plt.legend(['Training Loss', 'Validation Loss'])\n",
    "plt.xlabel(\"Epoch\")\n",
    "plt.ylabel(\"Loss\")"
   ]
  },
  {
   "cell_type": "code",
   "execution_count": null,
   "metadata": {
    "colab": {},
    "colab_type": "code",
    "id": "F8fF7FOo__Qi"
   },
   "outputs": [],
   "source": []
  },
  {
   "cell_type": "markdown",
   "metadata": {},
   "source": [
    "Red Fully Connected - 5 Capas Ocultas"
   ]
  },
  {
   "cell_type": "code",
   "execution_count": 11,
   "metadata": {
    "colab": {},
    "colab_type": "code",
    "id": "WihLrvjA__Tm"
   },
   "outputs": [],
   "source": [
    "model_5hl = Sequential()\n",
    "model_5hl.add(Dense(512, input_shape=(784,), activation=\"relu\"))\n",
    "model_5hl.add(Dense(1024, activation=\"relu\"))\n",
    "model_5hl.add(Dense(1024, activation=\"relu\"))\n",
    "model_5hl.add(Dense(1024, activation=\"relu\"))\n",
    "model_5hl.add(Dense(512, activation=\"relu\"))\n",
    "model_5hl.add(Dense(10, activation=\"softmax\"))\n",
    "\n",
    "model_5hl.compile(\n",
    "    loss='categorical_crossentropy',\n",
    "    metrics=['accuracy'],\n",
    "    optimizer='adam'\n",
    ")"
   ]
  },
  {
   "cell_type": "code",
   "execution_count": 12,
   "metadata": {
    "colab": {
     "base_uri": "https://localhost:8080/",
     "height": 714
    },
    "colab_type": "code",
    "executionInfo": {
     "elapsed": 95678,
     "status": "ok",
     "timestamp": 1578104718979,
     "user": {
      "displayName": "Mario Ferreyra",
      "photoUrl": "https://lh3.googleusercontent.com/a-/AAuE7mC3ALq72FIGdXTnw1XggOwOgPC7wztJCvlXdaEk2w=s64",
      "userId": "00857178684086436690"
     },
     "user_tz": 180
    },
    "id": "OKvltBpB__ZE",
    "outputId": "76ebe659-2825-4202-d64c-85b1141f1bb6"
   },
   "outputs": [
    {
     "name": "stdout",
     "output_type": "stream",
     "text": [
      "Train on 55000 samples, validate on 5000 samples\n",
      "Epoch 1/20\n",
      "55000/55000 [==============================] - 23s 412us/step - loss: 0.2396 - acc: 0.9275 - val_loss: 0.1137 - val_acc: 0.9662\n",
      "Epoch 2/20\n",
      "55000/55000 [==============================] - 22s 397us/step - loss: 0.1053 - acc: 0.9692 - val_loss: 0.1000 - val_acc: 0.9686\n",
      "Epoch 3/20\n",
      "55000/55000 [==============================] - 22s 403us/step - loss: 0.0765 - acc: 0.9772 - val_loss: 0.0919 - val_acc: 0.9752\n",
      "Epoch 4/20\n",
      "55000/55000 [==============================] - 22s 399us/step - loss: 0.0528 - acc: 0.9838 - val_loss: 0.0956 - val_acc: 0.9764\n",
      "Epoch 5/20\n",
      "55000/55000 [==============================] - 22s 399us/step - loss: 0.0497 - acc: 0.9858 - val_loss: 0.1267 - val_acc: 0.9664\n",
      "Epoch 6/20\n",
      "55000/55000 [==============================] - 22s 401us/step - loss: 0.0396 - acc: 0.9885 - val_loss: 0.0741 - val_acc: 0.9822\n",
      "Epoch 7/20\n",
      "55000/55000 [==============================] - 22s 403us/step - loss: 0.0406 - acc: 0.9891 - val_loss: 0.1016 - val_acc: 0.9748\n",
      "Epoch 8/20\n",
      "55000/55000 [==============================] - 22s 400us/step - loss: 0.0312 - acc: 0.9913 - val_loss: 0.0946 - val_acc: 0.9788\n",
      "Epoch 9/20\n",
      "55000/55000 [==============================] - 22s 400us/step - loss: 0.0278 - acc: 0.9920 - val_loss: 0.1148 - val_acc: 0.9768\n",
      "Epoch 10/20\n",
      "55000/55000 [==============================] - 22s 395us/step - loss: 0.0338 - acc: 0.9909 - val_loss: 0.0974 - val_acc: 0.9798\n",
      "Epoch 11/20\n",
      "55000/55000 [==============================] - 22s 395us/step - loss: 0.0183 - acc: 0.9952 - val_loss: 0.0880 - val_acc: 0.9804\n",
      "Epoch 12/20\n",
      "55000/55000 [==============================] - 22s 397us/step - loss: 0.0249 - acc: 0.9936 - val_loss: 0.0967 - val_acc: 0.9804\n",
      "Epoch 13/20\n",
      "55000/55000 [==============================] - 22s 401us/step - loss: 0.0257 - acc: 0.9930 - val_loss: 0.0989 - val_acc: 0.9802\n",
      "Epoch 14/20\n",
      "55000/55000 [==============================] - 22s 401us/step - loss: 0.0224 - acc: 0.9942 - val_loss: 0.1058 - val_acc: 0.9798\n",
      "Epoch 15/20\n",
      "55000/55000 [==============================] - 22s 395us/step - loss: 0.0215 - acc: 0.9949 - val_loss: 0.0993 - val_acc: 0.9820\n",
      "Epoch 16/20\n",
      "55000/55000 [==============================] - 22s 392us/step - loss: 0.0195 - acc: 0.9950 - val_loss: 0.1253 - val_acc: 0.9784\n",
      "Epoch 17/20\n",
      "55000/55000 [==============================] - 22s 394us/step - loss: 0.0167 - acc: 0.9958 - val_loss: 0.1127 - val_acc: 0.9802\n",
      "Epoch 18/20\n",
      "55000/55000 [==============================] - 22s 392us/step - loss: 0.0165 - acc: 0.9960 - val_loss: 0.1147 - val_acc: 0.9806\n",
      "Epoch 19/20\n",
      "55000/55000 [==============================] - 22s 392us/step - loss: 0.0159 - acc: 0.9961 - val_loss: 0.1269 - val_acc: 0.9804\n",
      "Epoch 20/20\n",
      "55000/55000 [==============================] - 22s 409us/step - loss: 0.0190 - acc: 0.9958 - val_loss: 0.1492 - val_acc: 0.9764\n"
     ]
    }
   ],
   "source": [
    "BATCH_SIZE = 128\n",
    "NUM_EPOCHS = 20\n",
    "\n",
    "history_5hl = model_5hl.fit(\n",
    "    X_train, y_train,\n",
    "    batch_size=BATCH_SIZE,\n",
    "    epochs=NUM_EPOCHS,\n",
    "    verbose=1,\n",
    "    validation_data=(X_val, y_val)\n",
    ")"
   ]
  },
  {
   "cell_type": "code",
   "execution_count": 13,
   "metadata": {
    "colab": {
     "base_uri": "https://localhost:8080/",
     "height": 590
    },
    "colab_type": "code",
    "executionInfo": {
     "elapsed": 96337,
     "status": "ok",
     "timestamp": 1578104720100,
     "user": {
      "displayName": "Mario Ferreyra",
      "photoUrl": "https://lh3.googleusercontent.com/a-/AAuE7mC3ALq72FIGdXTnw1XggOwOgPC7wztJCvlXdaEk2w=s64",
      "userId": "00857178684086436690"
     },
     "user_tz": 180
    },
    "id": "SuyZuo0___XY",
    "outputId": "c35da6f9-4ada-4d5c-b55c-3f14d7140580"
   },
   "outputs": [
    {
     "data": {
      "text/plain": [
       "Text(0,0.5,'Loss')"
      ]
     },
     "execution_count": 13,
     "metadata": {},
     "output_type": "execute_result"
    },
    {
     "data": {
      "image/png": "[encoded data removed]",
      "text/plain": [
       "<Figure size 432x288 with 1 Axes>"
      ]
     },
     "metadata": {},
     "output_type": "display_data"
    },
    {
     "data": {
      "image/png": "[encoded data removed]",
      "text/plain": [
       "<Figure size 432x288 with 1 Axes>"
      ]
     },
     "metadata": {},
     "output_type": "display_data"
    }
   ],
   "source": [
    "## Visualizamos curvas de entrenamiento\n",
    "\n",
    "plt.figure()\n",
    "plt.title(\"Accuracy vs epochs\")\n",
    "plt.plot(history_5hl.history['acc'])\n",
    "plt.plot(history_5hl.history['val_acc'])\n",
    "plt.legend(['Training Accuracy', 'Validation Accuracy'])\n",
    "plt.xlabel(\"Epoch\")\n",
    "plt.ylabel(\"Accuracy\")\n",
    "\n",
    "\n",
    "plt.figure()\n",
    "plt.title(\"Loss vs epochs\")\n",
    "plt.plot(history_5hl.history['loss'])\n",
    "plt.plot(history_5hl.history['val_loss'])\n",
    "plt.legend(['Training Loss', 'Validation Loss'])\n",
    "plt.xlabel(\"Epoch\")\n",
    "plt.ylabel(\"Loss\")"
   ]
  },
  {
   "cell_type": "markdown",
   "metadata": {},
   "source": [
    "**Conclusión**: Las dos redes overfittean, pero la que menos overfitting presenta es la red con 3 capas ocultas."
   ]
  },
  {
   "cell_type": "markdown",
   "metadata": {},
   "source": [
    "---"
   ]
  },
  {
   "cell_type": "markdown",
   "metadata": {},
   "source": [
    "> Ejercicio 3\n",
    "\n",
    "Use la comparación anterior para elegir un modelo.\n",
    "\n",
    "Realice las predicciones en el conjunto de test y grafique 9 imágenes mal clasificada por el modelo elegido."
   ]
  },
  {
   "cell_type": "code",
   "execution_count": 14,
   "metadata": {
    "colab": {
     "base_uri": "https://localhost:8080/",
     "height": 68
    },
    "colab_type": "code",
    "executionInfo": {
     "elapsed": 49882,
     "status": "ok",
     "timestamp": 1578104670347,
     "user": {
      "displayName": "Mario Ferreyra",
      "photoUrl": "https://lh3.googleusercontent.com/a-/AAuE7mC3ALq72FIGdXTnw1XggOwOgPC7wztJCvlXdaEk2w=s64",
      "userId": "00857178684086436690"
     },
     "user_tz": 180
    },
    "id": "Xx7d2yn2-MU_",
    "outputId": "a23ad8e5-1657-4d52-b39d-73d8e68bcec0"
   },
   "outputs": [
    {
     "name": "stdout",
     "output_type": "stream",
     "text": [
      "10000/10000 [==============================] - 1s 67us/step\n",
      "Test Loss    : 0.1029824515523373\n",
      "Test Accuracy: 0.9811\n"
     ]
    }
   ],
   "source": [
    "score_3hl = model_3hl.evaluate(X_test, y_test, verbose=1)\n",
    "print(f'Test Loss    : {score_3hl[0]}')\n",
    "print(f'Test Accuracy: {score_3hl[1]}')"
   ]
  },
  {
   "cell_type": "code",
   "execution_count": 15,
   "metadata": {
    "colab": {
     "base_uri": "https://localhost:8080/",
     "height": 68
    },
    "colab_type": "code",
    "executionInfo": {
     "elapsed": 1892,
     "status": "ok",
     "timestamp": 1578105025373,
     "user": {
      "displayName": "Mario Ferreyra",
      "photoUrl": "https://lh3.googleusercontent.com/a-/AAuE7mC3ALq72FIGdXTnw1XggOwOgPC7wztJCvlXdaEk2w=s64",
      "userId": "00857178684086436690"
     },
     "user_tz": 180
    },
    "id": "8BZZwOcqE-Lb",
    "outputId": "37099548-2b11-4617-bec3-82abf05bb5a8"
   },
   "outputs": [
    {
     "data": {
      "text/plain": [
       "array([[0., 0., 0., ..., 1., 0., 0.],\n",
       "       [0., 0., 1., ..., 0., 0., 0.],\n",
       "       [0., 1., 0., ..., 0., 0., 0.],\n",
       "       ...,\n",
       "       [0., 0., 0., ..., 0., 0., 0.],\n",
       "       [0., 0., 0., ..., 0., 0., 0.],\n",
       "       [0., 0., 0., ..., 0., 0., 0.]])"
      ]
     },
     "metadata": {},
     "output_type": "display_data"
    },
    {
     "data": {
      "text/plain": [
       "array([7, 2, 1, ..., 4, 5, 6])"
      ]
     },
     "metadata": {},
     "output_type": "display_data"
    }
   ],
   "source": [
    "y_pred = model_3hl.predict_classes(X_test)\n",
    "\n",
    "display(y_test)\n",
    "display(y_pred)"
   ]
  },
  {
   "cell_type": "code",
   "execution_count": 16,
   "metadata": {},
   "outputs": [
    {
     "data": {
      "text/plain": [
       "array([[0., 0., 0., ..., 1., 0., 0.],\n",
       "       [0., 0., 1., ..., 0., 0., 0.],\n",
       "       [0., 1., 0., ..., 0., 0., 0.],\n",
       "       ...,\n",
       "       [0., 0., 0., ..., 0., 0., 0.],\n",
       "       [0., 0., 0., ..., 0., 0., 0.],\n",
       "       [0., 0., 0., ..., 0., 0., 0.]])"
      ]
     },
     "metadata": {},
     "output_type": "display_data"
    }
   ],
   "source": [
    "enc = OneHotEncoder()\n",
    "y_pred_onehot = enc.fit_transform(y_pred.reshape(-1, 1)).toarray()\n",
    "\n",
    "display(y_pred_onehot)"
   ]
  },
  {
   "cell_type": "code",
   "execution_count": 17,
   "metadata": {},
   "outputs": [
    {
     "data": {
      "image/png": "[encoded data removed]",
      "text/plain": [
       "<Figure size 1080x1080 with 9 Axes>"
      ]
     },
     "metadata": {},
     "output_type": "display_data"
    }
   ],
   "source": [
    "idxs_wrong_pred = np.array([i for i in range(len(y_test)) if (y_pred_onehot[i] != y_test[i]).any()])\n",
    "\n",
    "# Visualizamos algunas imagenes\n",
    "fig, ax = plt.subplots(3, 3, figsize=[15, 15])\n",
    "\n",
    "for j in range(3):\n",
    "    for i in range(3):\n",
    "        for idx in np.random.choice(idxs_wrong_pred, 9):            \n",
    "            image = X_test[idx]\n",
    "            ground_truth = int(enc.inverse_transform(y_test[idx].reshape(1, -1))[0][0])\n",
    "            pred = int(enc.inverse_transform(y_pred_onehot[idx].reshape(1, -1))[0][0])\n",
    "\n",
    "            ax[i,j].imshow(image.reshape(28, 28), 'gray')\n",
    "            ax[i,j].set_title(f'Pred: {pred} / GT: {ground_truth}', color='r')\n",
    "            ax[i,j].set_xticks([])\n",
    "            ax[i,j].set_yticks([])\n",
    "\n",
    "# fig.subplots_adjust(wspace=0.1, hspace=0)\n",
    "# plt.title(\"9 imágenes mal clasificada en el conjunto de test\")\n",
    "plt.show()"
   ]
  },
  {
   "cell_type": "markdown",
   "metadata": {},
   "source": [
    "---"
   ]
  },
  {
   "cell_type": "markdown",
   "metadata": {},
   "source": [
    "> Ejercicio 4\n",
    "\n",
    "Defina dos redes convolucionales diferentes que sean capaces de clasificar la base\n",
    "MNIST.\n",
    "\n",
    "Utilice para entrenar ambas la base de entrenamiento aumentada (por 21=3x3x3)\n",
    "utilizando rotación, escala y traslación."
   ]
  },
  {
   "cell_type": "code",
   "execution_count": 18,
   "metadata": {},
   "outputs": [],
   "source": [
    "X_train = mnist.train.images\n",
    "y_train = mnist.train.labels\n",
    "\n",
    "X_val = mnist.validation.images\n",
    "y_val = mnist.validation.labels\n",
    "\n",
    "X_test = mnist.test.images\n",
    "y_test = mnist.test.labels"
   ]
  },
  {
   "cell_type": "code",
   "execution_count": 19,
   "metadata": {},
   "outputs": [],
   "source": [
    "X_train = X_train.reshape(55000, 28, 28, 1)\n",
    "X_val = X_val.reshape(5000, 28, 28, 1)\n",
    "X_test = X_test.reshape(10000, 28, 28, 1)"
   ]
  },
  {
   "cell_type": "code",
   "execution_count": 20,
   "metadata": {},
   "outputs": [
    {
     "name": "stdout",
     "output_type": "stream",
     "text": [
      "X_train shape: (55000, 28, 28, 1)\n",
      "y_train shape: (55000, 10)\n",
      "\n",
      "X_val shape  : (5000, 28, 28, 1)\n",
      "y_val shape  : (5000, 10)\n",
      "\n",
      "X_test shape : (10000, 28, 28, 1)\n",
      "y_test shape : (10000, 10)\n"
     ]
    }
   ],
   "source": [
    "print(f\"X_train shape: {X_train.shape}\")\n",
    "print(f\"y_train shape: {y_train.shape}\")\n",
    "print()\n",
    "print(f\"X_val shape  : {X_val.shape}\")\n",
    "print(f\"y_val shape  : {y_val.shape}\")\n",
    "print()\n",
    "print(f\"X_test shape : {X_test.shape}\")\n",
    "print(f\"y_test shape : {y_test.shape}\")"
   ]
  },
  {
   "cell_type": "code",
   "execution_count": 21,
   "metadata": {},
   "outputs": [],
   "source": [
    "##### Some Constants #####\n",
    "IMG_ROWS = 28\n",
    "IMG_COLS = 28\n",
    "NUM_CLASSES = 10\n",
    "\n",
    "BATCH_SIZE = 128\n",
    "NUM_EPOCHS = 20"
   ]
  },
  {
   "cell_type": "code",
   "execution_count": 22,
   "metadata": {},
   "outputs": [],
   "source": [
    "### Data Augmentation ###\n",
    "\n",
    "# Training data generator\n",
    "datagen_train = ImageDataGenerator(\n",
    "    # rescale=1./255,  # We also can make a rescale on the data\n",
    "    rotation_range=10,\n",
    "    width_shift_range=0.2,\n",
    "    height_shift_range=0.2\n",
    ")\n",
    "\n",
    "# Validation data generator\n",
    "datagen_val = ImageDataGenerator(\n",
    "    # rescale=1./255,  # We also can make a rescale on the data\n",
    ")\n",
    "\n",
    "#########################"
   ]
  },
  {
   "cell_type": "markdown",
   "metadata": {},
   "source": [
    "CNN sin dropout"
   ]
  },
  {
   "cell_type": "code",
   "execution_count": 23,
   "metadata": {},
   "outputs": [
    {
     "name": "stdout",
     "output_type": "stream",
     "text": [
      "WARNING:tensorflow:From /home/ubuntu/miniconda3/envs/mlip/lib/python3.6/site-packages/keras/backend/tensorflow_backend.py:4267: The name tf.nn.max_pool is deprecated. Please use tf.nn.max_pool2d instead.\n",
      "\n"
     ]
    }
   ],
   "source": [
    "inputs = Input(shape=(IMG_ROWS, IMG_COLS, 1))\n",
    "\n",
    "conv1 = Conv2D(64, 5, activation=\"relu\")(inputs)\n",
    "maxPool1 = MaxPooling2D(pool_size=(2, 2))(conv1)\n",
    "\n",
    "conv2 = Conv2D(128, 3, activation=\"relu\")(maxPool1)\n",
    "maxPool2 = MaxPooling2D(pool_size=(2, 2))(conv2)\n",
    "\n",
    "flatten = Flatten()(maxPool2)\n",
    "\n",
    "dense1 = Dense(256, activation=\"sigmoid\")(flatten)\n",
    "dense2 = Dense(64, activation=\"sigmoid\")(dense1)\n",
    "\n",
    "outputs = Dense(NUM_CLASSES, activation=\"softmax\")(dense2)\n",
    "\n",
    "model_cnn1 = Model(\n",
    "    inputs=inputs,\n",
    "    outputs=outputs\n",
    ")\n",
    "\n",
    "model_cnn1.compile(\n",
    "    optimizer='adam',\n",
    "    loss='categorical_crossentropy',\n",
    "    metrics=['accuracy']\n",
    ")"
   ]
  },
  {
   "cell_type": "code",
   "execution_count": 24,
   "metadata": {},
   "outputs": [
    {
     "name": "stdout",
     "output_type": "stream",
     "text": [
      "Model: \"model_1\"\n",
      "_________________________________________________________________\n",
      "Layer (type)                 Output Shape              Param #   \n",
      "=================================================================\n",
      "input_1 (InputLayer)         (None, 28, 28, 1)         0         \n",
      "_________________________________________________________________\n",
      "conv2d_1 (Conv2D)            (None, 24, 24, 64)        1664      \n",
      "_________________________________________________________________\n",
      "max_pooling2d_1 (MaxPooling2 (None, 12, 12, 64)        0         \n",
      "_________________________________________________________________\n",
      "conv2d_2 (Conv2D)            (None, 10, 10, 128)       73856     \n",
      "_________________________________________________________________\n",
      "max_pooling2d_2 (MaxPooling2 (None, 5, 5, 128)         0         \n",
      "_________________________________________________________________\n",
      "flatten_1 (Flatten)          (None, 3200)              0         \n",
      "_________________________________________________________________\n",
      "dense_11 (Dense)             (None, 256)               819456    \n",
      "_________________________________________________________________\n",
      "dense_12 (Dense)             (None, 64)                16448     \n",
      "_________________________________________________________________\n",
      "dense_13 (Dense)             (None, 10)                650       \n",
      "=================================================================\n",
      "Total params: 912,074\n",
      "Trainable params: 912,074\n",
      "Non-trainable params: 0\n",
      "_________________________________________________________________\n"
     ]
    }
   ],
   "source": [
    "model_cnn1.summary()"
   ]
  },
  {
   "cell_type": "code",
   "execution_count": 25,
   "metadata": {},
   "outputs": [
    {
     "name": "stdout",
     "output_type": "stream",
     "text": [
      "Epoch 1/20\n",
      "429/429 [==============================] - 52s 122ms/step - loss: 0.7443 - acc: 0.7946 - val_loss: 0.1806 - val_acc: 0.9529\n",
      "Epoch 2/20\n",
      "429/429 [==============================] - 52s 121ms/step - loss: 0.1993 - acc: 0.9455 - val_loss: 0.0984 - val_acc: 0.9733\n",
      "Epoch 3/20\n",
      "429/429 [==============================] - 52s 121ms/step - loss: 0.1323 - acc: 0.9617 - val_loss: 0.0674 - val_acc: 0.9803\n",
      "Epoch 4/20\n",
      "429/429 [==============================] - 52s 120ms/step - loss: 0.1043 - acc: 0.9689 - val_loss: 0.0541 - val_acc: 0.9854\n",
      "Epoch 5/20\n",
      "429/429 [==============================] - 52s 121ms/step - loss: 0.0828 - acc: 0.9750 - val_loss: 0.0444 - val_acc: 0.9869\n",
      "Epoch 6/20\n",
      "429/429 [==============================] - 52s 121ms/step - loss: 0.0711 - acc: 0.9787 - val_loss: 0.0542 - val_acc: 0.9844\n",
      "Epoch 7/20\n",
      "429/429 [==============================] - 52s 120ms/step - loss: 0.0651 - acc: 0.9800 - val_loss: 0.0420 - val_acc: 0.9865\n",
      "Epoch 8/20\n",
      "429/429 [==============================] - 51s 120ms/step - loss: 0.0574 - acc: 0.9826 - val_loss: 0.0391 - val_acc: 0.9856\n",
      "Epoch 9/20\n",
      "429/429 [==============================] - 51s 120ms/step - loss: 0.0547 - acc: 0.9834 - val_loss: 0.0578 - val_acc: 0.9840\n",
      "Epoch 10/20\n",
      "429/429 [==============================] - 51s 120ms/step - loss: 0.0470 - acc: 0.9855 - val_loss: 0.0412 - val_acc: 0.9897\n",
      "Epoch 11/20\n",
      "429/429 [==============================] - 51s 120ms/step - loss: 0.0484 - acc: 0.9850 - val_loss: 0.0445 - val_acc: 0.9852\n",
      "Epoch 12/20\n",
      "429/429 [==============================] - 51s 120ms/step - loss: 0.0452 - acc: 0.9861 - val_loss: 0.0440 - val_acc: 0.9865\n",
      "Epoch 13/20\n",
      "429/429 [==============================] - 51s 120ms/step - loss: 0.0453 - acc: 0.9859 - val_loss: 0.0341 - val_acc: 0.9889\n",
      "Epoch 14/20\n",
      "429/429 [==============================] - 51s 120ms/step - loss: 0.0430 - acc: 0.9869 - val_loss: 0.0245 - val_acc: 0.9922\n",
      "Epoch 15/20\n",
      "429/429 [==============================] - 52s 121ms/step - loss: 0.0383 - acc: 0.9885 - val_loss: 0.0421 - val_acc: 0.9865\n",
      "Epoch 16/20\n",
      "429/429 [==============================] - 51s 120ms/step - loss: 0.0390 - acc: 0.9878 - val_loss: 0.0323 - val_acc: 0.9906\n",
      "Epoch 17/20\n",
      "429/429 [==============================] - 52s 120ms/step - loss: 0.0380 - acc: 0.9882 - val_loss: 0.0289 - val_acc: 0.9899\n",
      "Epoch 18/20\n",
      "429/429 [==============================] - 52s 121ms/step - loss: 0.0340 - acc: 0.9895 - val_loss: 0.0257 - val_acc: 0.9920\n",
      "Epoch 19/20\n",
      "429/429 [==============================] - 52s 121ms/step - loss: 0.0338 - acc: 0.9892 - val_loss: 0.0261 - val_acc: 0.9908\n",
      "Epoch 20/20\n",
      "429/429 [==============================] - 52s 121ms/step - loss: 0.0329 - acc: 0.9896 - val_loss: 0.0294 - val_acc: 0.9926\n"
     ]
    }
   ],
   "source": [
    "history_cnn1 = model_cnn1.fit_generator(\n",
    "    datagen_train.flow(X_train, y_train, batch_size=BATCH_SIZE),\n",
    "    steps_per_epoch=X_train.shape[0] // BATCH_SIZE,\n",
    "    epochs=NUM_EPOCHS,\n",
    "    verbose=1,\n",
    "    validation_data=datagen_val.flow(X_val, y_val, batch_size=BATCH_SIZE),\n",
    "    validation_steps=X_val.shape[0] // BATCH_SIZE\n",
    ")"
   ]
  },
  {
   "cell_type": "code",
   "execution_count": 26,
   "metadata": {},
   "outputs": [
    {
     "data": {
      "text/plain": [
       "Text(0,0.5,'Loss')"
      ]
     },
     "execution_count": 26,
     "metadata": {},
     "output_type": "execute_result"
    },
    {
     "data": {
      "image/png": "[encoded data removed]",
      "text/plain": [
       "<Figure size 432x288 with 1 Axes>"
      ]
     },
     "metadata": {},
     "output_type": "display_data"
    },
    {
     "data": {
      "image/png": "[encoded data removed]",
      "text/plain": [
       "<Figure size 432x288 with 1 Axes>"
      ]
     },
     "metadata": {},
     "output_type": "display_data"
    }
   ],
   "source": [
    "## Visualizamos curvas de entrenamiento\n",
    "\n",
    "plt.figure()\n",
    "plt.title(\"Accuracy vs epochs\")\n",
    "plt.plot(history_cnn1.history['acc'])\n",
    "plt.plot(history_cnn1.history['val_acc'])\n",
    "plt.legend(['Training Accuracy', 'Validation Accuracy'])\n",
    "plt.xlabel(\"Epoch\")\n",
    "plt.ylabel(\"Accuracy\")\n",
    "\n",
    "\n",
    "plt.figure()\n",
    "plt.title(\"Loss vs epochs\")\n",
    "plt.plot(history_cnn1.history['loss'])\n",
    "plt.plot(history_cnn1.history['val_loss'])\n",
    "plt.legend(['Training Loss', 'Validation Loss'])\n",
    "plt.xlabel(\"Epoch\")\n",
    "plt.ylabel(\"Loss\")"
   ]
  },
  {
   "cell_type": "code",
   "execution_count": 30,
   "metadata": {},
   "outputs": [
    {
     "name": "stdout",
     "output_type": "stream",
     "text": [
      "10000/10000 [==============================] - 3s 266us/step\n",
      "Test Loss    : 0.028125276191858575\n",
      "Test Accuracy: 0.9915\n"
     ]
    }
   ],
   "source": [
    "score_cnn1 = model_cnn1.evaluate(X_test, y_test, verbose=1)\n",
    "print(f'Test Loss    : {score_cnn1[0]}')\n",
    "print(f'Test Accuracy: {score_cnn1[1]}')"
   ]
  },
  {
   "cell_type": "code",
   "execution_count": null,
   "metadata": {},
   "outputs": [],
   "source": []
  },
  {
   "cell_type": "markdown",
   "metadata": {},
   "source": [
    "CNN con dropout"
   ]
  },
  {
   "cell_type": "code",
   "execution_count": 27,
   "metadata": {},
   "outputs": [
    {
     "name": "stdout",
     "output_type": "stream",
     "text": [
      "WARNING:tensorflow:From /home/ubuntu/miniconda3/envs/mlip/lib/python3.6/site-packages/keras/backend/tensorflow_backend.py:2041: The name tf.nn.fused_batch_norm is deprecated. Please use tf.compat.v1.nn.fused_batch_norm instead.\n",
      "\n",
      "WARNING:tensorflow:From /home/ubuntu/miniconda3/envs/mlip/lib/python3.6/site-packages/keras/backend/tensorflow_backend.py:148: The name tf.placeholder_with_default is deprecated. Please use tf.compat.v1.placeholder_with_default instead.\n",
      "\n",
      "WARNING:tensorflow:From /home/ubuntu/miniconda3/envs/mlip/lib/python3.6/site-packages/keras/backend/tensorflow_backend.py:3733: calling dropout (from tensorflow.python.ops.nn_ops) with keep_prob is deprecated and will be removed in a future version.\n",
      "Instructions for updating:\n",
      "Please use `rate` instead of `keep_prob`. Rate should be set to `rate = 1 - keep_prob`.\n"
     ]
    }
   ],
   "source": [
    "inputs = Input(shape=(IMG_ROWS, IMG_COLS, 1))\n",
    "\n",
    "conv1 = Conv2D(64, 5, activation=None)(inputs)\n",
    "bn1 = BatchNormalization()(conv1)\n",
    "activation1 = Activation(\"relu\")(bn1)\n",
    "maxPool1 = MaxPooling2D(pool_size=(2, 2))(activation1)\n",
    "\n",
    "conv2 = Conv2D(128, 5, activation=None)(maxPool1)\n",
    "bn2 = BatchNormalization()(conv2)\n",
    "activation2 = Activation(\"relu\")(bn2)\n",
    "maxPool2 = MaxPooling2D(pool_size=(2, 2))(activation2)\n",
    "\n",
    "flatten = Flatten()(maxPool2)\n",
    "\n",
    "dense1 = Dense(256, activation=\"sigmoid\")(flatten)\n",
    "dense1 = Dropout(0.5)(dense1)\n",
    "\n",
    "dense2 = Dense(64, activation=\"sigmoid\")(dense1)\n",
    "dense2 = Dropout(0.5)(dense2)\n",
    "\n",
    "outputs = Dense(NUM_CLASSES, activation=\"softmax\")(dense2)\n",
    "\n",
    "model_cnn2 = Model(\n",
    "    inputs=inputs,\n",
    "    outputs=outputs\n",
    ")\n",
    "\n",
    "model_cnn2.compile(\n",
    "    optimizer='adam',\n",
    "    loss='categorical_crossentropy',\n",
    "    metrics=['accuracy']\n",
    ")"
   ]
  },
  {
   "cell_type": "code",
   "execution_count": 28,
   "metadata": {},
   "outputs": [
    {
     "name": "stdout",
     "output_type": "stream",
     "text": [
      "Epoch 1/20\n",
      "429/429 [==============================] - 122s 285ms/step - loss: 1.0040 - acc: 0.6955 - val_loss: 0.1691 - val_acc: 0.9663\n",
      "Epoch 2/20\n",
      "429/429 [==============================] - 121s 283ms/step - loss: 0.2789 - acc: 0.9346 - val_loss: 0.1184 - val_acc: 0.9680\n",
      "Epoch 3/20\n",
      "429/429 [==============================] - 121s 283ms/step - loss: 0.1983 - acc: 0.9516 - val_loss: 0.1295 - val_acc: 0.9622\n",
      "Epoch 4/20\n",
      "429/429 [==============================] - 122s 284ms/step - loss: 0.1598 - acc: 0.9584 - val_loss: 0.1322 - val_acc: 0.9602\n",
      "Epoch 5/20\n",
      "429/429 [==============================] - 122s 284ms/step - loss: 0.1443 - acc: 0.9627 - val_loss: 0.0407 - val_acc: 0.9881\n",
      "Epoch 6/20\n",
      "429/429 [==============================] - 121s 283ms/step - loss: 0.1271 - acc: 0.9677 - val_loss: 0.0788 - val_acc: 0.9766\n",
      "Epoch 7/20\n",
      "429/429 [==============================] - 121s 283ms/step - loss: 0.1221 - acc: 0.9684 - val_loss: 0.0918 - val_acc: 0.9709\n",
      "Epoch 8/20\n",
      "429/429 [==============================] - 121s 283ms/step - loss: 0.1135 - acc: 0.9710 - val_loss: 0.0438 - val_acc: 0.9854\n",
      "Epoch 9/20\n",
      "429/429 [==============================] - 122s 284ms/step - loss: 0.1016 - acc: 0.9733 - val_loss: 0.0424 - val_acc: 0.9860\n",
      "Epoch 10/20\n",
      "429/429 [==============================] - 121s 283ms/step - loss: 0.0956 - acc: 0.9745 - val_loss: 0.0957 - val_acc: 0.9684\n",
      "Epoch 11/20\n",
      "429/429 [==============================] - 121s 282ms/step - loss: 0.0938 - acc: 0.9760 - val_loss: 0.0363 - val_acc: 0.9889\n",
      "Epoch 12/20\n",
      "429/429 [==============================] - 121s 283ms/step - loss: 0.0883 - acc: 0.9775 - val_loss: 0.0347 - val_acc: 0.9893\n",
      "Epoch 13/20\n",
      "429/429 [==============================] - 121s 283ms/step - loss: 0.0867 - acc: 0.9775 - val_loss: 0.0796 - val_acc: 0.9770\n",
      "Epoch 14/20\n",
      "429/429 [==============================] - 121s 283ms/step - loss: 0.0820 - acc: 0.9790 - val_loss: 0.0527 - val_acc: 0.9838\n",
      "Epoch 15/20\n",
      "429/429 [==============================] - 121s 282ms/step - loss: 0.0811 - acc: 0.9789 - val_loss: 0.0385 - val_acc: 0.9887\n",
      "Epoch 16/20\n",
      "429/429 [==============================] - 121s 283ms/step - loss: 0.0790 - acc: 0.9794 - val_loss: 0.0320 - val_acc: 0.9901\n",
      "Epoch 17/20\n",
      "429/429 [==============================] - 121s 283ms/step - loss: 0.0752 - acc: 0.9808 - val_loss: 0.0471 - val_acc: 0.9838\n",
      "Epoch 18/20\n",
      "429/429 [==============================] - 121s 283ms/step - loss: 0.0717 - acc: 0.9820 - val_loss: 0.0283 - val_acc: 0.9920\n",
      "Epoch 19/20\n",
      "429/429 [==============================] - 122s 283ms/step - loss: 0.0711 - acc: 0.9829 - val_loss: 0.0721 - val_acc: 0.9795\n",
      "Epoch 20/20\n",
      "429/429 [==============================] - 121s 283ms/step - loss: 0.0670 - acc: 0.9829 - val_loss: 0.0273 - val_acc: 0.9914\n"
     ]
    }
   ],
   "source": [
    "history_cnn2 = model_cnn2.fit_generator(\n",
    "    datagen_train.flow(X_train, y_train, batch_size=BATCH_SIZE),\n",
    "    steps_per_epoch=X_train.shape[0] // BATCH_SIZE,\n",
    "    epochs=NUM_EPOCHS,\n",
    "    validation_data=datagen_val.flow(X_val, y_val, batch_size=BATCH_SIZE),\n",
    "    validation_steps=X_val.shape[0] // BATCH_SIZE\n",
    ")"
   ]
  },
  {
   "cell_type": "code",
   "execution_count": 29,
   "metadata": {},
   "outputs": [
    {
     "data": {
      "text/plain": [
       "Text(0,0.5,'Loss')"
      ]
     },
     "execution_count": 29,
     "metadata": {},
     "output_type": "execute_result"
    },
    {
     "data": {
      "image/png": "[encoded data removed]",
      "text/plain": [
       "<Figure size 432x288 with 1 Axes>"
      ]
     },
     "metadata": {},
     "output_type": "display_data"
    },
    {
     "data": {
      "image/png": "[encoded data removed]",
      "text/plain": [
       "<Figure size 432x288 with 1 Axes>"
      ]
     },
     "metadata": {},
     "output_type": "display_data"
    }
   ],
   "source": [
    "## Visualizamos curvas de entrenamiento\n",
    "\n",
    "plt.figure()\n",
    "plt.title(\"Accuracy vs epochs\")\n",
    "plt.plot(history_cnn2.history['acc'])\n",
    "plt.plot(history_cnn2.history['val_acc'])\n",
    "plt.legend(['Training Accuracy', 'Validation Accuracy'])\n",
    "plt.xlabel(\"Epoch\")\n",
    "plt.ylabel(\"Accuracy\")\n",
    "\n",
    "\n",
    "plt.figure()\n",
    "plt.title(\"Loss vs epochs\")\n",
    "plt.plot(history_cnn2.history['loss'])\n",
    "plt.plot(history_cnn2.history['val_loss'])\n",
    "plt.legend(['Training Loss', 'Validation Loss'])\n",
    "plt.xlabel(\"Epoch\")\n",
    "plt.ylabel(\"Loss\")"
   ]
  },
  {
   "cell_type": "code",
   "execution_count": 31,
   "metadata": {},
   "outputs": [
    {
     "name": "stdout",
     "output_type": "stream",
     "text": [
      "10000/10000 [==============================] - 6s 598us/step\n",
      "Test Loss    : 0.03212649761128705\n",
      "Test Accuracy: 0.9908\n"
     ]
    }
   ],
   "source": [
    "score_cnn2 = model_cnn2.evaluate(X_test, y_test, verbose=1)\n",
    "print(f'Test Loss    : {score_cnn2[0]}')\n",
    "print(f'Test Accuracy: {score_cnn2[1]}')"
   ]
  },
  {
   "cell_type": "markdown",
   "metadata": {
    "colab": {},
    "colab_type": "code",
    "id": "FiQyk4BhiLhJ"
   },
   "source": [
    "---"
   ]
  },
  {
   "cell_type": "markdown",
   "metadata": {},
   "source": [
    "> Ejercicio 5\n",
    "\n",
    "Describa en detalle una posible aplicación de las redes convolucionales vistas en el\n",
    "taller a un problema de clasificación en ciencia, el estado o en la industria."
   ]
  },
  {
   "cell_type": "markdown",
   "metadata": {},
   "source": [
    "**Atributador de Fashion**\n",
    "\n",
    "Una posible aplicacion de las redes convolucionales en la industria es un atributador de ropa, en el cual la red sea capaz de aprender si una remera es manga corta o manga largo, si tiene el cuello redondo o en escote V. Ademñas del color de la ropa.\n",
    "\n",
    "Este uso es muy util en los ecommerce cuando alguien quiere vender una ropa pero no detalla las caracteristicas de la misma, siendo la red muy util en este caso ayudando a los usuarios a buscar prendas por sus atributos."
   ]
  },
  {
   "cell_type": "code",
   "execution_count": null,
   "metadata": {},
   "outputs": [],
   "source": []
  }
 ],
 "metadata": {
  "accelerator": "GPU",
  "colab": {
   "collapsed_sections": [],
   "name": "TP2.ipynb",
   "provenance": []
  },
  "kernelspec": {
   "display_name": "mlip",
   "language": "python",
   "name": "mlip"
  },
  "language_info": {
   "codemirror_mode": {
    "name": "ipython",
    "version": 3
   },
   "file_extension": ".py",
   "mimetype": "text/x-python",
   "name": "python",
   "nbconvert_exporter": "python",
   "pygments_lexer": "ipython3",
   "version": "3.6.9"
  }
 },
 "nbformat": 4,
 "nbformat_minor": 4
}
