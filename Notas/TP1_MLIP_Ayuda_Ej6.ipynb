{
 "cells": [
  {
   "cell_type": "code",
   "execution_count": null,
   "metadata": {},
   "outputs": [],
   "source": [
    "%load_ext autoreload\n",
    "%autoreload 2\n",
    "\n",
    "%matplotlib inline"
   ]
  },
  {
   "cell_type": "markdown",
   "metadata": {},
   "source": [
    "### Curso-Taller 2019: Aprendizaje Automático e Imágenes en Python\n",
    "\n",
    "clase 24/10/2019\n",
    "\n",
    "#### Docentes:  Dra. Laura M. Vargas - Dra. Valeria S. Rulloni\n",
    "* Ayudantes: Sebastián Palacio- Axel Aguerreberry \n",
    "* Colaboradoras: Dra. Claudia Egea - Dra. Ana Carolina Maldonado"
   ]
  },
  {
   "cell_type": "code",
   "execution_count": null,
   "metadata": {},
   "outputs": [],
   "source": [
    "import numpy as np\n",
    "import pandas as pd\n",
    "import matplotlib.pyplot as plt\n",
    "import matplotlib.patches as mpatches\n",
    "import seaborn as sns\n",
    "import cv2\n",
    "import PIL\n",
    "import statistics\n",
    "\n",
    "from PIL import Image, ImageOps\n",
    "from sklearn.neighbors import KNeighborsClassifier"
   ]
  },
  {
   "cell_type": "code",
   "execution_count": null,
   "metadata": {},
   "outputs": [],
   "source": [
    "sns.set_style(\"whitegrid\")"
   ]
  },
  {
   "cell_type": "markdown",
   "metadata": {},
   "source": [
    "### Trabajo Práctico 1:"
   ]
  },
  {
   "cell_type": "markdown",
   "metadata": {},
   "source": [
    "> **Ejercicio 1**\n",
    "\n",
    "Realice y grafique una imagen con una cruz negra y fondo blanco."
   ]
  },
  {
   "cell_type": "code",
   "execution_count": null,
   "metadata": {},
   "outputs": [],
   "source": []
  },
  {
   "cell_type": "markdown",
   "metadata": {},
   "source": [
    "> **Ejercicio 2**\n",
    "\n",
    "Realice y grafique una imagen con una cruz blanca y fondo negro (negativo de la primera)."
   ]
  },
  {
   "cell_type": "code",
   "execution_count": null,
   "metadata": {},
   "outputs": [],
   "source": []
  },
  {
   "cell_type": "markdown",
   "metadata": {},
   "source": [
    "> **Ejercicio 3**\n",
    "\n",
    "Realice y grafique, una imagen con cuatro bandas horizontales de intensidad homogénea decreciente de  1 a 0 de arriba abajo."
   ]
  },
  {
   "cell_type": "code",
   "execution_count": null,
   "metadata": {},
   "outputs": [],
   "source": []
  },
  {
   "cell_type": "markdown",
   "metadata": {},
   "source": [
    "> **Ejercicio 4**\n",
    "\n",
    "Construir y graficar una imagen 128x128  dividida en cuatro cuadrados de colores: rojo, azul, amarillo y uno a elección."
   ]
  },
  {
   "cell_type": "code",
   "execution_count": null,
   "metadata": {},
   "outputs": [],
   "source": []
  },
  {
   "cell_type": "markdown",
   "metadata": {},
   "source": [
    "> **Ejercicio 5**\n",
    "\n",
    "Abrir una imagen guardada en un archivo, convertirla en Imagen monocroma, y graficar ambas imágenes a la par, colocarle título a ambas."
   ]
  },
  {
   "cell_type": "code",
   "execution_count": null,
   "metadata": {},
   "outputs": [],
   "source": []
  },
  {
   "cell_type": "markdown",
   "metadata": {},
   "source": [
    "> **Ejercicio 6** \n",
    "\n",
    "Construir y graficar una imagen a color que mezcle una imagen con paisaje a la que se le superponga una persona de otra imagen."
   ]
  },
  {
   "cell_type": "markdown",
   "metadata": {},
   "source": [
    "### Uso de ROI en OpenCV"
   ]
  },
  {
   "cell_type": "code",
   "execution_count": null,
   "metadata": {},
   "outputs": [],
   "source": [
    "img = cv2.imread('gato.jpg')  # Abrimos la imagen\n",
    "print(img.shape)  # Dimensiones de la image\n",
    "\n",
    "# Visualización:\n",
    "cv2.imshow('image', img)\n",
    "cv2.waitKey() \n",
    "cv2.destroyAllWindows()\n",
    "print('Es muy grande la imagen para visualizarla completa ')"
   ]
  },
  {
   "cell_type": "code",
   "execution_count": null,
   "metadata": {},
   "outputs": [],
   "source": [
    "# Intentamos cambiar el tamaño  de la ventana donde se muestra\n",
    "cv2.namedWindow('image2', cv2.WINDOW_NORMAL)\n",
    "cv2.imshow('image2', img)\n",
    "cv2.waitKey() \n",
    "cv2.destroyAllWindows()\n",
    "print('Se ve la imagen completa pero no quedan proporcionales los ejes, le cambiaremos el tamaño a la ventana de visualización pero de manera proporcional, 800 pixeles de alto es un buen número')"
   ]
  },
  {
   "cell_type": "code",
   "execution_count": null,
   "metadata": {},
   "outputs": [],
   "source": [
    "print(f'Alto de imagen original dividido 750 es = {img.shape[0]/750} usaremos un redondeo entero como escala')"
   ]
  },
  {
   "cell_type": "code",
   "execution_count": null,
   "metadata": {},
   "outputs": [],
   "source": [
    "escala = 4\n",
    "tam1 = int(img.shape[0]/escala)\n",
    "tam2 = int(img.shape[1]/escala)\n",
    "\n",
    "print(f'Nuevas dimensiones para visualizar: {tam1} {tam2}; filas y columnas originales reducidas por {escala}')\n",
    "\n",
    "cv2.namedWindow('image', cv2.WINDOW_NORMAL)\n",
    "cv2.resizeWindow('image', tam2, tam1)  # tam2=# x's = #columnas y #tam1=# y's = #filas        \n",
    "cv2.imshow('image', img)\n",
    "cv2.waitKey() \n",
    "cv2.destroyAllWindows()"
   ]
  },
  {
   "cell_type": "markdown",
   "metadata": {},
   "source": [
    "#### Selección de ROI"
   ]
  },
  {
   "cell_type": "code",
   "execution_count": null,
   "metadata": {},
   "outputs": [],
   "source": [
    "# Ajustes del tamaño de la ventana:\n",
    "cv2.namedWindow('delimite la ROI+ent+tecla', cv2.WINDOW_NORMAL)\n",
    "cv2.resizeWindow('delimite la ROI+ent+tecla', tam2, tam1)\n",
    "\n",
    "# Parámetros para el demarcado de la ROI\n",
    "showCrosshair = False\n",
    "fromCenter = True  # False\n",
    "\n",
    "# Demarcado manual de la ROI\n",
    "roi = cv2.selectROI('delimite la ROI+ent+tecla', img, fromCenter, showCrosshair)\n",
    "cv2.waitKey() \n",
    "cv2.destroyAllWindows()"
   ]
  },
  {
   "cell_type": "code",
   "execution_count": null,
   "metadata": {},
   "outputs": [],
   "source": [
    "print(f'ROI (columna, fila, anchocol, anchofila): {roi}')"
   ]
  },
  {
   "cell_type": "code",
   "execution_count": null,
   "metadata": {},
   "outputs": [],
   "source": [
    "f1 = roi[1]\n",
    "fu = roi[1] + roi[3]\n",
    "c1 = roi[0]\n",
    "cu = roi[0] + roi[2]\n",
    "print(f1, fu, c1, cu)\n",
    "\n",
    "recorte = img[f1:fu, c1:cu, :]\n",
    "print(recorte.shape)\n",
    "cv2.imshow('imagen recorte', recorte)\n",
    "cv2.waitKey() \n",
    "cv2.destroyAllWindows()"
   ]
  },
  {
   "cell_type": "code",
   "execution_count": null,
   "metadata": {},
   "outputs": [],
   "source": [
    "img2 = cv2.imread('paisaje.jpg')  # Abrimos la imagen\n",
    "print(img2.shape)  # Dimensiones de la image\n",
    "\n",
    "# Visualización:\n",
    "cv2.imshow('image',img2)\n",
    "cv2.waitKey() \n",
    "cv2.destroyAllWindows()\n",
    "\n",
    "print('Es muy grande la imagen para visualizarla completa ')"
   ]
  },
  {
   "cell_type": "code",
   "execution_count": null,
   "metadata": {},
   "outputs": [],
   "source": [
    "print(f'Alto de imagen original dividido 750 es = {img.shape[0]/750} usaremos un redondeo entero como escala')"
   ]
  },
  {
   "cell_type": "code",
   "execution_count": null,
   "metadata": {},
   "outputs": [],
   "source": [
    "# Visualización de la imagen 'paisaje.jpg' escalada\n",
    "escala = 3\n",
    "tam1 = int(img2.shape[0]/escala)\n",
    "tam2 = int(img2.shape[1]/escala)\n",
    "\n",
    "print(f'Nuevas dimensiones para visualizar: {tam1} {tam2}; filas y columnas originales reducidas por {escala}')\n",
    "\n",
    "cv2.namedWindow('image', cv2.WINDOW_NORMAL)\n",
    "cv2.resizeWindow('image', tam2, tam1)  # tam2=# x's = #columnas y #tam1=# y's = #filas        \n",
    "cv2.imshow('image', img2)\n",
    "cv2.waitKey() \n",
    "cv2.destroyAllWindows()"
   ]
  },
  {
   "cell_type": "markdown",
   "metadata": {},
   "source": [
    "#### Primera aproximación de superposición, considerando la ubicación pero no el tamaño adaptado."
   ]
  },
  {
   "cell_type": "code",
   "execution_count": null,
   "metadata": {},
   "outputs": [],
   "source": [
    "imagen_nueva = img2.copy()\n",
    "\n",
    "print(img.shape)\n",
    "print(recorte.shape)\n",
    "print('Des-comentar la línea que sigue dará error pues el recorte se sale de rango en la imagen del paisaje')\n",
    "# imagen_nueva[f1:fu,c1:cu,:]=recorte"
   ]
  },
  {
   "cell_type": "markdown",
   "metadata": {},
   "source": [
    "como se sale de rango, restamos ubicamos el recorte F=400 filas hacia arriba (C=0, no se mueven las columnas, si queremos se modifican ambos pero con cuidado de no salirse de la imagen) y graficamos "
   ]
  },
  {
   "cell_type": "code",
   "execution_count": null,
   "metadata": {},
   "outputs": [],
   "source": [
    "F = 700\n",
    "C = 40\n",
    "imagen_nueva = img2.copy()  # Paisaje nuevo\n",
    "imagen_nueva[(f1-F):(fu-F), (c1-C):(cu-C),:] = recorte  # Sobre-escribimos el recorte sobre el paisaje \n",
    "\n",
    "# Graficamos con la misma escala para paisaje original\n",
    "cv2.namedWindow('image', cv2.WINDOW_NORMAL)\n",
    "cv2.resizeWindow('image', tam2, tam1)  # tam2=# x's = #columnas y #tam1=# y's = #filas        \n",
    "cv2.imshow('image', imagen_nueva)\n",
    "cv2.waitKey() \n",
    "cv2.destroyAllWindows()"
   ]
  },
  {
   "cell_type": "markdown",
   "metadata": {},
   "source": [
    "> **Ejercicio 7**\n",
    "\n",
    "Cargar una imagen monocroma y realizar por separado las siguientes modificaciones :  Aclararla, Oscurecerla y Obtener el negativo."
   ]
  },
  {
   "cell_type": "code",
   "execution_count": null,
   "metadata": {},
   "outputs": [],
   "source": []
  },
  {
   "cell_type": "code",
   "execution_count": null,
   "metadata": {},
   "outputs": [],
   "source": []
  },
  {
   "cell_type": "markdown",
   "metadata": {},
   "source": [
    "> **Ejercicio 8**\n",
    "\n",
    "Obtener el valor de gris más repetido en cada imagen."
   ]
  },
  {
   "cell_type": "code",
   "execution_count": null,
   "metadata": {},
   "outputs": [],
   "source": []
  },
  {
   "cell_type": "markdown",
   "metadata": {},
   "source": [
    "> **Ejercicio 9**\n",
    "\n",
    "Aplicar una máscara  de suavizado de 5x5 a la componente roja de una imagen a elección, un filtro de bordes a la componente verde componer una imagen a color donde se reemplace las componentes rojas y verdes modificadas."
   ]
  },
  {
   "cell_type": "code",
   "execution_count": null,
   "metadata": {},
   "outputs": [],
   "source": []
  },
  {
   "cell_type": "markdown",
   "metadata": {},
   "source": [
    "> **Ejercicio 10**\n",
    "\n",
    "Binarice una imagen a elección buscando demarcar uno o varios objetos en esta (puede ser eligiendo un umbral a partir del histograma de una imagen monocroma).\n",
    "\n",
    "Al resultado aplicarle 2 o 3 filtros morfológicos en el orden que crea adecuado para mejorar la segmentación con elemento  estructurante creado por usted, según crea adecuado para el problema (justifique)."
   ]
  },
  {
   "cell_type": "code",
   "execution_count": null,
   "metadata": {},
   "outputs": [],
   "source": []
  },
  {
   "cell_type": "markdown",
   "metadata": {},
   "source": [
    "> **Ejercicio 11**\n",
    "\n",
    "Mostrar en una misma ventana, la imagen original, la binaria y la resultante de aplicarle los filtros.\n",
    "\n",
    "Comente si tuvo buenos resultados."
   ]
  },
  {
   "cell_type": "code",
   "execution_count": null,
   "metadata": {},
   "outputs": [],
   "source": []
  },
  {
   "cell_type": "markdown",
   "metadata": {},
   "source": [
    "> **Ejercicio 12**\n",
    "\n",
    "Encuentre bordes o el contorno del objeto u objetos en la imagen binaria utilizando operaciones morfológicas."
   ]
  },
  {
   "cell_type": "code",
   "execution_count": null,
   "metadata": {},
   "outputs": [],
   "source": []
  },
  {
   "cell_type": "markdown",
   "metadata": {},
   "source": [
    "> **Ejercicio 13**\n",
    "\n",
    "Cargar una imagen a color (a elección), que a su criterio tenga entre 2 y 7 clases en ella:\n",
    "- a) Explique coloquialmente la cantidad y el criterio visual que utilizó para identificarlas.\n",
    "\n",
    "- b) Agregue una o dos características (capas, bandas, etc, pueden ser bordes de alguna componente) más a la imagen que considere puedan ser relevantes para la clasificación. \n",
    "\n",
    "- c) Construya una muestra de entrenamiento de la imagen utilizando todas las características.\n",
    "\n",
    "- d) Realice un análisis exploratorio con gráficos de la muestra de entrenamiento discriminando con diferente color cada clase.\n",
    "\n",
    "- e) Clasifíquela utilizando la muestra de entrenamiento y  K-NN  (k vecinos más cercanos). O con el método que guste.\n",
    "\n",
    "- f) Generar una máscara o elemento estructural, y realice con éste una mejora de la clasificación obtenida en el ejercicio anterior utilizando un filtro de moda.  \n",
    "     Mirando el resultado final decida si considera que la clasificación fue buena y si la cantidad de clases elegida fue la adecuada."
   ]
  },
  {
   "cell_type": "code",
   "execution_count": null,
   "metadata": {},
   "outputs": [],
   "source": []
  }
 ],
 "metadata": {
  "kernelspec": {
   "display_name": "Python 3",
   "language": "python",
   "name": "python3"
  },
  "language_info": {
   "codemirror_mode": {
    "name": "ipython",
    "version": 3
   },
   "file_extension": ".py",
   "mimetype": "text/x-python",
   "name": "python",
   "nbconvert_exporter": "python",
   "pygments_lexer": "ipython3",
   "version": "3.6.9"
  }
 },
 "nbformat": 4,
 "nbformat_minor": 4
}
