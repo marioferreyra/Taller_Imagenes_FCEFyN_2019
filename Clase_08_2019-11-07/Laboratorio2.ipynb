{
 "cells": [
  {
   "cell_type": "code",
   "execution_count": 1,
   "metadata": {
    "colab": {},
    "colab_type": "code",
    "id": "WF7lh5ceAZF-"
   },
   "outputs": [],
   "source": [
    "%load_ext autoreload\n",
    "%autoreload 2\n",
    "\n",
    "%matplotlib inline"
   ]
  },
  {
   "cell_type": "markdown",
   "metadata": {
    "colab_type": "text",
    "id": "ig_EUK7UpGHE"
   },
   "source": [
    "### Curso-Taller 2019: Aprendizaje Automático e Imágenes en Python \n",
    "* Docentes:  Dra. Valeria S. Rulloni - Dra. Laura M. Vargas\n",
    "* Ayudantes: Axel Aguerreberry - Sebastián Palacio\n",
    "* Colaboradoras: Dra. Ana Carolina Maldonado - Dra. Claudia Egea\n",
    "\n",
    "### Temario a desarrollar:\n",
    "*\tUso y herramientas básicas de Python\n",
    "*\tImágenes digitales: tipos (binarias, monocromáticas y a color)\n",
    "*\tHistograma. Mejora de la imagen: contraste, filtros: suavizado y detección de bordes.\n",
    "*\tUmbralado y Binarización. Operaciones Morfológicas: erosión, dilatación, cierre y apertura.\n",
    "*\t**Clasificación de imágenes.**\n",
    "*\t**Aprendizaje automático**\n",
    "*\t**Aprendizaje profundo: Redes neuronales**\n",
    "*\tAplicaciones: Grafos para segmentación de imágenes, entre otras.\n",
    "\n"
   ]
  },
  {
   "cell_type": "markdown",
   "metadata": {
    "colab_type": "text",
    "id": "YofqDHYMpGHP"
   },
   "source": [
    "# Laboratorio Parte 2: Keras, MNIST data y redes neuronales convolucionales (CNN)"
   ]
  },
  {
   "cell_type": "code",
   "execution_count": 2,
   "metadata": {
    "colab": {
     "base_uri": "https://localhost:8080/",
     "height": 80
    },
    "colab_type": "code",
    "executionInfo": {
     "elapsed": 4258,
     "status": "ok",
     "timestamp": 1573149660962,
     "user": {
      "displayName": "Mario Ferreyra",
      "photoUrl": "https://lh3.googleusercontent.com/a-/AAuE7mC3ALq72FIGdXTnw1XggOwOgPC7wztJCvlXdaEk2w=s64",
      "userId": "00857178684086436690"
     },
     "user_tz": 180
    },
    "id": "IHTAzB7epGHR",
    "outputId": "902e9870-08fe-4091-8fa7-327aec501010"
   },
   "outputs": [
    {
     "name": "stderr",
     "output_type": "stream",
     "text": [
      "Using TensorFlow backend.\n"
     ]
    }
   ],
   "source": [
    "# importo librerias necesarias\n",
    "import numpy as np\n",
    "import matplotlib\n",
    "import matplotlib.pyplot as plt\n",
    "import seaborn as sns\n",
    "import tensorflow as tf\n",
    "import keras\n",
    "\n",
    "from tensorflow.examples.tutorials.mnist import input_data\n",
    "from keras.layers import Input, Dense, Conv2D, MaxPooling2D, Flatten\n",
    "from keras.models import Model\n",
    "from keras.callbacks import EarlyStopping, ModelCheckpoint, Callback"
   ]
  },
  {
   "cell_type": "code",
   "execution_count": 3,
   "metadata": {
    "colab": {},
    "colab_type": "code",
    "id": "BFK8kwKOAwyj"
   },
   "outputs": [],
   "source": [
    "sns.set_style(\"white\")"
   ]
  },
  {
   "cell_type": "code",
   "execution_count": 4,
   "metadata": {
    "colab": {
     "base_uri": "https://localhost:8080/",
     "height": 34
    },
    "colab_type": "code",
    "executionInfo": {
     "elapsed": 3836,
     "status": "ok",
     "timestamp": 1573149660965,
     "user": {
      "displayName": "Mario Ferreyra",
      "photoUrl": "https://lh3.googleusercontent.com/a-/AAuE7mC3ALq72FIGdXTnw1XggOwOgPC7wztJCvlXdaEk2w=s64",
      "userId": "00857178684086436690"
     },
     "user_tz": 180
    },
    "id": "JilpElPQA0Oz",
    "outputId": "1117bd67-5457-4040-fbf4-076bd6e3c6b0"
   },
   "outputs": [
    {
     "name": "stdout",
     "output_type": "stream",
     "text": [
      "1.15.0\n",
      "2.2.5\n"
     ]
    }
   ],
   "source": [
    "print(tf.__version__)\n",
    "print(keras.__version__)"
   ]
  },
  {
   "cell_type": "code",
   "execution_count": 5,
   "metadata": {
    "colab": {
     "base_uri": "https://localhost:8080/",
     "height": 530
    },
    "colab_type": "code",
    "executionInfo": {
     "elapsed": 4807,
     "status": "ok",
     "timestamp": 1573149662113,
     "user": {
      "displayName": "Mario Ferreyra",
      "photoUrl": "https://lh3.googleusercontent.com/a-/AAuE7mC3ALq72FIGdXTnw1XggOwOgPC7wztJCvlXdaEk2w=s64",
      "userId": "00857178684086436690"
     },
     "user_tz": 180
    },
    "id": "fm-5wwpjpGHe",
    "outputId": "1a2e38a1-9ca9-4211-adbd-b8e8223996eb"
   },
   "outputs": [
    {
     "name": "stdout",
     "output_type": "stream",
     "text": [
      "WARNING:tensorflow:From <ipython-input-5-5933df94991b>:2: read_data_sets (from tensorflow.contrib.learn.python.learn.datasets.mnist) is deprecated and will be removed in a future version.\n",
      "Instructions for updating:\n",
      "Please use alternatives such as official/mnist/dataset.py from tensorflow/models.\n",
      "WARNING:tensorflow:From /home/ubuntu/miniconda3/envs/mlip/lib/python3.6/site-packages/tensorflow_core/contrib/learn/python/learn/datasets/mnist.py:260: maybe_download (from tensorflow.contrib.learn.python.learn.datasets.base) is deprecated and will be removed in a future version.\n",
      "Instructions for updating:\n",
      "Please write your own downloading logic.\n",
      "WARNING:tensorflow:From /home/ubuntu/miniconda3/envs/mlip/lib/python3.6/site-packages/tensorflow_core/contrib/learn/python/learn/datasets/mnist.py:262: extract_images (from tensorflow.contrib.learn.python.learn.datasets.mnist) is deprecated and will be removed in a future version.\n",
      "Instructions for updating:\n",
      "Please use tf.data to implement this functionality.\n",
      "Extracting ./mnist/data/train-images-idx3-ubyte.gz\n",
      "WARNING:tensorflow:From /home/ubuntu/miniconda3/envs/mlip/lib/python3.6/site-packages/tensorflow_core/contrib/learn/python/learn/datasets/mnist.py:267: extract_labels (from tensorflow.contrib.learn.python.learn.datasets.mnist) is deprecated and will be removed in a future version.\n",
      "Instructions for updating:\n",
      "Please use tf.data to implement this functionality.\n",
      "Extracting ./mnist/data/train-labels-idx1-ubyte.gz\n",
      "WARNING:tensorflow:From /home/ubuntu/miniconda3/envs/mlip/lib/python3.6/site-packages/tensorflow_core/contrib/learn/python/learn/datasets/mnist.py:110: dense_to_one_hot (from tensorflow.contrib.learn.python.learn.datasets.mnist) is deprecated and will be removed in a future version.\n",
      "Instructions for updating:\n",
      "Please use tf.one_hot on tensors.\n",
      "Extracting ./mnist/data/t10k-images-idx3-ubyte.gz\n",
      "Extracting ./mnist/data/t10k-labels-idx1-ubyte.gz\n",
      "WARNING:tensorflow:From /home/ubuntu/miniconda3/envs/mlip/lib/python3.6/site-packages/tensorflow_core/contrib/learn/python/learn/datasets/mnist.py:290: DataSet.__init__ (from tensorflow.contrib.learn.python.learn.datasets.mnist) is deprecated and will be removed in a future version.\n",
      "Instructions for updating:\n",
      "Please use alternatives such as official/mnist/dataset.py from tensorflow/models.\n"
     ]
    }
   ],
   "source": [
    "# importo y guardo MNIST data\n",
    "mnist = input_data.read_data_sets(\"./mnist/data/\", one_hot=True)"
   ]
  },
  {
   "cell_type": "markdown",
   "metadata": {
    "colab_type": "text",
    "id": "BHE-CmgDpGHj"
   },
   "source": [
    "## Exploración del dataset"
   ]
  },
  {
   "cell_type": "code",
   "execution_count": 6,
   "metadata": {},
   "outputs": [],
   "source": [
    "X_train = mnist.train.images\n",
    "y_train = mnist.train.labels\n",
    "\n",
    "X_val = mnist.validation.images\n",
    "y_val = mnist.validation.labels\n",
    "\n",
    "X_test = mnist.test.images\n",
    "y_test = mnist.test.labels"
   ]
  },
  {
   "cell_type": "code",
   "execution_count": 7,
   "metadata": {
    "colab": {
     "base_uri": "https://localhost:8080/",
     "height": 85
    },
    "colab_type": "code",
    "executionInfo": {
     "elapsed": 4339,
     "status": "ok",
     "timestamp": 1573149662115,
     "user": {
      "displayName": "Mario Ferreyra",
      "photoUrl": "https://lh3.googleusercontent.com/a-/AAuE7mC3ALq72FIGdXTnw1XggOwOgPC7wztJCvlXdaEk2w=s64",
      "userId": "00857178684086436690"
     },
     "user_tz": 180
    },
    "id": "VAKy-CLtpGHk",
    "outputId": "9debbf31-af88-40ed-c6b4-99d4593062be"
   },
   "outputs": [
    {
     "name": "stdout",
     "output_type": "stream",
     "text": [
      "Imagenes de Entrenamiento: (55000, 784)\n",
      "Labels de Entrenamiento  : (5000, 10)\n",
      "\n",
      "Imagenes de Validacion   : (5000, 784)\n",
      "Labels de Validacion     : (5000, 10)\n",
      "\n",
      "Imagenes de Testeo       : (10000, 784)\n",
      "Labels de Testeo         : (10000, 10)\n"
     ]
    }
   ],
   "source": [
    "# Dimensiones de la data\n",
    "print(f\"Imagenes de Entrenamiento: {X_train.shape}\")\n",
    "print(f\"Labels de Entrenamiento  : {y_val.shape}\")\n",
    "print()\n",
    "print(f\"Imagenes de Validacion   : {X_val.shape}\")\n",
    "print(f\"Labels de Validacion     : {y_val.shape}\")\n",
    "print()\n",
    "print(f\"Imagenes de Testeo       : {X_test.shape}\")\n",
    "print(f\"Labels de Testeo         : {y_test.shape}\")"
   ]
  },
  {
   "cell_type": "code",
   "execution_count": 8,
   "metadata": {},
   "outputs": [],
   "source": [
    "##### Some Constants #####\n",
    "IMG_ROWS = 28\n",
    "IMG_COLS = 28\n",
    "NUM_CLASSES = 10\n",
    "\n",
    "BATCH_SIZE = 32\n",
    "NUM_EPOCHS = 10"
   ]
  },
  {
   "cell_type": "code",
   "execution_count": 9,
   "metadata": {
    "colab": {
     "base_uri": "https://localhost:8080/",
     "height": 1000
    },
    "colab_type": "code",
    "executionInfo": {
     "elapsed": 5103,
     "status": "ok",
     "timestamp": 1573149663120,
     "user": {
      "displayName": "Mario Ferreyra",
      "photoUrl": "https://lh3.googleusercontent.com/a-/AAuE7mC3ALq72FIGdXTnw1XggOwOgPC7wztJCvlXdaEk2w=s64",
      "userId": "00857178684086436690"
     },
     "user_tz": 180
    },
    "id": "tqirwdHEpGHp",
    "outputId": "b7a2b0c4-effd-449e-f8db-d6afb1267342"
   },
   "outputs": [
    {
     "data": {
      "image/png": "[encoded data removed]",
      "text/plain": [
       "<Figure size 1080x1080 with 9 Axes>"
      ]
     },
     "metadata": {},
     "output_type": "display_data"
    }
   ],
   "source": [
    "# Visualizamos algunas imagenes\n",
    "fig, ax = plt.subplots(3, 3, figsize=[15, 15])\n",
    "\n",
    "for j in range(3):\n",
    "    for i in range(3):\n",
    "        random_image = np.random.randint(low=0, high=55000, size=1)\n",
    "\n",
    "        ax[i,j].imshow(X_train[random_image].reshape(28, 28), 'gray')\n",
    "        ax[i,j].set_xticks([])\n",
    "        ax[i,j].set_yticks([])\n",
    "        ax[i,j].set_title(f'Label: {y_train[random_image]}', color='r')\n",
    "\n",
    "# fig.subplots_adjust(wspace=0.1, hspace=0)\n",
    "plt.show()"
   ]
  },
  {
   "cell_type": "markdown",
   "metadata": {
    "colab_type": "text",
    "id": "3BdBTq_1pGHx"
   },
   "source": [
    "# Definición y entrenamiento del Modelo"
   ]
  },
  {
   "cell_type": "code",
   "execution_count": 10,
   "metadata": {
    "colab": {},
    "colab_type": "code",
    "id": "BNRXTXYDpGH1"
   },
   "outputs": [],
   "source": [
    "X_train = X_train.reshape(55000, 28, 28, 1)\n",
    "X_val = X_val.reshape(5000, 28, 28, 1)\n",
    "X_test = X_test.reshape(10000, 28, 28, 1)"
   ]
  },
  {
   "cell_type": "markdown",
   "metadata": {
    "colab_type": "text",
    "id": "ecpRggCWpGHi"
   },
   "source": [
    "### Documentación de Keras: https://keras.io/"
   ]
  },
  {
   "cell_type": "code",
   "execution_count": 11,
   "metadata": {
    "colab": {
     "base_uri": "https://localhost:8080/",
     "height": 173
    },
    "colab_type": "code",
    "executionInfo": {
     "elapsed": 4030,
     "status": "ok",
     "timestamp": 1573149663872,
     "user": {
      "displayName": "Mario Ferreyra",
      "photoUrl": "https://lh3.googleusercontent.com/a-/AAuE7mC3ALq72FIGdXTnw1XggOwOgPC7wztJCvlXdaEk2w=s64",
      "userId": "00857178684086436690"
     },
     "user_tz": 180
    },
    "id": "3HllT5hKpGH6",
    "outputId": "db988a39-1ae9-4b43-d0a8-f5fe575b3fc0"
   },
   "outputs": [
    {
     "name": "stdout",
     "output_type": "stream",
     "text": [
      "WARNING:tensorflow:From /home/ubuntu/miniconda3/envs/mlip/lib/python3.6/site-packages/keras/backend/tensorflow_backend.py:66: The name tf.get_default_graph is deprecated. Please use tf.compat.v1.get_default_graph instead.\n",
      "\n",
      "WARNING:tensorflow:From /home/ubuntu/miniconda3/envs/mlip/lib/python3.6/site-packages/keras/backend/tensorflow_backend.py:541: The name tf.placeholder is deprecated. Please use tf.compat.v1.placeholder instead.\n",
      "\n",
      "WARNING:tensorflow:From /home/ubuntu/miniconda3/envs/mlip/lib/python3.6/site-packages/keras/backend/tensorflow_backend.py:4432: The name tf.random_uniform is deprecated. Please use tf.random.uniform instead.\n",
      "\n",
      "WARNING:tensorflow:From /home/ubuntu/miniconda3/envs/mlip/lib/python3.6/site-packages/keras/backend/tensorflow_backend.py:4267: The name tf.nn.max_pool is deprecated. Please use tf.nn.max_pool2d instead.\n",
      "\n"
     ]
    }
   ],
   "source": [
    "### A completar: definir capa de entrada, capas ocultas, y capa de salida\n",
    "### Utilizar funciones Input(), Dense()\n",
    "\n",
    "inputs = Input(shape=(IMG_ROWS, IMG_COLS, 1))\n",
    "\n",
    "conv1 = Conv2D(64, 5, activation=\"relu\")(inputs)\n",
    "maxPool1 = MaxPooling2D(pool_size=(2, 2))(conv1)\n",
    "\n",
    "conv2 = Conv2D(128, 5, activation=\"relu\")(maxPool1)\n",
    "maxPool2 = MaxPooling2D(pool_size=(2, 2))(conv2)\n",
    "\n",
    "flatten = Flatten()(maxPool2)\n",
    "\n",
    "dense1 = Dense(256, activation=\"sigmoid\")(flatten)\n",
    "dense2 = Dense(64, activation=\"sigmoid\")(dense1)\n",
    "\n",
    "outputs = Dense(NUM_CLASSES, activation=\"softmax\")(dense2)"
   ]
  },
  {
   "cell_type": "code",
   "execution_count": 12,
   "metadata": {
    "colab": {},
    "colab_type": "code",
    "id": "xBhaE3oIpGH-"
   },
   "outputs": [],
   "source": [
    "### A completar: definir entrada y salida del modelo\n",
    "model = Model(\n",
    "    inputs=inputs,\n",
    "    outputs=outputs\n",
    ")"
   ]
  },
  {
   "cell_type": "code",
   "execution_count": 13,
   "metadata": {
    "colab": {
     "base_uri": "https://localhost:8080/",
     "height": 105
    },
    "colab_type": "code",
    "executionInfo": {
     "elapsed": 3176,
     "status": "ok",
     "timestamp": 1573149663874,
     "user": {
      "displayName": "Mario Ferreyra",
      "photoUrl": "https://lh3.googleusercontent.com/a-/AAuE7mC3ALq72FIGdXTnw1XggOwOgPC7wztJCvlXdaEk2w=s64",
      "userId": "00857178684086436690"
     },
     "user_tz": 180
    },
    "id": "umTP8FRVpGIC",
    "outputId": "d7f9696d-5d74-49bd-a7c7-bd1570ce9482"
   },
   "outputs": [
    {
     "name": "stdout",
     "output_type": "stream",
     "text": [
      "WARNING:tensorflow:From /home/ubuntu/miniconda3/envs/mlip/lib/python3.6/site-packages/keras/optimizers.py:793: The name tf.train.Optimizer is deprecated. Please use tf.compat.v1.train.Optimizer instead.\n",
      "\n",
      "WARNING:tensorflow:From /home/ubuntu/miniconda3/envs/mlip/lib/python3.6/site-packages/keras/backend/tensorflow_backend.py:3576: The name tf.log is deprecated. Please use tf.math.log instead.\n",
      "\n"
     ]
    }
   ],
   "source": [
    "### A completar: definir optimizador y funcion de costo\n",
    "model.compile(\n",
    "    optimizer='adam',\n",
    "    loss='categorical_crossentropy',\n",
    "    metrics=['accuracy']\n",
    ")"
   ]
  },
  {
   "cell_type": "code",
   "execution_count": 14,
   "metadata": {},
   "outputs": [
    {
     "name": "stdout",
     "output_type": "stream",
     "text": [
      "Model: \"model_1\"\n",
      "_________________________________________________________________\n",
      "Layer (type)                 Output Shape              Param #   \n",
      "=================================================================\n",
      "input_1 (InputLayer)         (None, 28, 28, 1)         0         \n",
      "_________________________________________________________________\n",
      "conv2d_1 (Conv2D)            (None, 24, 24, 64)        1664      \n",
      "_________________________________________________________________\n",
      "max_pooling2d_1 (MaxPooling2 (None, 12, 12, 64)        0         \n",
      "_________________________________________________________________\n",
      "conv2d_2 (Conv2D)            (None, 8, 8, 128)         204928    \n",
      "_________________________________________________________________\n",
      "max_pooling2d_2 (MaxPooling2 (None, 4, 4, 128)         0         \n",
      "_________________________________________________________________\n",
      "flatten_1 (Flatten)          (None, 2048)              0         \n",
      "_________________________________________________________________\n",
      "dense_1 (Dense)              (None, 256)               524544    \n",
      "_________________________________________________________________\n",
      "dense_2 (Dense)              (None, 64)                16448     \n",
      "_________________________________________________________________\n",
      "dense_3 (Dense)              (None, 10)                650       \n",
      "=================================================================\n",
      "Total params: 748,234\n",
      "Trainable params: 748,234\n",
      "Non-trainable params: 0\n",
      "_________________________________________________________________\n"
     ]
    }
   ],
   "source": [
    "model.summary()"
   ]
  },
  {
   "cell_type": "code",
   "execution_count": 15,
   "metadata": {
    "colab": {},
    "colab_type": "code",
    "id": "eUmdtpkApGIG"
   },
   "outputs": [],
   "source": [
    "## para guardar el modelo\n",
    "filepath = \"prueba2.h5\"\n",
    "model_checkpoint = ModelCheckpoint(\n",
    "    filepath,\n",
    "    monitor='loss',\n",
    "    verbose=1,\n",
    "    save_best_only=True\n",
    ")"
   ]
  },
  {
   "cell_type": "code",
   "execution_count": 16,
   "metadata": {
    "colab": {
     "base_uri": "https://localhost:8080/",
     "height": 1000
    },
    "colab_type": "code",
    "executionInfo": {
     "elapsed": 428207,
     "status": "ok",
     "timestamp": 1573153112672,
     "user": {
      "displayName": "Mario Ferreyra",
      "photoUrl": "https://lh3.googleusercontent.com/a-/AAuE7mC3ALq72FIGdXTnw1XggOwOgPC7wztJCvlXdaEk2w=s64",
      "userId": "00857178684086436690"
     },
     "user_tz": 180
    },
    "id": "isv-GaCLpGIK",
    "outputId": "3bc192f3-1e76-4376-a6da-b149af923782"
   },
   "outputs": [
    {
     "name": "stdout",
     "output_type": "stream",
     "text": [
      "WARNING:tensorflow:From /home/ubuntu/miniconda3/envs/mlip/lib/python3.6/site-packages/tensorflow_core/python/ops/math_grad.py:1424: where (from tensorflow.python.ops.array_ops) is deprecated and will be removed in a future version.\n",
      "Instructions for updating:\n",
      "Use tf.where in 2.0, which has the same broadcast rule as np.where\n",
      "WARNING:tensorflow:From /home/ubuntu/miniconda3/envs/mlip/lib/python3.6/site-packages/keras/backend/tensorflow_backend.py:1033: The name tf.assign_add is deprecated. Please use tf.compat.v1.assign_add instead.\n",
      "\n",
      "WARNING:tensorflow:From /home/ubuntu/miniconda3/envs/mlip/lib/python3.6/site-packages/keras/backend/tensorflow_backend.py:1020: The name tf.assign is deprecated. Please use tf.compat.v1.assign instead.\n",
      "\n",
      "WARNING:tensorflow:From /home/ubuntu/miniconda3/envs/mlip/lib/python3.6/site-packages/keras/backend/tensorflow_backend.py:3005: The name tf.Session is deprecated. Please use tf.compat.v1.Session instead.\n",
      "\n",
      "Train on 55000 samples, validate on 5000 samples\n",
      "Epoch 1/10\n",
      "WARNING:tensorflow:From /home/ubuntu/miniconda3/envs/mlip/lib/python3.6/site-packages/keras/backend/tensorflow_backend.py:190: The name tf.get_default_session is deprecated. Please use tf.compat.v1.get_default_session instead.\n",
      "\n",
      "WARNING:tensorflow:From /home/ubuntu/miniconda3/envs/mlip/lib/python3.6/site-packages/keras/backend/tensorflow_backend.py:197: The name tf.ConfigProto is deprecated. Please use tf.compat.v1.ConfigProto instead.\n",
      "\n",
      "WARNING:tensorflow:From /home/ubuntu/miniconda3/envs/mlip/lib/python3.6/site-packages/keras/backend/tensorflow_backend.py:207: The name tf.global_variables is deprecated. Please use tf.compat.v1.global_variables instead.\n",
      "\n",
      "WARNING:tensorflow:From /home/ubuntu/miniconda3/envs/mlip/lib/python3.6/site-packages/keras/backend/tensorflow_backend.py:216: The name tf.is_variable_initialized is deprecated. Please use tf.compat.v1.is_variable_initialized instead.\n",
      "\n",
      "WARNING:tensorflow:From /home/ubuntu/miniconda3/envs/mlip/lib/python3.6/site-packages/keras/backend/tensorflow_backend.py:223: The name tf.variables_initializer is deprecated. Please use tf.compat.v1.variables_initializer instead.\n",
      "\n",
      "55000/55000 [==============================] - 100s 2ms/step - loss: 0.1690 - acc: 0.9597 - val_loss: 0.0452 - val_acc: 0.9866\n",
      "\n",
      "Epoch 00001: loss improved from inf to 0.16897, saving model to prueba2.h5\n",
      "Epoch 2/10\n",
      "55000/55000 [==============================] - 99s 2ms/step - loss: 0.0396 - acc: 0.9883 - val_loss: 0.0496 - val_acc: 0.9856\n",
      "\n",
      "Epoch 00002: loss improved from 0.16897 to 0.03963, saving model to prueba2.h5\n",
      "Epoch 3/10\n",
      "55000/55000 [==============================] - 99s 2ms/step - loss: 0.0279 - acc: 0.9916 - val_loss: 0.0373 - val_acc: 0.9892\n",
      "\n",
      "Epoch 00003: loss improved from 0.03963 to 0.02795, saving model to prueba2.h5\n",
      "Epoch 4/10\n",
      "55000/55000 [==============================] - 99s 2ms/step - loss: 0.0212 - acc: 0.9936 - val_loss: 0.0338 - val_acc: 0.9908\n",
      "\n",
      "Epoch 00004: loss improved from 0.02795 to 0.02116, saving model to prueba2.h5\n",
      "Epoch 5/10\n",
      "55000/55000 [==============================] - 99s 2ms/step - loss: 0.0161 - acc: 0.9951 - val_loss: 0.0360 - val_acc: 0.9898\n",
      "\n",
      "Epoch 00005: loss improved from 0.02116 to 0.01612, saving model to prueba2.h5\n",
      "Epoch 6/10\n",
      "55000/55000 [==============================] - 99s 2ms/step - loss: 0.0121 - acc: 0.9961 - val_loss: 0.0316 - val_acc: 0.9914\n",
      "\n",
      "Epoch 00006: loss improved from 0.01612 to 0.01212, saving model to prueba2.h5\n",
      "Epoch 7/10\n",
      "55000/55000 [==============================] - 99s 2ms/step - loss: 0.0102 - acc: 0.9967 - val_loss: 0.0317 - val_acc: 0.9916\n",
      "\n",
      "Epoch 00007: loss improved from 0.01212 to 0.01020, saving model to prueba2.h5\n",
      "Epoch 8/10\n",
      "55000/55000 [==============================] - 99s 2ms/step - loss: 0.0095 - acc: 0.9971 - val_loss: 0.0325 - val_acc: 0.9916\n",
      "\n",
      "Epoch 00008: loss improved from 0.01020 to 0.00951, saving model to prueba2.h5\n",
      "Epoch 9/10\n",
      "55000/55000 [==============================] - 99s 2ms/step - loss: 0.0077 - acc: 0.9976 - val_loss: 0.0326 - val_acc: 0.9902\n",
      "\n",
      "Epoch 00009: loss improved from 0.00951 to 0.00774, saving model to prueba2.h5\n",
      "Epoch 10/10\n",
      "55000/55000 [==============================] - 99s 2ms/step - loss: 0.0078 - acc: 0.9975 - val_loss: 0.0328 - val_acc: 0.9930\n",
      "\n",
      "Epoch 00010: loss did not improve from 0.00774\n",
      "CPU times: user 54min 53s, sys: 41.4 s, total: 55min 34s\n",
      "Wall time: 16min 30s\n"
     ]
    }
   ],
   "source": [
    "%%time\n",
    "history = model.fit(\n",
    "    X_train, y_train,\n",
    "    batch_size=BATCH_SIZE,\n",
    "    epochs=NUM_EPOCHS,\n",
    "    validation_data=(X_val, y_val),\n",
    "    callbacks=[model_checkpoint]\n",
    ")"
   ]
  },
  {
   "cell_type": "code",
   "execution_count": 17,
   "metadata": {
    "colab": {
     "base_uri": "https://localhost:8080/",
     "height": 562
    },
    "colab_type": "code",
    "executionInfo": {
     "elapsed": 4580,
     "status": "ok",
     "timestamp": 1573153117285,
     "user": {
      "displayName": "Mario Ferreyra",
      "photoUrl": "https://lh3.googleusercontent.com/a-/AAuE7mC3ALq72FIGdXTnw1XggOwOgPC7wztJCvlXdaEk2w=s64",
      "userId": "00857178684086436690"
     },
     "user_tz": 180
    },
    "id": "ke2uSBgCpGIR",
    "outputId": "455711dd-2d47-41ae-bfe6-6f59fbde2383"
   },
   "outputs": [
    {
     "data": {
      "text/plain": [
       "<matplotlib.legend.Legend at 0x7fe859db2c50>"
      ]
     },
     "execution_count": 17,
     "metadata": {},
     "output_type": "execute_result"
    },
    {
     "data": {
      "image/png": "[encoded data removed]",
      "text/plain": [
       "<Figure size 432x288 with 1 Axes>"
      ]
     },
     "metadata": {},
     "output_type": "display_data"
    },
    {
     "data": {
      "image/png": "[encoded data removed]",
      "text/plain": [
       "<Figure size 432x288 with 1 Axes>"
      ]
     },
     "metadata": {},
     "output_type": "display_data"
    }
   ],
   "source": [
    "## Visualizamos curvas de entrenamiento\n",
    "\n",
    "plt.figure()\n",
    "plt.title(\"Accuracy vs epochs\")\n",
    "plt.plot(history.history['acc'])\n",
    "plt.plot(history.history['val_acc'])\n",
    "plt.legend(['Training Accuracy', 'Validation Accuracy'])\n",
    "\n",
    "\n",
    "plt.figure()\n",
    "plt.title(\"Loss vs epochs\")\n",
    "plt.plot(history.history['loss'])\n",
    "plt.plot(history.history['val_loss'])\n",
    "plt.legend(['Training Loss', 'Validation Loss'])"
   ]
  },
  {
   "cell_type": "code",
   "execution_count": 18,
   "metadata": {
    "colab": {},
    "colab_type": "code",
    "id": "QOCdZxsopGIV"
   },
   "outputs": [
    {
     "name": "stdout",
     "output_type": "stream",
     "text": [
      "10000/10000 [==============================] - 3s 344us/step\n",
      "Test loss    : 0.02663917155387462\n",
      "Test accuracy: 0.9936\n"
     ]
    }
   ],
   "source": [
    "score = model.evaluate(X_test, y_test, verbose=1)\n",
    "print('Test loss    : {}'.format(score[0]))\n",
    "print('Test accuracy: {}'.format(score[1]))"
   ]
  },
  {
   "cell_type": "markdown",
   "metadata": {
    "colab_type": "text",
    "id": "iQIQmtPbpGIY"
   },
   "source": [
    "## Usemos este modelo para hacer predicciones"
   ]
  },
  {
   "cell_type": "code",
   "execution_count": 19,
   "metadata": {
    "colab": {},
    "colab_type": "code",
    "id": "r0f4-FB7pGIZ"
   },
   "outputs": [],
   "source": [
    "## A completar: utilizar imagenes de testeo\n",
    "\n",
    "predictions = model.predict(X_test)"
   ]
  },
  {
   "cell_type": "code",
   "execution_count": 20,
   "metadata": {
    "colab": {
     "base_uri": "https://localhost:8080/",
     "height": 1000
    },
    "colab_type": "code",
    "executionInfo": {
     "elapsed": 5576,
     "status": "ok",
     "timestamp": 1573153118299,
     "user": {
      "displayName": "Mario Ferreyra",
      "photoUrl": "https://lh3.googleusercontent.com/a-/AAuE7mC3ALq72FIGdXTnw1XggOwOgPC7wztJCvlXdaEk2w=s64",
      "userId": "00857178684086436690"
     },
     "user_tz": 180
    },
    "id": "_hBlpLFxpGIf",
    "outputId": "df953831-36eb-4a6a-b2a2-37124817ab77"
   },
   "outputs": [
    {
     "data": {
      "image/png": "[encoded data removed]",
      "text/plain": [
       "<Figure size 1080x1080 with 9 Axes>"
      ]
     },
     "metadata": {},
     "output_type": "display_data"
    }
   ],
   "source": [
    "fig, ax = plt.subplots(3, 3, figsize=[15, 15])\n",
    "\n",
    "for j in range(3):\n",
    "    for i in range(3):\n",
    "        random_image = np.random.randint(low=0, high=1000, size=1)\n",
    "\n",
    "        ax[i,j].imshow(X_test[random_image].reshape(28,28), 'gray')\n",
    "        ax[i,j].set_xticks([])\n",
    "        ax[i,j].set_yticks([])\n",
    "        ax[i,j].set_title(f'Predccion de mi red: {np.argmax(predictions[random_image])}', color='r')\n",
    "\n",
    "plt.show()"
   ]
  },
  {
   "cell_type": "code",
   "execution_count": null,
   "metadata": {
    "colab": {},
    "colab_type": "code",
    "id": "PItQDbcXpGIm"
   },
   "outputs": [],
   "source": []
  }
 ],
 "metadata": {
  "accelerator": "GPU",
  "anaconda-cloud": {},
  "colab": {
   "collapsed_sections": [],
   "name": "Laboratorio2.ipynb",
   "provenance": []
  },
  "kernelspec": {
   "display_name": "mlip",
   "language": "python",
   "name": "mlip"
  },
  "language_info": {
   "codemirror_mode": {
    "name": "ipython",
    "version": 3
   },
   "file_extension": ".py",
   "mimetype": "text/x-python",
   "name": "python",
   "nbconvert_exporter": "python",
   "pygments_lexer": "ipython3",
   "version": "3.6.9"
  }
 },
 "nbformat": 4,
 "nbformat_minor": 4
}
