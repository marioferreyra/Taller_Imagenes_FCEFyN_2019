{
 "cells": [
  {
   "cell_type": "code",
   "execution_count": 2,
   "metadata": {},
   "outputs": [
    {
     "name": "stdout",
     "output_type": "stream",
     "text": [
      "env: OPENCV_IO_ENABLE_JASPER=true\n"
     ]
    }
   ],
   "source": [
    "%env OPENCV_IO_ENABLE_JASPER true"
   ]
  },
  {
   "cell_type": "code",
   "execution_count": 3,
   "metadata": {},
   "outputs": [
    {
     "data": {
      "text/plain": [
       "True"
      ]
     },
     "execution_count": 3,
     "metadata": {},
     "output_type": "execute_result"
    }
   ],
   "source": [
    "# https://github.com/opencv/opencv/issues/14058\n",
    "\n",
    "import cv2\n",
    "\n",
    "ima = cv2.imread('lenna.jpg', 0)\n",
    "cv2.imwrite('lenna1.jpg', ima) # Por defecto 95\n",
    "cv2.imwrite('lenna2.jpg', ima, [cv2.IMWRITE_JPEG_QUALITY, 95])\n",
    "cv2.imwrite('lenna3.jpg', ima, [cv2.IMWRITE_JPEG_QUALITY, 10])\n",
    "\n",
    "ima1 = cv2.imread('pout.png', 0)\n",
    "cv2.imwrite('pout.jpg', ima1, [cv2.IMWRITE_JPEG_QUALITY, 60])\n",
    "cv2.imwrite('pout.jp2', ima1)"
   ]
  },
  {
   "cell_type": "code",
   "execution_count": 4,
   "metadata": {},
   "outputs": [],
   "source": [
    "from PIL import Image\n",
    "\n",
    "img = Image.open('lenna.jpg')\n",
    "img.save('lennapil.jpg', quality=95)"
   ]
  },
  {
   "cell_type": "markdown",
   "metadata": {},
   "source": [
    "#Para grabar en el formato jpeg2000 debe tener el codec\n",
    "#Para JPEG 2000 se pide la compression-ratio (relación de compresión)"
   ]
  },
  {
   "cell_type": "code",
   "execution_count": 6,
   "metadata": {},
   "outputs": [
    {
     "name": "stdin",
     "output_type": "stream",
     "text": [
      "Ingrese nombre imagen: pout.jpg\n",
      "Ingrese nombre archivo salida (jpg):  pout_salida.jpg\n",
      "Ingrese calidad (0-100):  50\n"
     ]
    },
    {
     "data": {
      "text/plain": [
       "True"
      ]
     },
     "execution_count": 6,
     "metadata": {},
     "output_type": "execute_result"
    }
   ],
   "source": [
    "# Generalización para pruebas\n",
    "import cv2\n",
    "\n",
    "nombre = input('Ingrese nombre imagen:')\n",
    "ima = cv2.imread(nombre, 0)\n",
    "test = input('Ingrese nombre archivo salida (jpg): ')\n",
    "calidad = int(input('Ingrese calidad (0-100): ')) # Convertir a entero!\n",
    "\n",
    "cv2.imwrite(test, ima, [cv2.IMWRITE_JPEG_QUALITY, calidad]) # Por defecto 95"
   ]
  },
  {
   "cell_type": "code",
   "execution_count": null,
   "metadata": {},
   "outputs": [],
   "source": []
  }
 ],
 "metadata": {
  "kernelspec": {
   "display_name": "Python 3",
   "language": "python",
   "name": "python3"
  },
  "language_info": {
   "codemirror_mode": {
    "name": "ipython",
    "version": 3
   },
   "file_extension": ".py",
   "mimetype": "text/x-python",
   "name": "python",
   "nbconvert_exporter": "python",
   "pygments_lexer": "ipython3",
   "version": "3.6.5"
  }
 },
 "nbformat": 4,
 "nbformat_minor": 4
}
