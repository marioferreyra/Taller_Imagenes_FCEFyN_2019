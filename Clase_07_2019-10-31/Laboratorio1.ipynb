{
 "cells": [
  {
   "cell_type": "code",
   "execution_count": 1,
   "metadata": {
    "colab": {},
    "colab_type": "code",
    "id": "X2l9fEiL2-xc"
   },
   "outputs": [],
   "source": [
    "%load_ext autoreload\n",
    "%autoreload 2\n",
    "\n",
    "%matplotlib inline"
   ]
  },
  {
   "cell_type": "markdown",
   "metadata": {
    "colab_type": "text",
    "id": "NgvU1dEgVSjw"
   },
   "source": [
    "### Curso-Taller 2019: Aprendizaje Automático e Imágenes en Python \n",
    "* Docentes:  Dra. Valeria S. Rulloni - Dra. Laura M. Vargas\n",
    "* Ayudantes: Axel Aguerreberry - Sebastián Palacio\n",
    "* Colaboradoras: Dra. Ana Carolina Maldonado - Dra. Claudia Egea\n",
    "\n",
    "### Temario a desarrollar:\n",
    "*\tUso y herramientas básicas de Python\n",
    "*\tImágenes digitales: tipos (binarias, monocromáticas y a color)\n",
    "*\tHistograma. Mejora de la imagen: contraste, filtros: suavizado y detección de bordes.\n",
    "*\tUmbralado y Binarización. Operaciones Morfológicas: erosión, dilatación, cierre y apertura.\n",
    "*\tClasificación de imágenes.\n",
    "*\tAprendizaje automático\n",
    "*\tAprendizaje profundo: Redes neuronales\n",
    "*\tAplicaciones: Grafos para segmentación de imágenes, entre otras.\n",
    "\n"
   ]
  },
  {
   "cell_type": "markdown",
   "metadata": {
    "colab_type": "text",
    "id": "5eIXxfGuVSjx"
   },
   "source": [
    "# Laboratorio Parte 1: Keras, MNIST data y redes totalmente conectadas (FC)"
   ]
  },
  {
   "cell_type": "code",
   "execution_count": 2,
   "metadata": {
    "colab": {
     "base_uri": "https://localhost:8080/",
     "height": 80
    },
    "colab_type": "code",
    "executionInfo": {
     "elapsed": 5291,
     "status": "ok",
     "timestamp": 1573214491253,
     "user": {
      "displayName": "Mario Ferreyra",
      "photoUrl": "https://lh3.googleusercontent.com/a-/AAuE7mC3ALq72FIGdXTnw1XggOwOgPC7wztJCvlXdaEk2w=s64",
      "userId": "00857178684086436690"
     },
     "user_tz": 180
    },
    "id": "EsoWDIWqVSjy",
    "outputId": "b4fe2464-fa5f-41c8-b5fc-d3e7561d97bc"
   },
   "outputs": [
    {
     "name": "stderr",
     "output_type": "stream",
     "text": [
      "Using TensorFlow backend.\n"
     ]
    }
   ],
   "source": [
    "import numpy as np\n",
    "import matplotlib\n",
    "import matplotlib.pyplot as plt\n",
    "import seaborn as sns\n",
    "import tensorflow as tf\n",
    "import keras\n",
    "\n",
    "from PIL import Image\n",
    "from keras.layers import Input, Dense\n",
    "from keras.models import Model\n",
    "from keras.callbacks import EarlyStopping, ModelCheckpoint, Callback\n",
    "from keras.optimizers import RMSprop\n",
    "from tensorflow.examples.tutorials.mnist import input_data\n",
    "\n",
    "from IPython.display import Image as IPImage"
   ]
  },
  {
   "cell_type": "code",
   "execution_count": 3,
   "metadata": {
    "colab": {},
    "colab_type": "code",
    "id": "zoPFSWC63lDA"
   },
   "outputs": [],
   "source": [
    "sns.set_style(\"white\")"
   ]
  },
  {
   "cell_type": "code",
   "execution_count": 4,
   "metadata": {
    "colab": {
     "base_uri": "https://localhost:8080/",
     "height": 34
    },
    "colab_type": "code",
    "executionInfo": {
     "elapsed": 4383,
     "status": "ok",
     "timestamp": 1573214491258,
     "user": {
      "displayName": "Mario Ferreyra",
      "photoUrl": "https://lh3.googleusercontent.com/a-/AAuE7mC3ALq72FIGdXTnw1XggOwOgPC7wztJCvlXdaEk2w=s64",
      "userId": "00857178684086436690"
     },
     "user_tz": 180
    },
    "id": "9_lvMbz-Wzd1",
    "outputId": "fb21b35d-1259-46e2-c43c-f9ad7748e14d"
   },
   "outputs": [
    {
     "name": "stdout",
     "output_type": "stream",
     "text": [
      "1.15.0\n",
      "2.2.5\n"
     ]
    }
   ],
   "source": [
    "print(tf.__version__)\n",
    "print(keras.__version__)"
   ]
  },
  {
   "cell_type": "code",
   "execution_count": 5,
   "metadata": {
    "colab": {
     "base_uri": "https://localhost:8080/",
     "height": 530
    },
    "colab_type": "code",
    "executionInfo": {
     "elapsed": 4531,
     "status": "ok",
     "timestamp": 1573214491959,
     "user": {
      "displayName": "Mario Ferreyra",
      "photoUrl": "https://lh3.googleusercontent.com/a-/AAuE7mC3ALq72FIGdXTnw1XggOwOgPC7wztJCvlXdaEk2w=s64",
      "userId": "00857178684086436690"
     },
     "user_tz": 180
    },
    "id": "Yg7z61OGVSj1",
    "outputId": "1580032a-aa11-487c-bdc4-3991952da01d"
   },
   "outputs": [
    {
     "name": "stdout",
     "output_type": "stream",
     "text": [
      "WARNING:tensorflow:From <ipython-input-5-5933df94991b>:2: read_data_sets (from tensorflow.contrib.learn.python.learn.datasets.mnist) is deprecated and will be removed in a future version.\n",
      "Instructions for updating:\n",
      "Please use alternatives such as official/mnist/dataset.py from tensorflow/models.\n",
      "WARNING:tensorflow:From /home/ubuntu/miniconda3/envs/mlip/lib/python3.6/site-packages/tensorflow_core/contrib/learn/python/learn/datasets/mnist.py:260: maybe_download (from tensorflow.contrib.learn.python.learn.datasets.base) is deprecated and will be removed in a future version.\n",
      "Instructions for updating:\n",
      "Please write your own downloading logic.\n",
      "WARNING:tensorflow:From /home/ubuntu/miniconda3/envs/mlip/lib/python3.6/site-packages/tensorflow_core/contrib/learn/python/learn/datasets/mnist.py:262: extract_images (from tensorflow.contrib.learn.python.learn.datasets.mnist) is deprecated and will be removed in a future version.\n",
      "Instructions for updating:\n",
      "Please use tf.data to implement this functionality.\n",
      "Extracting ./mnist/data/train-images-idx3-ubyte.gz\n",
      "WARNING:tensorflow:From /home/ubuntu/miniconda3/envs/mlip/lib/python3.6/site-packages/tensorflow_core/contrib/learn/python/learn/datasets/mnist.py:267: extract_labels (from tensorflow.contrib.learn.python.learn.datasets.mnist) is deprecated and will be removed in a future version.\n",
      "Instructions for updating:\n",
      "Please use tf.data to implement this functionality.\n",
      "Extracting ./mnist/data/train-labels-idx1-ubyte.gz\n",
      "WARNING:tensorflow:From /home/ubuntu/miniconda3/envs/mlip/lib/python3.6/site-packages/tensorflow_core/contrib/learn/python/learn/datasets/mnist.py:110: dense_to_one_hot (from tensorflow.contrib.learn.python.learn.datasets.mnist) is deprecated and will be removed in a future version.\n",
      "Instructions for updating:\n",
      "Please use tf.one_hot on tensors.\n",
      "Extracting ./mnist/data/t10k-images-idx3-ubyte.gz\n",
      "Extracting ./mnist/data/t10k-labels-idx1-ubyte.gz\n",
      "WARNING:tensorflow:From /home/ubuntu/miniconda3/envs/mlip/lib/python3.6/site-packages/tensorflow_core/contrib/learn/python/learn/datasets/mnist.py:290: DataSet.__init__ (from tensorflow.contrib.learn.python.learn.datasets.mnist) is deprecated and will be removed in a future version.\n",
      "Instructions for updating:\n",
      "Please use alternatives such as official/mnist/dataset.py from tensorflow/models.\n"
     ]
    }
   ],
   "source": [
    "# importo y guardo MNIST data\n",
    "mnist = input_data.read_data_sets(\"./mnist/data/\", one_hot=True)"
   ]
  },
  {
   "cell_type": "markdown",
   "metadata": {
    "colab_type": "text",
    "id": "Da8Dp1UpVSj4"
   },
   "source": [
    "### Documentación de Keras: https://keras.io/"
   ]
  },
  {
   "cell_type": "markdown",
   "metadata": {
    "colab_type": "text",
    "id": "jaUwsdqrVSj5"
   },
   "source": [
    "## Exploración del dataset"
   ]
  },
  {
   "cell_type": "code",
   "execution_count": 6,
   "metadata": {},
   "outputs": [],
   "source": [
    "X_train = mnist.train.images\n",
    "y_train = mnist.train.labels\n",
    "\n",
    "X_val = mnist.validation.images\n",
    "y_val = mnist.validation.labels\n",
    "\n",
    "X_test = mnist.test.images\n",
    "y_test = mnist.test.labels"
   ]
  },
  {
   "cell_type": "code",
   "execution_count": 7,
   "metadata": {
    "colab": {
     "base_uri": "https://localhost:8080/",
     "height": 85
    },
    "colab_type": "code",
    "executionInfo": {
     "elapsed": 3785,
     "status": "ok",
     "timestamp": 1573214491959,
     "user": {
      "displayName": "Mario Ferreyra",
      "photoUrl": "https://lh3.googleusercontent.com/a-/AAuE7mC3ALq72FIGdXTnw1XggOwOgPC7wztJCvlXdaEk2w=s64",
      "userId": "00857178684086436690"
     },
     "user_tz": 180
    },
    "id": "4Ahf6WIEVSj6",
    "outputId": "721603e1-83e2-4f18-ae35-4571b233fcfc"
   },
   "outputs": [
    {
     "name": "stdout",
     "output_type": "stream",
     "text": [
      "Imagenes de Entrenamiento: (55000, 784)\n",
      "Labels de Entrenamiento  : (5000, 10)\n",
      "\n",
      "Imagenes de Validacion   : (5000, 784)\n",
      "Labels de Validacion     : (5000, 10)\n",
      "\n",
      "Imagenes de Testeo       : (10000, 784)\n",
      "Labels de Testeo         : (10000, 10)\n"
     ]
    }
   ],
   "source": [
    "# Dimensiones de la data\n",
    "print(f\"Imagenes de Entrenamiento: {X_train.shape}\")\n",
    "print(f\"Labels de Entrenamiento  : {y_val.shape}\")\n",
    "print()\n",
    "print(f\"Imagenes de Validacion   : {X_val.shape}\")\n",
    "print(f\"Labels de Validacion     : {y_val.shape}\")\n",
    "print()\n",
    "print(f\"Imagenes de Testeo       : {X_test.shape}\")\n",
    "print(f\"Labels de Testeo         : {y_test.shape}\")"
   ]
  },
  {
   "cell_type": "code",
   "execution_count": 8,
   "metadata": {},
   "outputs": [],
   "source": [
    "##### Some Constants #####\n",
    "IMG_ROWS = 28\n",
    "IMG_COLS = 28\n",
    "NUM_CLASSES = 10\n",
    "\n",
    "BATCH_SIZE = 32\n",
    "NUM_EPOCHS = 10"
   ]
  },
  {
   "cell_type": "code",
   "execution_count": 9,
   "metadata": {
    "colab": {
     "base_uri": "https://localhost:8080/",
     "height": 1000
    },
    "colab_type": "code",
    "executionInfo": {
     "elapsed": 5265,
     "status": "ok",
     "timestamp": 1573214493704,
     "user": {
      "displayName": "Mario Ferreyra",
      "photoUrl": "https://lh3.googleusercontent.com/a-/AAuE7mC3ALq72FIGdXTnw1XggOwOgPC7wztJCvlXdaEk2w=s64",
      "userId": "00857178684086436690"
     },
     "user_tz": 180
    },
    "id": "FVUPOPfIVSj8",
    "outputId": "2dd13f79-203b-498f-b178-e208c143e741"
   },
   "outputs": [
    {
     "data": {
      "image/png": "[encoded data removed]",
      "text/plain": [
       "<Figure size 1080x1080 with 9 Axes>"
      ]
     },
     "metadata": {},
     "output_type": "display_data"
    }
   ],
   "source": [
    "# Visualizamos algunas imagenes\n",
    "fig, ax = plt.subplots(3, 3, figsize=[15, 15])\n",
    "\n",
    "for j in range(3):\n",
    "    for i in range(3):\n",
    "        random_image = np.random.randint(low=0, high=55000, size=1)\n",
    "\n",
    "        ax[i,j].imshow(X_train[random_image].reshape(28, 28), 'gray')\n",
    "        ax[i,j].set_xticks([])\n",
    "        ax[i,j].set_yticks([])\n",
    "        ax[i,j].set_title(f'Label: {y_train[random_image]}', color='r')\n",
    "\n",
    "# fig.subplots_adjust(wspace=0.1, hspace=0)\n",
    "plt.show()"
   ]
  },
  {
   "cell_type": "code",
   "execution_count": null,
   "metadata": {
    "colab": {},
    "colab_type": "code",
    "id": "KFshiUXYVSj-"
   },
   "outputs": [],
   "source": []
  },
  {
   "cell_type": "markdown",
   "metadata": {
    "colab_type": "text",
    "id": "ipxcUc6eVSj_"
   },
   "source": [
    "# Definición y entrenamiento del Modelo"
   ]
  },
  {
   "cell_type": "code",
   "execution_count": 10,
   "metadata": {
    "colab": {
     "base_uri": "https://localhost:8080/",
     "height": 119
    },
    "colab_type": "code",
    "executionInfo": {
     "elapsed": 4671,
     "status": "ok",
     "timestamp": 1573214493706,
     "user": {
      "displayName": "Mario Ferreyra",
      "photoUrl": "https://lh3.googleusercontent.com/a-/AAuE7mC3ALq72FIGdXTnw1XggOwOgPC7wztJCvlXdaEk2w=s64",
      "userId": "00857178684086436690"
     },
     "user_tz": 180
    },
    "id": "7WpBaM6XVSkA",
    "outputId": "24989faa-df92-4ba8-f0b4-14267bbafcb9"
   },
   "outputs": [
    {
     "name": "stdout",
     "output_type": "stream",
     "text": [
      "WARNING:tensorflow:From /home/ubuntu/miniconda3/envs/mlip/lib/python3.6/site-packages/keras/backend/tensorflow_backend.py:66: The name tf.get_default_graph is deprecated. Please use tf.compat.v1.get_default_graph instead.\n",
      "\n",
      "WARNING:tensorflow:From /home/ubuntu/miniconda3/envs/mlip/lib/python3.6/site-packages/keras/backend/tensorflow_backend.py:541: The name tf.placeholder is deprecated. Please use tf.compat.v1.placeholder instead.\n",
      "\n",
      "WARNING:tensorflow:From /home/ubuntu/miniconda3/envs/mlip/lib/python3.6/site-packages/keras/backend/tensorflow_backend.py:4432: The name tf.random_uniform is deprecated. Please use tf.random.uniform instead.\n",
      "\n"
     ]
    }
   ],
   "source": [
    "### A completar: definir capa de entrada, capas ocultas, y capa de salida\n",
    "### Utilizar funciones Input(), Dense()\n",
    "\n",
    "# https://keras.io/getting-started/functional-api-guide/\n",
    "\n",
    "inputs = Input(shape=(IMG_ROWS * IMG_COLS,))\n",
    "layer1 = Dense(64, activation='relu')(inputs)\n",
    "layer2 = Dense(64, activation='relu')(layer1)\n",
    "outputs = Dense(NUM_CLASSES, activation='softmax')(layer2)"
   ]
  },
  {
   "cell_type": "code",
   "execution_count": 11,
   "metadata": {
    "colab": {},
    "colab_type": "code",
    "id": "1XQm7zgcVSkB"
   },
   "outputs": [],
   "source": [
    "### A completar: definir entrada y salida del modelo\n",
    "model = Model(\n",
    "    inputs=inputs,\n",
    "    outputs=outputs\n",
    ")"
   ]
  },
  {
   "cell_type": "code",
   "execution_count": 12,
   "metadata": {
    "colab": {
     "base_uri": "https://localhost:8080/",
     "height": 85
    },
    "colab_type": "code",
    "executionInfo": {
     "elapsed": 3055,
     "status": "ok",
     "timestamp": 1573214493708,
     "user": {
      "displayName": "Mario Ferreyra",
      "photoUrl": "https://lh3.googleusercontent.com/a-/AAuE7mC3ALq72FIGdXTnw1XggOwOgPC7wztJCvlXdaEk2w=s64",
      "userId": "00857178684086436690"
     },
     "user_tz": 180
    },
    "id": "4gSQPSIZVSkD",
    "outputId": "9fd6547c-8dd2-4405-db88-e18ee73438b2"
   },
   "outputs": [
    {
     "name": "stdout",
     "output_type": "stream",
     "text": [
      "WARNING:tensorflow:From /home/ubuntu/miniconda3/envs/mlip/lib/python3.6/site-packages/keras/optimizers.py:793: The name tf.train.Optimizer is deprecated. Please use tf.compat.v1.train.Optimizer instead.\n",
      "\n",
      "WARNING:tensorflow:From /home/ubuntu/miniconda3/envs/mlip/lib/python3.6/site-packages/keras/backend/tensorflow_backend.py:3576: The name tf.log is deprecated. Please use tf.math.log instead.\n",
      "\n"
     ]
    }
   ],
   "source": [
    "### A completar: definir optimizador y funcion de costo\n",
    "\n",
    "# https://keras.io/examples/mnist_mlp/\n",
    "\n",
    "model.compile(\n",
    "    loss='categorical_crossentropy',\n",
    "    optimizer=RMSprop(),\n",
    "    metrics=['accuracy']\n",
    ")"
   ]
  },
  {
   "cell_type": "code",
   "execution_count": 13,
   "metadata": {},
   "outputs": [
    {
     "name": "stdout",
     "output_type": "stream",
     "text": [
      "Model: \"model_1\"\n",
      "_________________________________________________________________\n",
      "Layer (type)                 Output Shape              Param #   \n",
      "=================================================================\n",
      "input_1 (InputLayer)         (None, 784)               0         \n",
      "_________________________________________________________________\n",
      "dense_1 (Dense)              (None, 64)                50240     \n",
      "_________________________________________________________________\n",
      "dense_2 (Dense)              (None, 64)                4160      \n",
      "_________________________________________________________________\n",
      "dense_3 (Dense)              (None, 10)                650       \n",
      "=================================================================\n",
      "Total params: 55,050\n",
      "Trainable params: 55,050\n",
      "Non-trainable params: 0\n",
      "_________________________________________________________________\n"
     ]
    }
   ],
   "source": [
    "model.summary()"
   ]
  },
  {
   "cell_type": "code",
   "execution_count": 14,
   "metadata": {
    "colab": {},
    "colab_type": "code",
    "id": "jDzbGM-gVSkE"
   },
   "outputs": [],
   "source": [
    "## para guardar el modelo\n",
    "filepath = \"prueba1.h5\"\n",
    "model_checkpoint = ModelCheckpoint(\n",
    "    filepath,\n",
    "    monitor='loss',\n",
    "    verbose=1,\n",
    "    save_best_only=True\n",
    ")"
   ]
  },
  {
   "cell_type": "code",
   "execution_count": 15,
   "metadata": {
    "colab": {
     "base_uri": "https://localhost:8080/",
     "height": 1000
    },
    "colab_type": "code",
    "executionInfo": {
     "elapsed": 404360,
     "status": "ok",
     "timestamp": 1573214896201,
     "user": {
      "displayName": "Mario Ferreyra",
      "photoUrl": "https://lh3.googleusercontent.com/a-/AAuE7mC3ALq72FIGdXTnw1XggOwOgPC7wztJCvlXdaEk2w=s64",
      "userId": "00857178684086436690"
     },
     "user_tz": 180
    },
    "id": "kOtbb5bTVSkG",
    "outputId": "056567b9-2c42-4c9e-e587-63dd694907fd"
   },
   "outputs": [
    {
     "name": "stdout",
     "output_type": "stream",
     "text": [
      "WARNING:tensorflow:From /home/ubuntu/miniconda3/envs/mlip/lib/python3.6/site-packages/tensorflow_core/python/ops/math_grad.py:1424: where (from tensorflow.python.ops.array_ops) is deprecated and will be removed in a future version.\n",
      "Instructions for updating:\n",
      "Use tf.where in 2.0, which has the same broadcast rule as np.where\n",
      "WARNING:tensorflow:From /home/ubuntu/miniconda3/envs/mlip/lib/python3.6/site-packages/keras/backend/tensorflow_backend.py:1033: The name tf.assign_add is deprecated. Please use tf.compat.v1.assign_add instead.\n",
      "\n",
      "WARNING:tensorflow:From /home/ubuntu/miniconda3/envs/mlip/lib/python3.6/site-packages/keras/backend/tensorflow_backend.py:1020: The name tf.assign is deprecated. Please use tf.compat.v1.assign instead.\n",
      "\n",
      "WARNING:tensorflow:From /home/ubuntu/miniconda3/envs/mlip/lib/python3.6/site-packages/keras/backend/tensorflow_backend.py:3005: The name tf.Session is deprecated. Please use tf.compat.v1.Session instead.\n",
      "\n",
      "Train on 55000 samples, validate on 5000 samples\n",
      "Epoch 1/10\n",
      "WARNING:tensorflow:From /home/ubuntu/miniconda3/envs/mlip/lib/python3.6/site-packages/keras/backend/tensorflow_backend.py:190: The name tf.get_default_session is deprecated. Please use tf.compat.v1.get_default_session instead.\n",
      "\n",
      "WARNING:tensorflow:From /home/ubuntu/miniconda3/envs/mlip/lib/python3.6/site-packages/keras/backend/tensorflow_backend.py:197: The name tf.ConfigProto is deprecated. Please use tf.compat.v1.ConfigProto instead.\n",
      "\n",
      "WARNING:tensorflow:From /home/ubuntu/miniconda3/envs/mlip/lib/python3.6/site-packages/keras/backend/tensorflow_backend.py:207: The name tf.global_variables is deprecated. Please use tf.compat.v1.global_variables instead.\n",
      "\n",
      "WARNING:tensorflow:From /home/ubuntu/miniconda3/envs/mlip/lib/python3.6/site-packages/keras/backend/tensorflow_backend.py:216: The name tf.is_variable_initialized is deprecated. Please use tf.compat.v1.is_variable_initialized instead.\n",
      "\n",
      "WARNING:tensorflow:From /home/ubuntu/miniconda3/envs/mlip/lib/python3.6/site-packages/keras/backend/tensorflow_backend.py:223: The name tf.variables_initializer is deprecated. Please use tf.compat.v1.variables_initializer instead.\n",
      "\n",
      "55000/55000 [==============================] - 3s 63us/step - loss: 0.2782 - acc: 0.9188 - val_loss: 0.1331 - val_acc: 0.9644\n",
      "\n",
      "Epoch 00001: loss improved from inf to 0.27824, saving model to prueba1.h5\n",
      "Epoch 2/10\n",
      "55000/55000 [==============================] - 3s 55us/step - loss: 0.1320 - acc: 0.9614 - val_loss: 0.1203 - val_acc: 0.9660\n",
      "\n",
      "Epoch 00002: loss improved from 0.27824 to 0.13201, saving model to prueba1.h5\n",
      "Epoch 3/10\n",
      "55000/55000 [==============================] - 3s 55us/step - loss: 0.1023 - acc: 0.9701 - val_loss: 0.1138 - val_acc: 0.9668\n",
      "\n",
      "Epoch 00003: loss improved from 0.13201 to 0.10233, saving model to prueba1.h5\n",
      "Epoch 4/10\n",
      "55000/55000 [==============================] - 3s 55us/step - loss: 0.0862 - acc: 0.9751 - val_loss: 0.1130 - val_acc: 0.9698\n",
      "\n",
      "Epoch 00004: loss improved from 0.10233 to 0.08616, saving model to prueba1.h5\n",
      "Epoch 5/10\n",
      "55000/55000 [==============================] - 3s 55us/step - loss: 0.0745 - acc: 0.9789 - val_loss: 0.1058 - val_acc: 0.9728\n",
      "\n",
      "Epoch 00005: loss improved from 0.08616 to 0.07454, saving model to prueba1.h5\n",
      "Epoch 6/10\n",
      "55000/55000 [==============================] - 3s 55us/step - loss: 0.0659 - acc: 0.9816 - val_loss: 0.1076 - val_acc: 0.9734\n",
      "\n",
      "Epoch 00006: loss improved from 0.07454 to 0.06590, saving model to prueba1.h5\n",
      "Epoch 7/10\n",
      "55000/55000 [==============================] - 3s 56us/step - loss: 0.0569 - acc: 0.9837 - val_loss: 0.1185 - val_acc: 0.9722\n",
      "\n",
      "Epoch 00007: loss improved from 0.06590 to 0.05689, saving model to prueba1.h5\n",
      "Epoch 8/10\n",
      "55000/55000 [==============================] - 3s 55us/step - loss: 0.0526 - acc: 0.9851 - val_loss: 0.1108 - val_acc: 0.9750\n",
      "\n",
      "Epoch 00008: loss improved from 0.05689 to 0.05261, saving model to prueba1.h5\n",
      "Epoch 9/10\n",
      "55000/55000 [==============================] - 3s 56us/step - loss: 0.0485 - acc: 0.9868 - val_loss: 0.1176 - val_acc: 0.9746\n",
      "\n",
      "Epoch 00009: loss improved from 0.05261 to 0.04846, saving model to prueba1.h5\n",
      "Epoch 10/10\n",
      "55000/55000 [==============================] - 3s 55us/step - loss: 0.0420 - acc: 0.9877 - val_loss: 0.1187 - val_acc: 0.9764\n",
      "\n",
      "Epoch 00010: loss improved from 0.04846 to 0.04201, saving model to prueba1.h5\n",
      "CPU times: user 57.2 s, sys: 5.25 s, total: 1min 2s\n",
      "Wall time: 31.3 s\n"
     ]
    }
   ],
   "source": [
    "%%time\n",
    "history = model.fit(\n",
    "    X_train, y_train,\n",
    "    batch_size=BATCH_SIZE,\n",
    "    epochs=NUM_EPOCHS,\n",
    "    validation_data=(X_val, y_val),\n",
    "    callbacks=[model_checkpoint]\n",
    ")"
   ]
  },
  {
   "cell_type": "code",
   "execution_count": 16,
   "metadata": {
    "colab": {
     "base_uri": "https://localhost:8080/",
     "height": 590
    },
    "colab_type": "code",
    "executionInfo": {
     "elapsed": 404675,
     "status": "ok",
     "timestamp": 1573214897539,
     "user": {
      "displayName": "Mario Ferreyra",
      "photoUrl": "https://lh3.googleusercontent.com/a-/AAuE7mC3ALq72FIGdXTnw1XggOwOgPC7wztJCvlXdaEk2w=s64",
      "userId": "00857178684086436690"
     },
     "user_tz": 180
    },
    "id": "1NHdBqZUVSkJ",
    "outputId": "18ef3fb8-fd4e-4119-cc23-50d5091f39bd"
   },
   "outputs": [
    {
     "data": {
      "text/plain": [
       "Text(0,0.5,'Loss')"
      ]
     },
     "execution_count": 16,
     "metadata": {},
     "output_type": "execute_result"
    },
    {
     "data": {
      "image/png": "[encoded data removed]",
      "text/plain": [
       "<Figure size 432x288 with 1 Axes>"
      ]
     },
     "metadata": {},
     "output_type": "display_data"
    },
    {
     "data": {
      "image/png": "[encoded data removed]",
      "text/plain": [
       "<Figure size 432x288 with 1 Axes>"
      ]
     },
     "metadata": {},
     "output_type": "display_data"
    }
   ],
   "source": [
    "## visuzalimos curvas de entrenamiento\n",
    "\n",
    "plt.figure()\n",
    "plt.title(\"Accuracy vs epochs\")\n",
    "plt.plot(history.history['acc'])\n",
    "plt.plot(history.history['val_acc'])\n",
    "plt.legend(['Training Accuracy', 'Validation Accuracy'])\n",
    "plt.xlabel(\"Epoch\")\n",
    "plt.ylabel(\"Accuracy\")\n",
    "\n",
    "\n",
    "plt.figure()\n",
    "plt.title(\"Loss vs epochs\")\n",
    "plt.plot(history.history['loss'])\n",
    "plt.plot(history.history['val_loss'])\n",
    "plt.legend(['Training Loss', 'Validation Loss'])\n",
    "plt.xlabel(\"Epoch\")\n",
    "plt.ylabel(\"Loss\")"
   ]
  },
  {
   "cell_type": "code",
   "execution_count": 17,
   "metadata": {
    "colab": {
     "base_uri": "https://localhost:8080/",
     "height": 68
    },
    "colab_type": "code",
    "executionInfo": {
     "elapsed": 403555,
     "status": "ok",
     "timestamp": 1573214897915,
     "user": {
      "displayName": "Mario Ferreyra",
      "photoUrl": "https://lh3.googleusercontent.com/a-/AAuE7mC3ALq72FIGdXTnw1XggOwOgPC7wztJCvlXdaEk2w=s64",
      "userId": "00857178684086436690"
     },
     "user_tz": 180
    },
    "id": "_r7AoH_MVSkL",
    "outputId": "0e433119-2706-4907-92c8-adbcd6a37e5f"
   },
   "outputs": [
    {
     "name": "stdout",
     "output_type": "stream",
     "text": [
      "10000/10000 [==============================] - 0s 21us/step\n",
      "Test loss    : 0.12696231113243556\n",
      "Test accuracy: 0.9728\n"
     ]
    }
   ],
   "source": [
    "score = model.evaluate(X_test, y_test, verbose=1)\n",
    "print('Test loss    : {}'.format(score[0]))\n",
    "print('Test accuracy: {}'.format(score[1]))"
   ]
  },
  {
   "cell_type": "markdown",
   "metadata": {
    "colab_type": "text",
    "id": "SESoVhi9VSkN"
   },
   "source": [
    "## Usemos este modelo para hacer predicciones"
   ]
  },
  {
   "cell_type": "code",
   "execution_count": 18,
   "metadata": {
    "colab": {
     "base_uri": "https://localhost:8080/",
     "height": 51
    },
    "colab_type": "code",
    "executionInfo": {
     "elapsed": 1087,
     "status": "ok",
     "timestamp": 1573215910783,
     "user": {
      "displayName": "Mario Ferreyra",
      "photoUrl": "https://lh3.googleusercontent.com/a-/AAuE7mC3ALq72FIGdXTnw1XggOwOgPC7wztJCvlXdaEk2w=s64",
      "userId": "00857178684086436690"
     },
     "user_tz": 180
    },
    "id": "XXt50iWJVSkN",
    "outputId": "d8ed6fe9-ace1-44cd-b6ea-b45390ef3fb6"
   },
   "outputs": [
    {
     "name": "stdout",
     "output_type": "stream",
     "text": [
      "(10000, 10)\n"
     ]
    }
   ],
   "source": [
    "## A completar: utilizar imagenes de testeo\n",
    "\n",
    "predictions = model.predict(X_test)\n",
    "print(predictions.shape)"
   ]
  },
  {
   "cell_type": "code",
   "execution_count": 19,
   "metadata": {},
   "outputs": [
    {
     "data": {
      "image/png": "[encoded data removed]",
      "text/plain": [
       "<Figure size 1080x1080 with 9 Axes>"
      ]
     },
     "metadata": {},
     "output_type": "display_data"
    }
   ],
   "source": [
    "fig, ax = plt.subplots(3, 3, figsize=[15, 15])\n",
    "\n",
    "for j in range(3):\n",
    "    for i in range(3):\n",
    "        random_image = np.random.randint(low=0, high=1000, size=1)\n",
    "\n",
    "        ax[i,j].imshow(X_test[random_image].reshape(28,28), 'gray')\n",
    "        ax[i,j].set_xticks([])\n",
    "        ax[i,j].set_yticks([])\n",
    "        ax[i,j].set_title(f'Predccion de mi red:  {np.argmax(predictions[random_image])}', color='r')\n",
    "\n",
    "plt.show()"
   ]
  },
  {
   "cell_type": "code",
   "execution_count": null,
   "metadata": {
    "colab": {},
    "colab_type": "code",
    "id": "7sYx1ZKfVSkS"
   },
   "outputs": [],
   "source": []
  }
 ],
 "metadata": {
  "accelerator": "GPU",
  "anaconda-cloud": {},
  "colab": {
   "collapsed_sections": [],
   "name": "Laboratorio1.ipynb",
   "provenance": []
  },
  "kernelspec": {
   "display_name": "mlip",
   "language": "python",
   "name": "mlip"
  },
  "language_info": {
   "codemirror_mode": {
    "name": "ipython",
    "version": 3
   },
   "file_extension": ".py",
   "mimetype": "text/x-python",
   "name": "python",
   "nbconvert_exporter": "python",
   "pygments_lexer": "ipython3",
   "version": "3.6.9"
  }
 },
 "nbformat": 4,
 "nbformat_minor": 4
}
