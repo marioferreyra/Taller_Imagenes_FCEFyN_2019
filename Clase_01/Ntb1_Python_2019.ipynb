{
 "cells": [
  {
   "cell_type": "markdown",
   "metadata": {
    "slideshow": {
     "slide_type": "-"
    }
   },
   "source": [
    "### Curso-Taller 2019: Aprendizaje Automático e Imágenes en Python \n",
    "* Docentes:  Dra. Valeria S. Rulloni - Dra. Laura M. Vargas\n",
    "* Ayudantes: Axel Aguerreberry - Sebastián Palacio\n",
    "* Colaboradoras: Dra. Ana Carolina Maldonado - Dra. Claudia Egea\n",
    "\n",
    "### Temario a desarrollar:\n",
    "*\tUso y herramientas básicas de Python\n",
    "*\tImágenes digitales: tipos (binarias, monocromáticas y a color)\n",
    "*\tHistograma. Mejora de la imagen: contraste, filtros: suavizado y detección de bordes.\n",
    "*\tUmbralado y Binarización. Operaciones Morfológicas: erosión, dilatación, cierre y apertura.\n",
    "*\tClasificación de imágenes.\n",
    "*\tAprendizaje automático\n",
    "*\tAprendizaje profundo: Redes neuronales\n",
    "*\tAplicaciones: Grafos para segmentación de imágenes, entre otras.\n",
    "\n",
    "\n",
    "### Algunas recomendaciones:\n",
    "+ Este archivo y todos los de extensión `.ipynb` se abren con jupyter o Google Collaboratory y se dividen en bloques.\n",
    "+ Básicamente: bloques de texto (Markdown) y otros de código (Code, en Python). \n",
    "+ Cualquier bloque se ejecuta con shift+enter o utilizando el botón Run.\n",
    "\n",
    "## Jornada 1\n",
    "### Uso Básico de Python (con Jupyter Notebook o en Collaboratory):\n",
    "\n",
    "+ Se producen archivos `*.ipynb` (o también puede ser archivos Python del tipo `*.py`):\n",
    "\n",
    "**TIPS:**\n",
    "* Los bloques se pueden eliminar con el menú Edit. O con los botones correspondientes (cortar, copiar, pegar, desplazar).\n",
    "\n",
    "* El archivo se puede ejecutar en el entorno de Windows en la carpeta correspondiente (o desde cualquiera si se ha configurado el path) mediante el comando python en línea de comandos\n",
    "\n",
    "**En los bloques de texto** :\n",
    "\n",
    "* Mediante un doble clic en el bloque, posibilito la modificación del mismo.\n",
    "* Después del símbolo # se debe dejar un espacio.\n",
    "* Con uno, dos o tres numerales se maneja el tamaño de la letra.\n",
    "* Encerrando un texto entre uno o dos asteriscos se consigue texto en cursiva o negrita.\n",
    "\n",
    "**En los bloques de código** :\n",
    "* Si el renglón  empieza con # es comentario, si no, es instrucción.\n",
    "* En una línea de instrucción, se pueda agregar al final un comentario luego de #.\n",
    "\n",
    "\n",
    "### shift+enter para ejecutar (o botón Run), tanto en bloque de textos como de códigos\n",
    "\n"
   ]
  },
  {
   "cell_type": "markdown",
   "metadata": {},
   "source": [
    "## Instrucciones Básicas\n",
    "\n",
    "### Captura de Datos: input   \n",
    "### Muestra de Datos: print"
   ]
  },
  {
   "cell_type": "code",
   "execution_count": 1,
   "metadata": {},
   "outputs": [
    {
     "name": "stdin",
     "output_type": "stream",
     "text": [
      "Dígame un número:  10\n"
     ]
    },
    {
     "name": "stdout",
     "output_type": "stream",
     "text": [
      "El nro ingresado es: 10\n",
      "El tipo del dato ingresado es: <class 'str'>\n"
     ]
    }
   ],
   "source": [
    "# Se pide el ingreso de un número por teclado y se muestra el número y el tipo de dato.\n",
    "# Si no forzamos el tipo de dato en el ingreso, lo toma como string (cadena de caracteres)\n",
    "numero = input(\"Dígame un número: \")\n",
    "print(\"El nro ingresado es: {}\".format(numero))\n",
    "print(\"El tipo del dato ingresado es: {}\".format(type(numero)))"
   ]
  },
  {
   "cell_type": "markdown",
   "metadata": {},
   "source": [
    "**Tipos de datos básicos en Python**\n",
    "\n",
    "int\n",
    "\n",
    "float\n",
    "\n",
    "bool\n",
    "\n",
    "complex\n",
    "\n",
    "str"
   ]
  },
  {
   "cell_type": "code",
   "execution_count": 2,
   "metadata": {},
   "outputs": [
    {
     "name": "stdin",
     "output_type": "stream",
     "text": [
      "Introduce una cadena de texto:  hola\n"
     ]
    },
    {
     "name": "stdout",
     "output_type": "stream",
     "text": [
      "La cadena que ingresó es: hola\n",
      "El tipo del dato ingresado es: <class 'str'>\n",
      "La cadena que ingresó es: \"hola\"\n"
     ]
    }
   ],
   "source": [
    "# Recibe el texto ingresado y lo almacena en la variable cadena que es string\n",
    "cadena = input(\"Introduce una cadena de texto: \")\n",
    "print(\"La cadena que ingresó es: {}\".format(cadena))\n",
    "print(\"El tipo del dato ingresado es: {}\".format(type(cadena)))\n",
    "\n",
    "print('La cadena que ingresó es: \"{}\"'.format(cadena))\n",
    "# Para mostrar comillas dobles, debo usar comillas simples que la contengan."
   ]
  },
  {
   "cell_type": "markdown",
   "metadata": {},
   "source": [
    "**Si desea que el número corresponda a un tipo de dato numérico, por ejemplo número entero o flotante, debe darle la orden**"
   ]
  },
  {
   "cell_type": "code",
   "execution_count": 3,
   "metadata": {},
   "outputs": [
    {
     "name": "stdin",
     "output_type": "stream",
     "text": [
      "Dígame un número:  7\n"
     ]
    },
    {
     "name": "stdout",
     "output_type": "stream",
     "text": [
      "El nro ingresado es: 7\n",
      "El tipo del dato ingresado es '<class 'int'>' porque se lo forzó\n"
     ]
    }
   ],
   "source": [
    "numero = int(input(\"Dígame un número: \"))\n",
    "print(\"El nro ingresado es: {}\".format(numero))\n",
    "print(\"El tipo del dato ingresado es '{}' porque se lo forzó\".format(type(numero)))"
   ]
  },
  {
   "cell_type": "code",
   "execution_count": 4,
   "metadata": {},
   "outputs": [
    {
     "name": "stdin",
     "output_type": "stream",
     "text": [
      "Dígame un número:  10\n"
     ]
    },
    {
     "name": "stdout",
     "output_type": "stream",
     "text": [
      "El nro ingresado es: 10.0\n",
      "El tipo del dato ingresado es '<class 'float'>' porque se lo forzó\n"
     ]
    }
   ],
   "source": [
    "numero = float(input(\"Dígame un número: \"))\n",
    "print(\"El nro ingresado es: {}\".format(numero))\n",
    "print(\"El tipo del dato ingresado es '{}' porque se lo forzó\".format(type(numero)))"
   ]
  },
  {
   "cell_type": "markdown",
   "metadata": {},
   "source": [
    "Si asignamos un valor numérico a una variable, esta define automáticamente el tipo.\n",
    "\n",
    "Los números reales se almacenan en variables tipo `float`.\n",
    "\n",
    "Los valores que puede representar van desde ±2,2250738585072020 x 10-308 hasta ±1,7976931348623157×10308, ya que utilizan 64 bits.\n"
   ]
  },
  {
   "cell_type": "code",
   "execution_count": 5,
   "metadata": {},
   "outputs": [
    {
     "name": "stdout",
     "output_type": "stream",
     "text": [
      "Asignacion de un número entero a una variable. El dato asignado es '24' y su tipo es <class 'int'>\n",
      "Asignacion de un número real a una variable. El dato asignado es '24.0' y su tipo es <class 'float'>\n",
      "El dato asignado a la variable es '456966786151987643' y su tipo es <class 'int'>\n"
     ]
    }
   ],
   "source": [
    "nroi = 24\n",
    "print(\"Asignacion de un número entero a una variable. El dato asignado es '{}' y su tipo es {}\".format(nroi, type(nroi)))\n",
    "\n",
    "nrof = 24.0\n",
    "print(\"Asignacion de un número real a una variable. El dato asignado es '{}' y su tipo es {}\".format(nrof, type(nrof)))\n",
    "\n",
    "# Asignamos un entero largo\n",
    "nroL = 456966786151987643\n",
    "print(\"El dato asignado a la variable es '{}' y su tipo es {}\".format(nroL, type(nroL)))"
   ]
  },
  {
   "cell_type": "markdown",
   "metadata": {},
   "source": [
    "**También se pueden asignar valores utilizando notación científica**"
   ]
  },
  {
   "cell_type": "code",
   "execution_count": 6,
   "metadata": {},
   "outputs": [
    {
     "name": "stdout",
     "output_type": "stream",
     "text": [
      "0.002\n",
      "El tipo de dato asignado con notación científica es <class 'float'>\n"
     ]
    }
   ],
   "source": [
    "nror = 2e-3\n",
    "print(nror)\n",
    "print(\"El tipo de dato asignado con notación científica es {}\".format(type(nror)))"
   ]
  },
  {
   "cell_type": "markdown",
   "metadata": {},
   "source": [
    "#### En las versiones actuales no hace falta definir enteros long. Toma tantos bits para almacenar como haga falta"
   ]
  },
  {
   "cell_type": "code",
   "execution_count": 7,
   "metadata": {},
   "outputs": [
    {
     "name": "stdout",
     "output_type": "stream",
     "text": [
      "-3\n",
      "3\n",
      "3\n"
     ]
    }
   ],
   "source": [
    "# Se puede calcular el valor absoluto de un número sin recurrir a librerías \n",
    "nro = -3\n",
    "print(nro)\n",
    "print(abs(nro))\n",
    "\n",
    "c = abs(nro)\n",
    "print(c)"
   ]
  },
  {
   "cell_type": "code",
   "execution_count": 8,
   "metadata": {},
   "outputs": [
    {
     "name": "stdout",
     "output_type": "stream",
     "text": [
      "0.348 <class 'float'>\n",
      "10.5 <class 'float'>\n",
      "150.0 <class 'float'>\n"
     ]
    }
   ],
   "source": [
    "#Se pueden hacer asignaciones simultáneas así como se concatena la muestra en pantalla\n",
    "float_1, float_2, float_3 = 0.348, 10.5, 1.5e2\n",
    "print(float_1, type(float_1))\n",
    "print(float_2, type(float_2))\n",
    "print(float_3, type(float_3))"
   ]
  },
  {
   "cell_type": "markdown",
   "metadata": {},
   "source": [
    "**También puede manipular números complejos**"
   ]
  },
  {
   "cell_type": "code",
   "execution_count": 9,
   "metadata": {},
   "outputs": [
    {
     "name": "stdout",
     "output_type": "stream",
     "text": [
      "(1+3.14j) 3.14 1.0 <class 'complex'>\n"
     ]
    }
   ],
   "source": [
    "complejo = 1+ 3.14j\n",
    "print(complejo, complejo.imag, complejo.real, type(complejo))"
   ]
  },
  {
   "cell_type": "markdown",
   "metadata": {},
   "source": [
    "**Puede convertir tipos de datos numéricos con las funciones `int()`, `float()`, `complex()`**"
   ]
  },
  {
   "cell_type": "code",
   "execution_count": 10,
   "metadata": {},
   "outputs": [
    {
     "name": "stdout",
     "output_type": "stream",
     "text": [
      "<class 'float'> 3 (3.4+0j) 3.4\n"
     ]
    }
   ],
   "source": [
    "h = type(3.4)\n",
    "o = int(3.4)\n",
    "l = complex(3.4)\n",
    "a = float(3.4)\n",
    "print(h, o, l, a)\n",
    "# float(l) # Función inválida para dato complejo\n",
    "# float(\"palabra\") # Función inválida para dato string"
   ]
  },
  {
   "cell_type": "code",
   "execution_count": 11,
   "metadata": {},
   "outputs": [],
   "source": [
    "# Este bloque de código es para que pruebe con otros ejemplos similares de lo visto hasta ahora:"
   ]
  },
  {
   "cell_type": "markdown",
   "metadata": {},
   "source": [
    "### Operaciones Aritméticas Elementales- Ejemplos"
   ]
  },
  {
   "cell_type": "markdown",
   "metadata": {},
   "source": [
    "### Operaciones aritméticas +, -, *, / ** "
   ]
  },
  {
   "cell_type": "code",
   "execution_count": 12,
   "metadata": {},
   "outputs": [
    {
     "name": "stdin",
     "output_type": "stream",
     "text": [
      "Dígame un número que llameremos x:  10\n"
     ]
    },
    {
     "name": "stdout",
     "output_type": "stream",
     "text": [
      "El nro ingresado es: 10.0\n",
      "Tipo de x: <class 'float'>\n",
      "Valor de x = 10.0\n",
      "x+1 = 11.0\n",
      "x-1 = 9.0\n",
      "x*2 = 20.0\n",
      "x/2 = 5.0\n",
      "x^2 = 100.0\n",
      "Para imprimir varios valores en una línea:\n",
      "1 2 10.0 10\n"
     ]
    }
   ],
   "source": [
    "# Ingresando un número por teclado\n",
    "x = float(input(\"Dígame un número que llameremos x: \"))\n",
    "print(\"El nro ingresado es: {}\".format(x))\n",
    "\n",
    "print(\"Tipo de x: {}\".format(type(x)))  # Imprime el tipo (o `clase`) de x\n",
    "print(\"Valor de x = {}\".format(x))\n",
    "print(\"x+1 = {}\".format(x+1))\n",
    "print(\"x-1 = {}\".format(x-1))\n",
    "print(\"x*2 = {}\".format(x*2))\n",
    "print(\"x/2 = {}\".format(x/2))\n",
    "print(\"x^2 = {}\".format(x**2))\n",
    "print(\"Para imprimir varios valores en una línea:\")\n",
    "print(1,2,x,5*2) # imprime varios valores a la vez en la misma línea"
   ]
  },
  {
   "cell_type": "code",
   "execution_count": 13,
   "metadata": {},
   "outputs": [
    {
     "name": "stdout",
     "output_type": "stream",
     "text": [
      "4\n",
      "1\n"
     ]
    }
   ],
   "source": [
    "# Operaciones entre números enteros: cociente y resto (o módulo)\n",
    "a = 9\n",
    "b =2\n",
    "print(a//b)  # Cociente entre enteros- Devuelve 4\n",
    "print(a%b)  # Resto entre enteros- Devuelve 1"
   ]
  },
  {
   "cell_type": "code",
   "execution_count": 14,
   "metadata": {},
   "outputs": [],
   "source": [
    "#este bloque de código es para que pruebe con otros ejemplos similares de lo visto hasta ahora:"
   ]
  },
  {
   "cell_type": "markdown",
   "metadata": {},
   "source": [
    "**Ejercicio 1: Definir una variable $a$ con valor 5 y una variable $b$ que sea igual al cubo de la anterior más 2. Mostrarlas en pantalla**"
   ]
  },
  {
   "cell_type": "code",
   "execution_count": 15,
   "metadata": {},
   "outputs": [
    {
     "name": "stdout",
     "output_type": "stream",
     "text": [
      "a = 5\n",
      "b = 127.0\n"
     ]
    }
   ],
   "source": [
    "import math\n",
    "\n",
    "a = 5\n",
    "b = math.pow(a, 3) + 2\n",
    "\n",
    "print(\"a = {}\".format(a))\n",
    "print(\"b = {}\".format(b))"
   ]
  },
  {
   "cell_type": "markdown",
   "metadata": {},
   "source": [
    "**Ejercicio 2: En el siguiente bloque o en un nuevo cuaderno (notebook) definir** \n",
    "* (a) la variable **var1** que contenga al número 10. Luego a \n",
    "* (b) **var2** como el doble de **var1** \n",
    "* (c) **var3** como el resultado de una cuenta combinada a su gusto.\n",
    "* (d) Imprima los resultados"
   ]
  },
  {
   "cell_type": "code",
   "execution_count": 16,
   "metadata": {},
   "outputs": [
    {
     "name": "stdout",
     "output_type": "stream",
     "text": [
      "Var 1 = 10\n",
      "Var 2 = 20\n",
      "Var 3 = 50\n"
     ]
    }
   ],
   "source": [
    "var1 = 10\n",
    "var2 = var1 * 2\n",
    "var3 = var1 + 2 * var2\n",
    "\n",
    "print(\"Var 1 = {}\".format(var1))\n",
    "print(\"Var 2 = {}\".format(var2))\n",
    "print(\"Var 3 = {}\".format(var3))"
   ]
  },
  {
   "cell_type": "markdown",
   "metadata": {},
   "source": [
    "**Ejercicio extra**:\n",
    "\n",
    "ingrese 5 numeros usando range, cuente cuantos son mayores a 18"
   ]
  },
  {
   "cell_type": "code",
   "execution_count": 18,
   "metadata": {},
   "outputs": [
    {
     "name": "stdin",
     "output_type": "stream",
     "text": [
      "Ingrese un numero:  10\n",
      "Ingrese un numero:  10\n",
      "Ingrese un numero:  -1\n",
      "Ingrese un numero:  421\n",
      "Ingrese un numero:  321\n"
     ]
    },
    {
     "name": "stdout",
     "output_type": "stream",
     "text": [
      "Usted ingreso 2 numeros mayores a 18\n"
     ]
    }
   ],
   "source": [
    "count = 0\n",
    "for _ in range(5):\n",
    "    input_num = int(input(\"Ingrese un numero: \"))\n",
    "    if input_num > 18:\n",
    "        count += 1\n",
    "\n",
    "print(\"Usted ingreso {} numeros mayores a 18\".format(count))"
   ]
  },
  {
   "cell_type": "markdown",
   "metadata": {},
   "source": [
    "**Lista de Operadores de Asignación**\n",
    "\n",
    "Operador =\n",
    "\n",
    "Operador +=\n",
    "\n",
    "Operador -=\n",
    "\n",
    "Operador *=\n",
    "\n",
    "Operador /=\n",
    "\n",
    "Operador**=\n",
    "\n",
    "Operador //=\n",
    "\n",
    "Operador %=\n",
    "\n"
   ]
  },
  {
   "cell_type": "code",
   "execution_count": 19,
   "metadata": {},
   "outputs": [
    {
     "name": "stdout",
     "output_type": "stream",
     "text": [
      "Valor de variable 'a': 21\n",
      "Valor de variable 'b': 10\n",
      "Valor de variable 'c': 0\n",
      "Valor de variable 'd': 3\n",
      "El valor de variable 'c = a + b' es 31\n",
      "Operador +=  c+=a | El valor de variable 'c' es 52\n",
      "Operador *= | El nuevo valor de variable c, c*=b es 520\n",
      "Operador /= | El nuevo valor de variable c, c/=b es 52.0\n",
      "Operador **= | El nuevo valor de b, resultado de elvar b al exponente d, b**=d 1000\n",
      "Operador //= | El nuevo valor de b, resultado de dividir (en enteros) b por a, b//=a es 47\n",
      "Operador %= | El nuevo valor de c, resto de la división en enteros, c por d, c%=d es 1.0\n"
     ]
    }
   ],
   "source": [
    "#Ejemplo del uso de operadores de asignación\n",
    "\n",
    "a, b, c, d = 21, 10, 0, 3\n",
    "# Al asignar un valor a las variables estoy determinando el tipo de dato\n",
    "\n",
    "print(\"Valor de variable 'a': {}\".format(a))\n",
    "print(\"Valor de variable 'b': {}\".format(b))\n",
    "print(\"Valor de variable 'c': {}\".format(c))\n",
    "print(\"Valor de variable 'd': {}\".format(d))\n",
    "\n",
    "c = a + b\n",
    "print(\"El valor de variable 'c = a + b' es {}\".format(c))\n",
    "\n",
    "c += a\n",
    "# A c le suma el valor de a y el resultado es guardado en c\n",
    "print(\"Operador +=  c+=a | El valor de variable 'c' es {}\".format(c))\n",
    "\n",
    "c *= b\n",
    "# El valor guardado en c es multiplicado por el valor de a y el resultado es almacenado en c\n",
    "print(\"Operador *= | El nuevo valor de variable c, c*=b es {}\".format(c))\n",
    "\n",
    "c /= b \n",
    "# Lo mismo que en el caso anterior con la división\n",
    "print(\"Operador /= | El nuevo valor de variable c, c/=b es {}\".format(c))\n",
    "\n",
    "b **= d\n",
    "# Se eleva b al exponente d\n",
    "print(\"Operador **= | El nuevo valor de b, resultado de elvar b al exponente d, b**=d {}\".format(b))\n",
    "\n",
    "b //= a\n",
    "print(\"Operador //= | El nuevo valor de b, resultado de dividir (en enteros) b por a, b//=a es {}\".format(b))\n",
    "\n",
    "c %= d\n",
    "# Se obtiene el resto de dividir c por d\n",
    "print(\"Operador %= | El nuevo valor de c, resto de la división en enteros, c por d, c%=d es {}\".format(c))"
   ]
  },
  {
   "cell_type": "code",
   "execution_count": 20,
   "metadata": {},
   "outputs": [
    {
     "name": "stdout",
     "output_type": "stream",
     "text": [
      "2.5 <class 'float'>\n",
      "Si quiero bajar de línea \n",
      "Permite continuar en la siguiente\n",
      "25.0 <class 'float'>\n",
      "35.0\n",
      "32.5\n",
      "(1+1j) <class 'complex'>\n"
     ]
    }
   ],
   "source": [
    "# Más ejemplos mezclados\n",
    "y = 2.5\n",
    "print(y, type(y))\n",
    "print(\"Si quiero bajar de línea \\nPermite continuar en la siguiente\")\n",
    "\n",
    "z = x*y\n",
    "print(z,type(z))\n",
    "\n",
    "z+=x  # Equivale a z=z+x\n",
    "print(z)\n",
    "\n",
    "z-=y # Equivale a z=z-y\n",
    "print(z)\n",
    "\n",
    "t=1+1j # Permite complejos, acompañada siempre la j de un número\n",
    "print(t, type(t))"
   ]
  },
  {
   "cell_type": "markdown",
   "metadata": {},
   "source": [
    "**Ejercicio 3: En el siguiente bloque o en un nuevo cuaderno (notebook) definir, usando los operadores de asinación:** \n",
    "* (a) la variable **x** que contenga al número 30. Luego a \n",
    "* (b) cambiarla por el resto de dividir a **x** por 7 y \n",
    "* (c) luego como el resultado de una cuenta combinada a su gusto.\n",
    "* (d) Imprima los resultados parciales y el final"
   ]
  },
  {
   "cell_type": "code",
   "execution_count": 21,
   "metadata": {},
   "outputs": [
    {
     "name": "stdout",
     "output_type": "stream",
     "text": [
      "x = 30\n",
      "x = 2\n",
      "x = 4\n"
     ]
    }
   ],
   "source": [
    "x = 30\n",
    "print(\"x = {}\".format(x))\n",
    "x = x % 7\n",
    "print(\"x = {}\".format(x))\n",
    "x *= 2\n",
    "print(\"x = {}\".format(x))"
   ]
  },
  {
   "cell_type": "markdown",
   "metadata": {},
   "source": [
    "### Datos booleanos (True y False)\n",
    "### Operaciones Lógicas AND, OR y NOT"
   ]
  },
  {
   "attachments": {
    "image.png": {
     "image/png": "[encoded data removed]"
    }
   },
   "cell_type": "markdown",
   "metadata": {},
   "source": [
    "![image.png](attachment:image.png)"
   ]
  },
  {
   "cell_type": "code",
   "execution_count": 22,
   "metadata": {},
   "outputs": [
    {
     "name": "stdout",
     "output_type": "stream",
     "text": [
      "Valor de v1: True - Su tipo es: <class 'bool'>\n",
      "Valor de v2: False - Su tipo es: <class 'bool'>\n",
      "\n",
      "v1 and v2 = False\n",
      "v1 or v2  = True\n",
      "v1 negado = False\n"
     ]
    }
   ],
   "source": [
    "# Tipo de dato booleano: 'bool'\n",
    "v1 = True # El valor verdadero: True \n",
    "v2 = False # El valor falso: False\n",
    "\n",
    "print(\"Valor de v1: {} - Su tipo es: {}\".format(v1, type(v1)))\n",
    "print(\"Valor de v2: {} - Su tipo es: {}\".format(v2, type(v2)))\n",
    "print()\n",
    "\n",
    "# Operaciones Lógicas y, o y negación\n",
    "print(\"v1 and v2 = {}\".format(v1 and v2)) # y lógico; imprime False\n",
    "print(\"v1 or v2  = {}\".format(v1 or v2))  # o lógico; imprime True\n",
    "print(\"v1 negado = {}\".format(not v1))   # negación lógica, imprime False"
   ]
  },
  {
   "cell_type": "code",
   "execution_count": 23,
   "metadata": {},
   "outputs": [
    {
     "name": "stdout",
     "output_type": "stream",
     "text": [
      "3 == 5 False\n",
      "3 != 6 True\n",
      "3 < 5 True\n"
     ]
    }
   ],
   "source": [
    "# Comparaciones \n",
    "print(\"3 == 5\", 3 == 5)  # Imprime False ya que son distintos\n",
    "print(\"3 != 6\", 3 != 6)  # Imprime True ya que son distintos\n",
    "print(\"3 < 5\", 3 < 5)  # Imprime True ya que 3 es menor que 5"
   ]
  },
  {
   "cell_type": "markdown",
   "metadata": {},
   "source": [
    "**Ejercicio 4:** \n",
    "* Asigne el valor 7 a la variable $x$.\n",
    "* Verifique e imprima la veracidad de la siguiente afirmación: $x^2+5-2$ igual a $(x*5-9)*2$, para el valor $x$ asignado en el item anterior, usando las herramientas vistas hasta el momento.\n",
    "* Verifique e imprima que no es cireto si x es -7"
   ]
  },
  {
   "cell_type": "code",
   "execution_count": 24,
   "metadata": {},
   "outputs": [
    {
     "name": "stdout",
     "output_type": "stream",
     "text": [
      "x = 7\n",
      "res1 = 52\n",
      "res2 = 52\n",
      "res3 = 52\n",
      "res4 = -88\n",
      "res1 es igual a res2 ?    : True\n",
      "res3 es distinto a res4 ? : True\n"
     ]
    }
   ],
   "source": [
    "x = 7\n",
    "res1 = x**2 + 5 - 2\n",
    "res2 = (x * 5 - 9) * 2\n",
    "res3 = (-x)**2 + 5 - 2\n",
    "res4 = ((-x) * 5 - 9) * 2\n",
    "\n",
    "print(\"x = {}\".format(x))\n",
    "print(\"res1 = {}\".format(res1))\n",
    "print(\"res2 = {}\".format(res2))\n",
    "print(\"res3 = {}\".format(res3))\n",
    "print(\"res4 = {}\".format(res4))\n",
    "\n",
    "print(\"res1 es igual a res2 ?    : {}\".format(res1 == res2))\n",
    "print(\"res3 es distinto a res4 ? : {}\".format(res3 != res4))"
   ]
  },
  {
   "cell_type": "markdown",
   "metadata": {},
   "source": [
    "\n",
    "### Estructura de Decisión: if"
   ]
  },
  {
   "cell_type": "markdown",
   "metadata": {},
   "source": [
    "Su sintaxis es\n",
    "\n",
    "if condicion : \n",
    "\n",
    "    cuerpo del if #indentado con 4 espacios\n",
    "    \n",
    "else:\n",
    "    \n",
    "    cuerpo del else #indentado con 4 espacios\n"
   ]
  },
  {
   "cell_type": "code",
   "execution_count": 25,
   "metadata": {},
   "outputs": [
    {
     "name": "stdout",
     "output_type": "stream",
     "text": [
      "La persona es\n",
      "Mayor\n"
     ]
    }
   ],
   "source": [
    "# Ejemplo\n",
    "edad = 25\n",
    "\n",
    "print(\"La persona es\")\n",
    "if edad < 18:\n",
    "    print(\"Menor\") \n",
    "else:\n",
    "    print(\"Mayor\")"
   ]
  },
  {
   "cell_type": "markdown",
   "metadata": {},
   "source": [
    "**Los ifs se pueden anidar**\n",
    "\n",
    "**Los ifs pueden servir a distintas alternativas**\n",
    "\n",
    "**Ejemplo de pseudocódigo con 4 alternativas**\n",
    "\n",
    "```\n",
    "if condición_1:\n",
    "    bloque 1\n",
    "\n",
    "elif condición_2:\n",
    "    bloque 2\n",
    "\n",
    "elif condición_3\n",
    "    bloque 3\n",
    "\n",
    "else:\n",
    "    bloque 4\n",
    "```"
   ]
  },
  {
   "cell_type": "code",
   "execution_count": 27,
   "metadata": {},
   "outputs": [
    {
     "name": "stdin",
     "output_type": "stream",
     "text": [
      "Ingrese edad:  213\n"
     ]
    },
    {
     "name": "stdout",
     "output_type": "stream",
     "text": [
      "Mayor de edad\n"
     ]
    }
   ],
   "source": [
    "# Ejemplo opciones múltiples\n",
    "\n",
    "edad = int(input(\"Ingrese edad: \"))\n",
    "if edad < 0:\n",
    "    print(\"Error\")\n",
    "elif edad < 18:\n",
    "    print(\"Menor de edad\")\n",
    "else:\n",
    "    print(\"Mayor de edad\")"
   ]
  },
  {
   "cell_type": "code",
   "execution_count": 28,
   "metadata": {},
   "outputs": [
    {
     "name": "stdin",
     "output_type": "stream",
     "text": [
      "Ingrese edad:  10\n"
     ]
    },
    {
     "name": "stdout",
     "output_type": "stream",
     "text": [
      "Menor de edad\n"
     ]
    }
   ],
   "source": [
    "#el mismo ejemplo pero usando operadores lógicos\n",
    "edad = int(input(\"Ingrese edad: \"))\n",
    "if edad >= 18:\n",
    "    print(\"Mayor de edad\")\n",
    "else:\n",
    "    if (edad >= 0) and (edad < 18):\n",
    "        print(\"Menor de edad\")\n",
    "    else: \n",
    "        print(\"Error\")"
   ]
  },
  {
   "cell_type": "markdown",
   "metadata": {},
   "source": [
    "### Operadores para comparar:\n",
    "\n",
    "#### == ;    !=  ;   <   ;    >  ;     <=   ;     >="
   ]
  },
  {
   "cell_type": "code",
   "execution_count": 29,
   "metadata": {},
   "outputs": [
    {
     "name": "stdin",
     "output_type": "stream",
     "text": [
      "Ingrese nro:  10\n",
      "Ingrese nro:  20\n"
     ]
    },
    {
     "name": "stdout",
     "output_type": "stream",
     "text": [
      "\n",
      "Los números ingresados son diferentes\n"
     ]
    }
   ],
   "source": [
    "# Comparaciones\n",
    "nro1 = int(input('Ingrese nro: '))\n",
    "nro2 = int(input('Ingrese nro: '))\n",
    "if nro1 == nro2:\n",
    "    print('\\nLos números ingresados son iguales')\n",
    "else:\n",
    "    print('\\nLos números ingresados son diferentes')"
   ]
  },
  {
   "cell_type": "code",
   "execution_count": 30,
   "metadata": {},
   "outputs": [
    {
     "name": "stdin",
     "output_type": "stream",
     "text": [
      "Ingrese nro:  30\n",
      "Ingrese nro:  40\n"
     ]
    },
    {
     "name": "stdout",
     "output_type": "stream",
     "text": [
      "\n",
      "Los números ingresados son distintos\n"
     ]
    }
   ],
   "source": [
    "# Comparaciones\n",
    "nro1 = int(input('Ingrese nro: '))\n",
    "nro2 = int(input('Ingrese nro: '))\n",
    "if nro1 != nro2:\n",
    "    print('\\nLos números ingresados son distintos')\n",
    "else:\n",
    "    print('\\nLos números ingresados son iguales')"
   ]
  },
  {
   "cell_type": "code",
   "execution_count": 31,
   "metadata": {},
   "outputs": [
    {
     "name": "stdin",
     "output_type": "stream",
     "text": [
      "Ingrese nro:  10\n",
      "Ingrese nro:  20\n"
     ]
    },
    {
     "name": "stdout",
     "output_type": "stream",
     "text": [
      "\n",
      "El primer número es menor que el segundo\n"
     ]
    }
   ],
   "source": [
    "# Comparaciones\n",
    "nro1 = int(input('Ingrese nro: '))\n",
    "nro2 = int(input('Ingrese nro: '))\n",
    "if nro1 >= nro2:\n",
    "    print('\\nEl primer número es mayor o igual que el segundo')\n",
    "else:\n",
    "    print('\\nEl primer número es menor que el segundo')"
   ]
  },
  {
   "cell_type": "markdown",
   "metadata": {},
   "source": [
    "### Listas\n",
    "#### Elementos de una lista: se colocan entre corchetes, separados por comas\n"
   ]
  },
  {
   "cell_type": "code",
   "execution_count": 32,
   "metadata": {},
   "outputs": [
    {
     "name": "stdout",
     "output_type": "stream",
     "text": [
      "lista = [1, 3, 5] | su tipo es <class 'list'>\n",
      "1\n"
     ]
    }
   ],
   "source": [
    "# Definamos una Lista\n",
    "# Para hacerlo se usan corchetes y se separan los elementos mediante coma\n",
    "lista = [1, 3, 5]\n",
    "print(\"lista = {} | su tipo es {}\".format(lista, type(lista)))\n",
    "\n",
    "# Acceso a un elemento de la lista\n",
    "print(lista[0])"
   ]
  },
  {
   "cell_type": "code",
   "execution_count": 33,
   "metadata": {},
   "outputs": [
    {
     "name": "stdout",
     "output_type": "stream",
     "text": [
      "lista vieja: ['gato', 1, 2, 3]\n",
      "lista nueva igual a lista vieja: ['gato', 1, 2, 3]\n",
      "\n",
      "Cambio en la lista nueva:\n",
      "lista vieja: [5, 1, 2, 3]\n",
      "lista nueva igual a lista vieja: [5, 1, 2, 3]\n",
      "\n",
      "Cambio en la lista vieja\n",
      "lista vieja: [5, 1, 'perro', 3]\n",
      "lista nueva igual a lista vieja: [5, 1, 'perro', 3]\n",
      "\n",
      "los cambios se producen en las dos listas\n"
     ]
    }
   ],
   "source": [
    "listavieja = ['gato', 1, 2,3]\n",
    "listanueva = listavieja\n",
    "print('lista vieja: {}'.format(listavieja))\n",
    "print('lista nueva igual a lista vieja: {}'.format(listanueva))\n",
    "listanueva[0] = 5\n",
    "\n",
    "# Cambio en la lista nueva\n",
    "print('\\nCambio en la lista nueva:')\n",
    "print('lista vieja: {}'.format(listavieja))\n",
    "print('lista nueva igual a lista vieja: {}'.format(listanueva))\n",
    "\n",
    "#Cambio en la lista vieja\n",
    "print('\\nCambio en la lista vieja')\n",
    "listavieja[2] = 'perro'\n",
    "print('lista vieja: {}'.format(listavieja))\n",
    "print('lista nueva igual a lista vieja: {}'.format(listanueva))\n",
    "print('\\nlos cambios se producen en las dos listas')"
   ]
  },
  {
   "cell_type": "code",
   "execution_count": 34,
   "metadata": {},
   "outputs": [
    {
     "name": "stdout",
     "output_type": "stream",
     "text": [
      "Old List: ['gato', 0, 6.7]\n",
      "New List: ['gato siamés', 0, 6.7, 'perro']\n"
     ]
    }
   ],
   "source": [
    "list_ = ['gato', 0, 6.7]\n",
    "\n",
    "# Copio lista con list.copy\n",
    "new_list = list_.copy()\n",
    "\n",
    "# Adding element to the new list\n",
    "new_list.append('perro')\n",
    "new_list[0] = 'gato siamés'\n",
    "\n",
    "# Printing new and old list\n",
    "print('Old List: {}'.format(list_))\n",
    "print('New List: {}'.format(new_list))"
   ]
  },
  {
   "cell_type": "markdown",
   "metadata": {},
   "source": [
    "### Operador in"
   ]
  },
  {
   "cell_type": "code",
   "execution_count": 35,
   "metadata": {},
   "outputs": [
    {
     "name": "stdout",
     "output_type": "stream",
     "text": [
      "False\n",
      "True\n"
     ]
    }
   ],
   "source": [
    "# Definamos una Lista\n",
    "# Para hacerlo se usan corchetes y se separan los elementos mediante coma\n",
    "lista = [1,3,5]\n",
    "\n",
    "print(2 in lista)\n",
    "a = 5\n",
    "\n",
    "res = a in lista\n",
    "print(res)"
   ]
  },
  {
   "cell_type": "markdown",
   "metadata": {},
   "source": [
    "### Operador not in"
   ]
  },
  {
   "cell_type": "code",
   "execution_count": 36,
   "metadata": {},
   "outputs": [
    {
     "name": "stdout",
     "output_type": "stream",
     "text": [
      "False\n"
     ]
    }
   ],
   "source": [
    "lista = [1,3,5]\n",
    "print(1 not in lista)"
   ]
  },
  {
   "cell_type": "markdown",
   "metadata": {},
   "source": [
    "### Datos Tipo lista (de strings, de datos numéricos)\n",
    "#### Concatenación de Listas: + \n",
    "#### Append\n",
    "#### Acceso a un elemento particular de la lista (por la posición que se indica entre corchetes)\n",
    "#### Primer elemento de una lista: posición 0\n",
    "##### Diferencia entre Lista y Vector: la lista puede contener elementos de distinto tipo!"
   ]
  },
  {
   "cell_type": "code",
   "execution_count": 37,
   "metadata": {},
   "outputs": [
    {
     "name": "stdout",
     "output_type": "stream",
     "text": [
      "[3, 1, 2] 2\n",
      "2\n",
      "[3, 1, 'foo']\n",
      "[3, 1, 'foo', 'bar']\n",
      "bar [3, 1, 'foo']\n"
     ]
    }
   ],
   "source": [
    "xs = [3, 1, 2]    # Crea una lista. Los elementos se colocan entre corchetes, separados por coma.\n",
    "print(xs, xs[2])  # Muestra \"[3, 1, 2] 2\"\n",
    "print(xs[-1])     # Indice negativo: implica que se cuenta desde el final de la lista; muestra \"2\"\n",
    "\n",
    "xs[2] = 'foo'     # Cambia el elemento final. Ahora la lista contiene elementos de distinto tipo\n",
    "print(xs)         # Muestra \"[3, 1, 'foo']\"\n",
    "\n",
    "xs.append('bar')  # Agrego un nuevo elemento al final\n",
    "print(xs)         # Muestra \"[3, 1, 'foo', 'bar']\"\n",
    "\n",
    "x = xs.pop()      # Tomo el último elemento de la lista\n",
    "print(x, xs)      # Muestro el elemento que quitamos y la lista que quedó: \"bar [3, 1, 'foo']\""
   ]
  },
  {
   "cell_type": "code",
   "execution_count": 38,
   "metadata": {},
   "outputs": [
    {
     "name": "stdout",
     "output_type": "stream",
     "text": [
      "lista1 = ['hola', 'que', 'tal', 'Juan']\n",
      "<class 'list'>\n",
      "<class 'str'>\n",
      "tal\n",
      "Juan\n",
      "4\n",
      "lista2 = [25.0, 75, 0, 8.0, 20.0]\n",
      "<class 'list'>\n",
      "<class 'float'>\n",
      "75\n",
      "0\n",
      "5\n",
      "['hola', 'que', 'tal', 'Juan', 25.0, 75, 0, 8.0, 20.0]\n",
      "<class 'list'>\n",
      "<class 'str'>\n",
      "[25.0, 75, 0, 8.0, 20.0, 25.0, 75, 0, 8.0, 20.0]\n",
      "[25.0, 75, 0, 8.0, 20.0, 25.0, 75, 0, 8.0, 20.0]\n"
     ]
    }
   ],
   "source": [
    "# Ejemplos\n",
    "lista1 = [\"hola\", \"que\", \"tal\", \"Juan\"]\n",
    "print(\"lista1 = {}\".format(lista1))\n",
    "print(type(lista1)) # Muestra el tipo lista\n",
    "print(type(lista1[0])) # Muestra el tipo del elemento 0 (el primero)\n",
    "print(max(lista1)) # Para strings tiene en cuenta el código ASCII. \n",
    "\n",
    "# En el código ASCII las mayúsculas preceden a las minúsculas\n",
    "print(min(lista1))\n",
    "print(len(lista1))\n",
    "\n",
    "lista2 = [25., 75, 0, 8., 20.] \n",
    "print(\"lista2 = {}\".format(lista2))\n",
    "print(type(lista2))\n",
    "print(type(lista2[0]))\n",
    "print(max(lista2))\n",
    "print(min(lista2))\n",
    "print(len(lista2))\n",
    "\n",
    "concatenada = lista1 + lista2  # El signo + concatena listas, no es suma\n",
    "print(concatenada)\n",
    "print(type(concatenada))\n",
    "print(type(concatenada[0]))\n",
    "# No puede dar el máximo ni el mínimo porque los elementos son de distinto tipo: str y float\n",
    "\n",
    "print(lista2 + lista2)\n",
    "lista2.extend(lista2) # Otro método de concatenación\n",
    "print(lista2)\n",
    "\n",
    "# print(lista2 + 2)  # Esta operación daría error- Esta operación no es soportada por una lista\n",
    "# para trabajar con vectores debemos utilizar la librería numpy"
   ]
  },
  {
   "cell_type": "markdown",
   "metadata": {},
   "source": [
    "### Estructuras de Repetición : for"
   ]
  },
  {
   "cell_type": "code",
   "execution_count": 39,
   "metadata": {},
   "outputs": [
    {
     "name": "stdout",
     "output_type": "stream",
     "text": [
      "Esto se imprime en cada ciclo porque está indexado\n",
      "Esto se imprime en cada ciclo porque está indexado\n",
      "Esto se imprime en cada ciclo porque está indexado\n",
      "Esto se imprime en cada ciclo porque está indexado\n",
      "esto se imprime fuera del ciclo\n",
      "La lista es [4, 8, 12, 18]\n",
      "La suma de los números de la lista es: 42\n"
     ]
    }
   ],
   "source": [
    "# Ejemplo for en lista\n",
    "# Permite recorrer todos los elementos de una lista\n",
    "# En el mismo for se le pone nombre a la variable que almacena cada elemento\n",
    "# En este caso la lista se llama mis_numeros y cada elemento numero\n",
    "\n",
    "# El objetivo del código es sumar todos los elementos de la lista\n",
    "# El acumulador debe inicializarse en 0\n",
    "# De lo contrario guardará el valor en caso de hacerse otras corridas\n",
    "\n",
    "suma = 0\n",
    "mis_numeros = [4, 8, 12, 18] \n",
    "# La variable numero designará a los elementos de la lista\n",
    "for numero in mis_numeros:\n",
    "    suma += numero\n",
    "    print(\"Esto se imprime en cada ciclo porque está indexado\")\n",
    "\n",
    "print(\"esto se imprime fuera del ciclo\")\n",
    "print('La lista es {}'.format(mis_numeros))\n",
    "print(\"La suma de los números de la lista es: {}\".format(suma))"
   ]
  },
  {
   "cell_type": "code",
   "execution_count": 40,
   "metadata": {},
   "outputs": [
    {
     "name": "stdout",
     "output_type": "stream",
     "text": [
      "Un for para range de 0 a 3\n",
      "0\n",
      "1\n",
      "2\n",
      "3\n",
      "Un for para range de 2 a 5:\n",
      "2\n",
      "3\n",
      "4\n",
      "5\n",
      "Un for para range de 2 a 11, salto 3\n",
      "2\n",
      "5\n",
      "8\n"
     ]
    }
   ],
   "source": [
    "# For con función range\n",
    "# Función range:\n",
    "    # con un parámetro, este indica la cantidad de elementos. Empieza en 0, salto implícito 1.\n",
    "    # con dos parámetros, el primero indica el principio, el otro el final que es abierto (no lo incluye).\n",
    "    # con tres parámetros, indican principio, el final abierto, el paso o salto.\n",
    "# En los casos con dos o tres parámetros el intervalo es abierto a derecha.\n",
    "# Es decir que el segundo parámetro que indica el final abierto no pertenecerá a la lista\n",
    "\n",
    "print(\"Un for para range de 0 a 3\")\n",
    "for i in range(4):\n",
    "    print(i)\n",
    "# print()    \n",
    "\n",
    "print(\"Un for para range de 2 a 5:\")\n",
    "for j in range(2,6):\n",
    "    print(j)\n",
    "#print()\n",
    "\n",
    "print(\"Un for para range de 2 a 11, salto 3\")  # Observar que no incluirá el 11\n",
    "for z in range(2,11,3):\n",
    "    print(z)"
   ]
  },
  {
   "cell_type": "code",
   "execution_count": 44,
   "metadata": {},
   "outputs": [
    {
     "name": "stdin",
     "output_type": "stream",
     "text": [
      "ingrese número: 10\n",
      "ingrese número: 20\n",
      "ingrese número: 30\n",
      "ingrese número: 40\n"
     ]
    },
    {
     "name": "stdout",
     "output_type": "stream",
     "text": [
      "suma =  100\n"
     ]
    }
   ],
   "source": [
    "# Ingreso números (variable que llamo dato)\n",
    "# range(n) me indica que ingresaré n números\n",
    "# los acumulo en una variable, en este caso llamada suma\n",
    "\n",
    "suma = 0\n",
    "for z in range(4):\n",
    "    dato = int(input(\"ingrese número:\"))\n",
    "    suma += dato\n",
    "print(\"suma = \", suma)"
   ]
  },
  {
   "cell_type": "code",
   "execution_count": 45,
   "metadata": {},
   "outputs": [
    {
     "name": "stdout",
     "output_type": "stream",
     "text": [
      "3\n",
      "lena\n",
      "barbara\n",
      "baboon\n",
      "El nombre de la imagen es: lena, el largo del nombre es: 4\n",
      "El nombre de la imagen es: barbara, el largo del nombre es: 7\n",
      "El nombre de la imagen es: baboon, el largo del nombre es: 6\n"
     ]
    }
   ],
   "source": [
    "# Lista de strings. Nombre variable lista: imagenes\n",
    "# Nombre de la variable que designa a los elementos: imagen\n",
    "imagenes = ['lena', 'barbara', 'baboon']\n",
    "print(len(imagenes))\n",
    "for imagen in imagenes:\n",
    "    print(imagen)\n",
    "\n",
    "for imagen in imagenes:\n",
    "    print (\"El nombre de la imagen es: {0}, el largo del nombre es: {1}\".format(imagen, len(imagen)))"
   ]
  },
  {
   "cell_type": "markdown",
   "metadata": {},
   "source": [
    "### **Estructura de Repetición**\n",
    "\n",
    "\n",
    "**For con enumerate**"
   ]
  },
  {
   "cell_type": "code",
   "execution_count": 46,
   "metadata": {},
   "outputs": [
    {
     "name": "stdout",
     "output_type": "stream",
     "text": [
      "1 manzana\n",
      "2 bananas\n",
      "3 uvas\n",
      "4 peras\n"
     ]
    }
   ],
   "source": [
    "mi_lista = ['manzana', 'bananas', 'uvas', 'peras']\n",
    "# la primera variable (c en nuestro caso) es el contador\n",
    "# la segunda variable (valor en nuestro caso) es precisamente el valor almacenado en cada posición\n",
    "for c, valor in enumerate(mi_lista, 1):\n",
    "    print(c, valor)"
   ]
  },
  {
   "cell_type": "code",
   "execution_count": 47,
   "metadata": {},
   "outputs": [
    {
     "name": "stdout",
     "output_type": "stream",
     "text": [
      "[(1, 'apple'), (2, 'banana'), (3, 'grapes'), (4, 'pear')]\n"
     ]
    }
   ],
   "source": [
    "my_list = ['apple', 'banana', 'grapes', 'pear']\n",
    "counter_list = list(enumerate(my_list, 1))\n",
    "print(counter_list) \n",
    "# Output: [(1, 'apple'), (2, 'banana'), (3, 'grapes'), (4, 'pear')]"
   ]
  },
  {
   "cell_type": "code",
   "execution_count": 48,
   "metadata": {},
   "outputs": [
    {
     "name": "stdout",
     "output_type": "stream",
     "text": [
      "[(1, 'apple')]\n",
      "[(1, 'apple'), (2, 'banana')]\n",
      "[(1, 'apple'), (2, 'banana'), (3, 'grapes')]\n",
      "[(1, 'apple'), (2, 'banana'), (3, 'grapes'), (4, 'pear')]\n"
     ]
    }
   ],
   "source": [
    "# otra forma\n",
    "my_list = ['apple', 'banana', 'grapes', 'pear']\n",
    "counter_list = []\n",
    "for c, valor in enumerate(my_list, 1):\n",
    "    counter_list.append((c, valor))\n",
    "    print(counter_list) "
   ]
  },
  {
   "cell_type": "markdown",
   "metadata": {},
   "source": [
    "**Ejercicio 5:** \n",
    "* Defina una lista de 5 números\n",
    "* Recórrala (usando for) y para cada número imprima (print) si es impar o no (usar if y operadores)"
   ]
  },
  {
   "cell_type": "code",
   "execution_count": 49,
   "metadata": {},
   "outputs": [],
   "source": [
    "# TODO"
   ]
  },
  {
   "cell_type": "markdown",
   "metadata": {},
   "source": [
    "### Estructuras de Repetición - While"
   ]
  },
  {
   "cell_type": "markdown",
   "metadata": {},
   "source": [
    "### While controlado por Evento"
   ]
  },
  {
   "cell_type": "code",
   "execution_count": 51,
   "metadata": {},
   "outputs": [
    {
     "name": "stdout",
     "output_type": "stream",
     "text": [
      "Ejemplo: cálculo del promedio de números ingresados-Cortar el ingreso de datos ingresando -1:\n",
      "\n",
      "Introduzca valor numérico (-1 para salir): \n"
     ]
    },
    {
     "name": "stdin",
     "output_type": "stream",
     "text": [
      " 10\n"
     ]
    },
    {
     "name": "stdout",
     "output_type": "stream",
     "text": [
      "Introduzca valor numerico (-1 para salir): \n"
     ]
    },
    {
     "name": "stdin",
     "output_type": "stream",
     "text": [
      " 10\n"
     ]
    },
    {
     "name": "stdout",
     "output_type": "stream",
     "text": [
      "Introduzca valor numerico (-1 para salir): \n"
     ]
    },
    {
     "name": "stdin",
     "output_type": "stream",
     "text": [
      " -1\n"
     ]
    },
    {
     "name": "stdout",
     "output_type": "stream",
     "text": [
      "Promedio de valores ingresados = 10.0\n",
      "Cantidad de valores ingresados = 2\n"
     ]
    }
   ],
   "source": [
    "# En el control por evento hay un suceso que interrumpe el bucle\n",
    "# En el ejemplo siguiente se interrumpe el ingreso de datos al tipear -1\n",
    "\n",
    "# Utilizar \"kernel restart\", si es necesario\n",
    "\n",
    "print (\"Ejemplo: cálculo del promedio de números ingresados-Cortar el ingreso de datos ingresando -1:\\n\")\n",
    "total = 0\n",
    "contador = 0\n",
    "print(\"Introduzca valor numérico (-1 para salir): \")\n",
    "valor = int(input())\n",
    "while valor != -1:\n",
    "    total += valor\n",
    "    contador += 1\n",
    "    print(\"Introduzca valor numerico (-1 para salir): \")\n",
    "    valor = int(input())\n",
    "if contador > 0:\n",
    "    promedio = total / contador\n",
    "    print(\"Promedio de valores ingresados = {}\".format(promedio))\n",
    "    print(\"Cantidad de valores ingresados = {}\".format(contador))\n",
    "else:\n",
    "    print(\"No se ingresaron números\")"
   ]
  },
  {
   "cell_type": "markdown",
   "metadata": {},
   "source": [
    "### While controlado por Conteo"
   ]
  },
  {
   "cell_type": "code",
   "execution_count": 53,
   "metadata": {},
   "outputs": [
    {
     "name": "stdout",
     "output_type": "stream",
     "text": [
      "Ingrese dato\n"
     ]
    },
    {
     "name": "stdin",
     "output_type": "stream",
     "text": [
      " 10\n"
     ]
    },
    {
     "name": "stdout",
     "output_type": "stream",
     "text": [
      "Ingrese dato\n"
     ]
    },
    {
     "name": "stdin",
     "output_type": "stream",
     "text": [
      " -1\n"
     ]
    },
    {
     "name": "stdout",
     "output_type": "stream",
     "text": [
      "Ingrese dato\n"
     ]
    },
    {
     "name": "stdin",
     "output_type": "stream",
     "text": [
      " 10\n"
     ]
    },
    {
     "name": "stdout",
     "output_type": "stream",
     "text": [
      "Ingrese dato\n"
     ]
    },
    {
     "name": "stdin",
     "output_type": "stream",
     "text": [
      " -1\n"
     ]
    },
    {
     "name": "stdout",
     "output_type": "stream",
     "text": [
      "Suma: 18\n"
     ]
    },
    {
     "name": "stdin",
     "output_type": "stream",
     "text": [
      "Ingrese dato 10\n",
      "Ingrese dato -1\n",
      "Ingrese dato -1\n",
      "Ingrese dato -1\n"
     ]
    },
    {
     "name": "stdout",
     "output_type": "stream",
     "text": [
      "\n",
      "Suma 7\n"
     ]
    }
   ],
   "source": [
    "# import os\n",
    "# os.system('cls')\n",
    "\n",
    "# Control por contador descendente\n",
    "contador = 4\n",
    "suma = 0\n",
    "while contador > 0:\n",
    "    print(\"Ingrese dato\")\n",
    "    nro = int(input())\n",
    "    suma += nro\n",
    "    contador=contador-1\n",
    "\n",
    "print('Suma: {}'.format(suma))\n",
    "\n",
    "# Control por contador ascendente\n",
    "contador2 = 0\n",
    "suma2 = 0\n",
    "mensaje = \"Ingrese dato\"\n",
    "while contador2 < 4:\n",
    "    numero = int(input(mensaje))\n",
    "    # Esta variante permite que se muestre el mensaje cada vez que se ingresa dato\n",
    "    suma2 += numero\n",
    "    contador2 += 1\n",
    "\n",
    "print('\\nSuma',suma2)"
   ]
  },
  {
   "cell_type": "markdown",
   "metadata": {},
   "source": [
    "### Uso de break y continue"
   ]
  },
  {
   "cell_type": "code",
   "execution_count": 54,
   "metadata": {},
   "outputs": [
    {
     "name": "stdout",
     "output_type": "stream",
     "text": [
      "Valor actual de la variable: 9\n",
      "Valor actual de la variable: 8\n",
      "Valor actual de la variable: 7\n",
      "Valor actual de la variable: 6\n",
      "Valor actual de la variable: 5\n",
      "Valor actual de la variable: 4\n",
      "Valor actual de la variable: 1\n"
     ]
    }
   ],
   "source": [
    "# Ejemplo\n",
    "# While con uso de continue\n",
    "variable = 10\n",
    "while variable > 1:              \n",
    "    variable -= 1\n",
    "    if variable == 3:\n",
    "        variable = 2\n",
    "        continue\n",
    "    print('Valor actual de la variable: {}'.format(variable))"
   ]
  },
  {
   "cell_type": "code",
   "execution_count": 55,
   "metadata": {},
   "outputs": [
    {
     "name": "stdout",
     "output_type": "stream",
     "text": [
      "Valor actual de la variable: 10\n",
      "Valor actual de la variable: 9\n",
      "Valor actual de la variable: 8\n",
      "Valor actual de la variable: 7\n",
      "Valor actual de la variable: 6\n"
     ]
    }
   ],
   "source": [
    "# Ejemplo\n",
    "# While - Uso de Break\n",
    "\n",
    "variable = 10\n",
    "while True:\n",
    "    print('Valor actual de la variable: {}'.format(variable))\n",
    "    variable -= 1\n",
    "    if variable == 5:\n",
    "        break"
   ]
  },
  {
   "cell_type": "markdown",
   "metadata": {},
   "source": [
    "### Uso de else dentro de un while"
   ]
  },
  {
   "cell_type": "code",
   "execution_count": 56,
   "metadata": {},
   "outputs": [
    {
     "name": "stdin",
     "output_type": "stream",
     "text": [
      "Introduzca la nota de un estudiante (-1 para salir):  10\n",
      "Introduzca la nota de un estudiante (-1 para salir):  10\n",
      "Introduzca la nota de un estudiante (-1 para salir):  -1\n"
     ]
    },
    {
     "name": "stdout",
     "output_type": "stream",
     "text": [
      "Promedio de notas del grado escolar: 10.0\n"
     ]
    }
   ],
   "source": [
    "# Puede usarse while con else\n",
    "promedio, total, contar = 0.0, 0, 0\n",
    "\n",
    "mensaje = \"Introduzca la nota de un estudiante (-1 para salir): \"\n",
    "\n",
    "grado = int(input(mensaje)) # Permite que se muestre en pantalla el mensaje cada vez que ingresamos nota\n",
    "while grado != -1:\n",
    "    total = total + grado\n",
    "    contar += 1\n",
    "    grado = int(input(mensaje))\n",
    "else:\n",
    "    promedio = total / contar\n",
    "    print (\"Promedio de notas del grado escolar: {}\".format(promedio))\n",
    "    # Convertir en str nos permite concatenar con un + el mensaje y la nota\n",
    "\n",
    "# Respecto al ejemplo anterior permite que lo que se hace al finalizar el bucle esté en el mismo bloque de código"
   ]
  },
  {
   "cell_type": "markdown",
   "metadata": {},
   "source": [
    "### Funciones Definidas por el Usuario"
   ]
  },
  {
   "cell_type": "markdown",
   "metadata": {},
   "source": [
    "*Las funciones se definen con la palabra clave def*\n",
    "\n",
    "**Sintaxis**\n",
    "\n",
    "def nombre_funcion(parametros):\n",
    "    \n",
    "    Cuerpo de la función\n",
    "    \n",
    "    return\n"
   ]
  },
  {
   "cell_type": "code",
   "execution_count": 57,
   "metadata": {},
   "outputs": [],
   "source": [
    "def sumar(a, b):\n",
    "    return a + b"
   ]
  },
  {
   "cell_type": "markdown",
   "metadata": {},
   "source": [
    "**Llamada a la función**"
   ]
  },
  {
   "cell_type": "code",
   "execution_count": 58,
   "metadata": {},
   "outputs": [
    {
     "name": "stdout",
     "output_type": "stream",
     "text": [
      "La suma es: 7\n"
     ]
    }
   ],
   "source": [
    "c = sumar(2, 5)\n",
    "print(\"La suma es: {}\".format(c))"
   ]
  },
  {
   "cell_type": "code",
   "execution_count": 59,
   "metadata": {},
   "outputs": [],
   "source": [
    "# Definir y usar una función que dé el signo de un número\n",
    "def signo(x):\n",
    "    if x > 0:\n",
    "        return 'positivo'\n",
    "    elif x < 0:\n",
    "        return 'negativo'\n",
    "    else:\n",
    "        return 'cero'"
   ]
  },
  {
   "cell_type": "markdown",
   "metadata": {},
   "source": [
    "**Llamada a la función**"
   ]
  },
  {
   "cell_type": "code",
   "execution_count": 60,
   "metadata": {},
   "outputs": [
    {
     "name": "stdout",
     "output_type": "stream",
     "text": [
      "negativo\n",
      "cero\n",
      "positivo\n"
     ]
    }
   ],
   "source": [
    "# Imprime en pantalla \"negativo\", \"cero\", \"positivo\"\n",
    "for x in [-1, 0, 1]:\n",
    "    print(signo(x))"
   ]
  },
  {
   "cell_type": "markdown",
   "metadata": {},
   "source": [
    "**Ejercicio 6:**\n",
    "* defina una función sencilla con dos parámetros\n",
    "* impleméntela en dos valores concretos"
   ]
  },
  {
   "cell_type": "code",
   "execution_count": 61,
   "metadata": {},
   "outputs": [],
   "source": [
    "# TODO"
   ]
  },
  {
   "cell_type": "markdown",
   "metadata": {},
   "source": [
    "### Qué es una librería?\n",
    "**Librerías** En informática, una biblioteca o, llamada por vicio del lenguaje librería (del inglés library) es un conjunto de implementaciones funciones, codificadas en un lenguaje de programación, que realizan una serie de tareas específicas y se incluyen o importan en el programa evitando tener que reescribir esos códigos."
   ]
  },
  {
   "cell_type": "markdown",
   "metadata": {},
   "source": [
    "## Librería numpy"
   ]
  },
  {
   "cell_type": "markdown",
   "metadata": {},
   "source": [
    "### Observaciones:\n",
    "Los tipos de datos predefinidos en Python no precisan el agregado de librerías\n",
    "Otros tipos de datos precisan la importación de librerías específicas. \n",
    "Una de las librerías más importantes para nosotros es numpy.\n",
    "\n",
    "* Librería **numpy**: sirve para realizar operaciones matriciales en Python. \n",
    "* La forma de \"llamar\", \"cargar\" o importar una libreria xxxxxx es la siguiente: \n",
    "* import xxxxxx as xx \n",
    "* donde xx es el nombre corto que le asignamos para poder llamar sus funciones, por ejemplo:\n"
   ]
  },
  {
   "cell_type": "code",
   "execution_count": 62,
   "metadata": {},
   "outputs": [],
   "source": [
    "import numpy as np #shift+entr para ejecutar (o botón Run)\n",
    "#No es necesario asignarle un nombre corto, pero es útil"
   ]
  },
  {
   "cell_type": "markdown",
   "metadata": {},
   "source": [
    "### Vectores :  1D-array\n",
    "Ejemplo:\n",
    "Diferenciar lista de vector.\n",
    "\n",
    "Sea el vector  $v = (25, 8, 20, 75)$ \n",
    "\n",
    "Mostrar el vector, su tipo, la longitud de v, máximo y mínimo valor de v\n"
   ]
  },
  {
   "cell_type": "code",
   "execution_count": 63,
   "metadata": {},
   "outputs": [
    {
     "name": "stdout",
     "output_type": "stream",
     "text": [
      "[25.0, 8.0, 20.0, 75.0]\n",
      "<class 'list'>\n",
      "\n",
      "v = [25.  8. 20. 75.]\n",
      "tipo de v: <class 'numpy.ndarray'>\n",
      "longitud de v: 4\n",
      "máximo de v: 75.0 o 75.0\n",
      "mínimo de v: 8.0\n",
      "8.0\n"
     ]
    }
   ],
   "source": [
    "import numpy as np\n",
    "\n",
    "ve = [25., 8., 20., 75.] \n",
    "print(ve)\n",
    "print(type(ve))\n",
    "print()\n",
    "\n",
    "v = np.array(ve) # Transformo la lista en vector\n",
    "print(\"v = {}\".format(v)) # El vector no lleva comas separando los elementos\n",
    "print(\"tipo de v: {}\".format(type(v))) #el tipo es numpy.ndarray\n",
    "print(\"longitud de v: {}\".format(len(v)))\n",
    "\n",
    "# máximo y mínimo valor de v\n",
    "print(\"máximo de v: {} o {}\".format(v.max(), np.max(v))) #función de numpy.ndarray: np.max()\n",
    "\n",
    "print(\"mínimo de v: {}\".format(v.min()))\n",
    "# También\n",
    "print(np.min(v))"
   ]
  },
  {
   "cell_type": "code",
   "execution_count": null,
   "metadata": {},
   "outputs": [],
   "source": []
  },
  {
   "cell_type": "markdown",
   "metadata": {},
   "source": [
    "**Ejercicio:**\n",
    "\n",
    "Defina el vector $u = [5, 9, 10, -1]$\n",
    "\n",
    "Defina el vector $v = [-2, 0, 5, 4]$\n",
    "\n",
    "Muestre ambos vectores\n",
    "\n",
    "Calcule y muestre $z = u + v$\n",
    "\n",
    "Calcule y muestre el vector doble del vector $z$\n",
    "\n",
    "Calcule y muestre el vector que resulta de restar 3 unidades a cada elemento del vector anterior"
   ]
  },
  {
   "cell_type": "code",
   "execution_count": 64,
   "metadata": {},
   "outputs": [
    {
     "name": "stdout",
     "output_type": "stream",
     "text": [
      "vector u = [ 5  9 10 -1]\n",
      "vector v = [-2  0  5  4]\n",
      "vector suma = [ 3  9 15  3]\n",
      "2 * vector suma = [ 6 18 30  6]\n",
      "Restamos 3 a cada elemento del vector anterior = [ 3 15 27  3]\n"
     ]
    }
   ],
   "source": [
    "import numpy as np\n",
    "\n",
    "u = np.array([5, 9,  10, -1]) # Transforma la lista en vector\n",
    "v = np.array([-2, 0, 5, 4])\n",
    "\n",
    "print(\"vector u = {}\".format(u))\n",
    "print(\"vector v = {}\".format(v))\n",
    "\n",
    "z = u + v\n",
    "print(\"vector suma = {}\".format(z))\n",
    "\n",
    "w = 2 * z\n",
    "print(\"2 * vector suma = {}\".format(w))\n",
    "\n",
    "t= w - 3\n",
    "print(\"Restamos 3 a cada elemento del vector anterior = {}\".format(t))"
   ]
  },
  {
   "cell_type": "code",
   "execution_count": 65,
   "metadata": {},
   "outputs": [
    {
     "name": "stdout",
     "output_type": "stream",
     "text": [
      "x= [0. 0. 0. 0.] | u = [1. 1. 1. 1.] | t = [7 7 7 7]\n",
      "\n",
      "[ 5  8 11 14]\n",
      "[ 5  8 11 14]\n",
      "\n"
     ]
    }
   ],
   "source": [
    "# Facilidades de numpy. Las explicaremos usando el alias np.\n",
    "\n",
    "# Definir un vector de n ceros. Función np.zeros(n)\n",
    "\n",
    "# Definir un vector de n unos. Función np.ones(n)\n",
    "\n",
    "# Definir un vector de n elementos, todos iguales a uno dado m. Función np.full(n,m)\n",
    "\n",
    "# Defina un vector que empiece con a, el paso sea c y no supere el b. Función np.arange(a,b,c)\n",
    "\n",
    "# Tres casos de la función arange, según la cantidad de parámetros: 1, 2 o 3.\n",
    "# Función arange con 1 parámetro: empieza en 0, paso=1\n",
    "# Función arange con 2 parámetros (inicio, final), supone paso=1\n",
    "# Función arange con 3 parámetros (inicio, final, paso), fija el paso.\n",
    "# El final no pertenece al conjunto\n",
    "\n",
    "# Obtener un vector con la función np.linspace(inicio,final, cantidad de puntos). \n",
    "\n",
    "# Ejemplos: vector de 4 ceros, vector de 4 unos, vector de 4 elementos iguales a 7.\n",
    "\n",
    "# Ejemplo: vector que empiece en 5, límite 16, paso=3\n",
    "\n",
    "# Ejemplo: que empiece en 0 termine en 1 y tenga 5 valores. np.linspace(0,1,5)\n",
    "\n",
    "# Cambiar el tipo de dato de un vector\n",
    "\n",
    "# Generar un vector con los primeros 3 elementos del anterior\n",
    "\n",
    "\n",
    "import numpy as np\n",
    "\n",
    "x = np.zeros(4)\n",
    "u = np.ones(4)\n",
    "t = np.full(4, 7)\n",
    "print(\"x= {} | u = {} | t = {}\".format(x, u, t))\n",
    "print()\n",
    "\n",
    "print(np.arange(5,16,3))\n",
    "s = np.arange(5,16,3)\n",
    "print(s)\n",
    "print()"
   ]
  },
  {
   "cell_type": "code",
   "execution_count": 66,
   "metadata": {},
   "outputs": [
    {
     "name": "stdout",
     "output_type": "stream",
     "text": [
      "[0.   0.25 0.5  0.75 1.  ]\n",
      "[ 5  8 11 14] <class 'numpy.ndarray'> <class 'numpy.int64'>\n",
      "Cambio del tipo de dato\n",
      "[ 5.  8. 11. 14.] <class 'numpy.ndarray'> <class 'numpy.float32'>\n",
      "Los 3 primeros elementos son:\n",
      "[ 5.  8. 11.]\n"
     ]
    }
   ],
   "source": [
    "linea = np.linspace(0,1,5)\n",
    "print(linea)\n",
    "#print()\n",
    "print(s,type(s),type(s[0]))\n",
    "#print()\n",
    "print('Cambio del tipo de dato')\n",
    "t=s.astype(np.float32)#cambiamos el tipo de datos al vector s a float32\n",
    "print(t,type(t), type(t[0]))\n",
    "#print()\n",
    "print('Los 3 primeros elementos son:')\n",
    "r=t[0:3]#muestra 3 elementos. Siempre el intervalo es abierto a derecha.\n",
    "print(r)"
   ]
  },
  {
   "cell_type": "code",
   "execution_count": 67,
   "metadata": {},
   "outputs": [
    {
     "name": "stdout",
     "output_type": "stream",
     "text": [
      "Tipo con range(n): <class 'range'>\n",
      "Convierto la lista con np.array(l): <class 'numpy.ndarray'>\n",
      "Tipo con np.array(range(n)): <class 'numpy.ndarray'>\n",
      "Tipo con np.arange(4): <class 'numpy.ndarray'>\n",
      "Dos formas de generar el vector [0 1 2 3] np.array(range(4)) y np.arange(4)\n",
      "[0 1 2 3] es igual que [0 1 2 3]\n"
     ]
    }
   ],
   "source": [
    "# Generar un vector. \n",
    "# Puede ser a partir de una lista con np.array(lista)\n",
    "# Así como range(n) genera lista, al que puedo convertir en vector con  np.(range(n))\n",
    "# np.arange(n) genera directamente el vector\n",
    "\n",
    "r = range(4) # Es lista\n",
    "print(\"Tipo con range(n): {}\".format(type(r)))\n",
    "\n",
    "rr = np.array(r) # Genera vector a partir de lista con la librería numpy\n",
    "print(\"Convierto la lista con np.array(l): {}\".format(type(rr)))\n",
    "\n",
    "print(\"Tipo con np.array(range(n)): {}\".format(type(np.array(range(4)))))\n",
    "# print()\n",
    "\n",
    "print(\"Tipo con np.arange(4): {}\".format(type(np.arange(4))))\n",
    "# print()\n",
    "\n",
    "print(\"Dos formas de generar el vector [0 1 2 3] np.array(range(4)) y np.arange(4)\")\n",
    "print(np.array(range(4)), \"es igual que\", np.arange(4))"
   ]
  },
  {
   "cell_type": "markdown",
   "metadata": {},
   "source": [
    "\n",
    "\n",
    "**Ejercicio**\n",
    "\n",
    "Defina y muestre un vector s que empiece en 2, su paso sea igual a 3 y no supere el 21\n",
    "\n",
    "Muestre el sexto y el último lugar de s\n",
    "\n",
    "Genere un vector r desde el segundo elemento al 5\n",
    "\n",
    "Muestre el vector de los cuadrados de cada elemento\n",
    "\n",
    "Muestre el vector de cada elemento del anterior elevado a un exponente igual a dicho elemento\n",
    "\n"
   ]
  },
  {
   "cell_type": "code",
   "execution_count": 68,
   "metadata": {},
   "outputs": [
    {
     "name": "stdout",
     "output_type": "stream",
     "text": [
      "Vector s          = [ 2  5  8 11 14 17 20]\n",
      "6º lugar de s     = 17\n",
      "Ultimo lugar de s = 20\n"
     ]
    }
   ],
   "source": [
    "s = np.arange(2, 21, 3)\n",
    "print(\"Vector s          = {}\".format(s))\n",
    "print(\"6º lugar de s     = {}\".format(s[5]))\n",
    "print(\"Ultimo lugar de s = {}\".format(s[-1]))"
   ]
  },
  {
   "cell_type": "code",
   "execution_count": 69,
   "metadata": {},
   "outputs": [
    {
     "name": "stdout",
     "output_type": "stream",
     "text": [
      "Vector r               = [ 5  6  7  8  9 10 11 12 13]\n",
      "Vector r al cuadrado   = [ 25  36  49  64  81 100 121 144 169]\n",
      "Vector r al r-elemento = [           3125           46656          823543        16777216\n",
      "       387420489     10000000000    285311670611   8916100448256\n",
      " 302875106592253]\n"
     ]
    }
   ],
   "source": [
    "r = np.arange(s[1], s[4])\n",
    "print(\"Vector r               = {}\".format(r))\n",
    "print(\"Vector r al cuadrado   = {}\".format(r**2))\n",
    "print(\"Vector r al r-elemento = {}\".format(r**r))"
   ]
  },
  {
   "cell_type": "code",
   "execution_count": null,
   "metadata": {},
   "outputs": [],
   "source": []
  },
  {
   "cell_type": "code",
   "execution_count": 70,
   "metadata": {},
   "outputs": [
    {
     "name": "stdout",
     "output_type": "stream",
     "text": [
      "[ 2  5  8 11 14 17 20]\n",
      "El máximo es: 20\n",
      "elemento posición 6: 17\n",
      "Vector recortado segundo a cuarto elemento: [ 5  8 11]\n",
      "\n",
      "El último elemento del vector recortado es: 11\n",
      "El ultimo elemento del vector recortado es: 11\n",
      "\n",
      "Los cuadrados del vector recortado son: [ 25  64 121]\n",
      "\n",
      "Los cuadrados de los elementos del vector anterior en tipo flotante son:\n",
      "25.0\n",
      "64.0\n",
      "121.0\n",
      "\n"
     ]
    }
   ],
   "source": [
    "import numpy as np\n",
    "\n",
    "s = np.arange(2,21,3)\n",
    "\n",
    "print(s)\n",
    "\n",
    "print(\"El máximo es: {}\".format(max(s)))\n",
    "\n",
    "print(\"elemento posición 6: {}\".format(s[5]))\n",
    "\n",
    "r = s[1:4]\n",
    "print(\"Vector recortado segundo a cuarto elemento: {}\".format(r))\n",
    "print()\n",
    "\n",
    "print(\"El último elemento del vector recortado es: {}\".format(r[len(r)-1]))\n",
    "print(\"El ultimo elemento del vector recortado es: {}\".format(r[-1]))\n",
    "print()\n",
    "\n",
    "print(\"Los cuadrados del vector recortado son: {}\".format(r*r))\n",
    "print()\n",
    "\n",
    "# Cambio el tipo de dato del vector recortado a float32\n",
    "t = r.astype(np.float32)\n",
    "\n",
    "print('Los cuadrados de los elementos del vector anterior en tipo flotante son:')\n",
    "for i in range(len(t)):\n",
    "    t[i]=t[i]*t[i]\n",
    "    print(t[i])\n",
    "print()"
   ]
  },
  {
   "cell_type": "code",
   "execution_count": 71,
   "metadata": {},
   "outputs": [
    {
     "name": "stdout",
     "output_type": "stream",
     "text": [
      "[[0. 0.]\n",
      " [0. 0.]]\n",
      "[[1. 1.]]\n",
      "[[7 7]\n",
      " [7 7]]\n",
      "[[1. 0.]\n",
      " [0. 1.]]\n",
      "[[0.46426733 0.50890476]\n",
      " [0.24629468 0.29774215]]\n",
      "[[4 4 0 0 4]\n",
      " [3 3 4 4 3]\n",
      " [3 4 0 3 2]\n",
      " [4 1 1 0 4]\n",
      " [2 0 0 1 2]]\n"
     ]
    }
   ],
   "source": [
    "# Arrays multidimensionales\n",
    "# Consideraremos bidimensionales\n",
    "\n",
    "import numpy as np\n",
    "\n",
    "a = np.zeros((2,2))   # Bidimensional 2x2\n",
    "print(a)              # Muestra \"[[ 0.  0.]\n",
    "                      #          [ 0.  0.]]\"\n",
    "\n",
    "b = np.ones((1,2))    # Bidimensional: 1x2\n",
    "print(b)              # Muestra \"[[ 1.  1.]]\"\n",
    "\n",
    "c = np.full((2,2), 7)  # Un array de elementos iguales\n",
    "print(c)               # Muestra \"[[ 7.  7.]\n",
    "                       #          [ 7.  7.]]\"\n",
    "\n",
    "d = np.eye(2)         # Crea la matriz identidad 2x2\n",
    "print(d)              # Muestra \"[[ 1.  0.]\n",
    "                      #          [ 0.  1.]]\"\n",
    "\n",
    "e = np.random.random((2,2))  # Crea un array 2x2 de elementos aleatorios\n",
    "print(e)                     # por ejemplo \"[[ 0.91940167  0.08143941]\n",
    "                             #               [ 0.68744134  0.87236687]]\"\n",
    "\n",
    "# La función np.random.* tiene variantes (*)\n",
    "# numpy.random.random(size)¶\n",
    "# Return random floats in the half-open interval [0.0, 1.0).\n",
    "\n",
    "print(np.random.randint(5, size=(5, 5)))"
   ]
  },
  {
   "cell_type": "code",
   "execution_count": 72,
   "metadata": {},
   "outputs": [
    {
     "name": "stdout",
     "output_type": "stream",
     "text": [
      "La dimensión de la matriz es (3, 4)\n",
      "La cantidad de elementos de la matriz es: 12\n",
      "\n",
      "[[ 1  2  3  4]\n",
      " [ 5  6  7  8]\n",
      " [ 9 10 11 12]]\n",
      "\n",
      "[[2 3]\n",
      " [6 7]]\n",
      "\n",
      "2\n",
      "77\n",
      "\n",
      "[[77  3]\n",
      " [ 6  7]]\n",
      "\n",
      "[[ 1 25  3  4]\n",
      " [ 5  6  7  8]\n",
      " [ 9 10 11 12]]\n",
      "[[25  3]\n",
      " [ 6  7]]\n",
      "[1 0 5]\n",
      "[1 9 5]\n"
     ]
    }
   ],
   "source": [
    "import numpy as np\n",
    "\n",
    "# Crear un array 3x4 con los siguientes números\n",
    "# [[ 1  2  3  4]\n",
    "#  [ 5  6  7  8]\n",
    "#  [ 9 10 11 12]]\n",
    "\n",
    "a = np.array([[1,2,3,4], [5,6,7,8], [9,10,11,12]])\n",
    "\n",
    "print(\"La dimensión de la matriz es {}\".format(a.shape)) # Da la dimensión de a\n",
    "print(\"La cantidad de elementos de la matriz es: {}\".format(a.size)) # Da la cantidad de elementos de a\n",
    "print()\n",
    "# Extraer el subarray que contenga las primeras dos filas y las columnas 2 y 3\n",
    "\n",
    "# [[2 3]\n",
    "#  [6 7]]\n",
    "b = a[:2, 1:3] #siempre los intervalos son abiertos a derecha\n",
    "print(a)\n",
    "print()\n",
    "print(b)\n",
    "print()\n",
    "# Mostrar un dato del array original, primera fila, segunda columna\n",
    "\n",
    "print(a[0, 1])   # Muestra \"2\"\n",
    "\n",
    "b[0, 0] = 77     # b[0, 0] Ojo! este b modifica también el dato correspondiente en a!\n",
    "print(a[0, 1])   # Muestra \"77\"\n",
    "print()\n",
    "print(b)\n",
    "print()\n",
    "\n",
    "#Siempre que obtenemos una submatriz de otra mediante asignación con =\n",
    "#Si modificamos un dato en una modificamos en la otra.\n",
    "a[0,1] = 25\n",
    "print(a)\n",
    "print(b)\n",
    "\n",
    "#Para no modificar ambas listas se usa el comando copy.\n",
    "vector_viejo = np.array([1, 0, 5])\n",
    "vector_nuevo = np.copy(vector_viejo)\n",
    "vector_nuevo[1] = 9\n",
    "print(vector_viejo)\n",
    "print(vector_nuevo)"
   ]
  },
  {
   "cell_type": "code",
   "execution_count": 73,
   "metadata": {},
   "outputs": [
    {
     "name": "stdout",
     "output_type": "stream",
     "text": [
      "[[ 1  2  3  4]\n",
      " [ 5  6  7  8]\n",
      " [ 9 10 11 12]]\n",
      "\n",
      "[5 6 7 8] (4,)\n",
      "\n",
      "[[5 6 7 8]] (1, 4)\n",
      "\n",
      "[ 2  6 10] (3,)\n",
      "[[ 2]\n",
      " [ 6]\n",
      " [10]] (3, 1)\n",
      "8\n",
      "Primer caso de concatenado, axis=1\n",
      " [[ 1  2  3  4  1  2  3  4]\n",
      " [ 5  6  7  8  5  6  7  8]\n",
      " [ 9 10 11 12  9 10 11 12]]\n",
      "\n",
      "Segundo caso de Concatenado, axis=0\n",
      " [[ 1  2  3  4]\n",
      " [ 5  6  7  8]\n",
      " [ 9 10 11 12]\n",
      " [ 1  2  3  4]\n",
      " [ 5  6  7  8]\n",
      " [ 9 10 11 12]]\n"
     ]
    }
   ],
   "source": [
    "import numpy as np\n",
    "\n",
    "# Crear matriz dimensiones (3,4)\n",
    "# [[ 1  2  3  4]\n",
    "#  [ 5  6  7  8]\n",
    "#  [ 9 10 11 12]]\n",
    "\n",
    "a = np.array([[1,2,3,4], [5,6,7,8], [9,10,11,12]]) #Ingreso como lista y transforma con np.array(l)\n",
    "print(a)\n",
    "print()\n",
    "\n",
    "row_r1 = a[1, :]    # Segunda fila. Todas las columnas\n",
    "row_r2 = a[1:2, :]  # Segunda fila. Todas las columnas\n",
    "\n",
    "\n",
    "print(row_r1, row_r1.shape)  # Muestra \"5 6 7 8] (4,)\"\n",
    "print()\n",
    "print(row_r2, row_r2.shape)  # Muestra \"[[5 6 7 8]] (1, 4)\"\n",
    "print()\n",
    "\n",
    "# Ejemplo de acceso a las columnas\n",
    "col_r1 = a[:, 1]\n",
    "col_r2 = a[:, 1:2]\n",
    "print(col_r1, col_r1.shape)  # Muestra \"[ 2  6 10] (3,)\"\n",
    "print(col_r2, col_r2.shape)  # Muestra \"[[ 2]\n",
    "                             #          [ 6]\n",
    "                             #          [10]] (3, 1)\"\n",
    "#Cuál es la diferencia?\n",
    "\n",
    "#Para mostrar un elemento\n",
    "print(a[1,3])\n",
    "\n",
    "#Concatenado de matrices\n",
    "#help (np.concatenate)\n",
    "DobleAhorizontal = np.concatenate((a, a), axis=1)\n",
    "print(\"Primer caso de concatenado, axis=1\\n\", DobleAhorizontal)\n",
    "\n",
    "DobleAvertical=np.concatenate((a,a),axis=0)\n",
    "print(\"\\nSegundo caso de Concatenado, axis=0\\n\", DobleAvertical)"
   ]
  },
  {
   "cell_type": "code",
   "execution_count": 74,
   "metadata": {},
   "outputs": [
    {
     "name": "stdout",
     "output_type": "stream",
     "text": [
      "[[False False]\n",
      " [ True  True]\n",
      " [ True  True]]\n",
      "[3 4 5 6]\n",
      "[3 4 5 6]\n"
     ]
    }
   ],
   "source": [
    "import numpy as np\n",
    "\n",
    "#Detectar los elementos que cumplen una condición en un array\n",
    "\n",
    "a = np.array([[1,2], [3, 4], [5, 6]])\n",
    "\n",
    "bool_idx = (a > 2)   # Encuentra los elementos mayores que 2\n",
    "                     # Devuelve una matriz de la misma dimensión que a con valores booleanos\n",
    "                     \n",
    "print(bool_idx)      # Muestra \"[[False False]\n",
    "                     #          [ True  True]\n",
    "                     #          [ True  True]]\"\n",
    "\n",
    "\n",
    "\n",
    "print(a[bool_idx])  # muestra \"[3 4 5 6]\"\n",
    "\n",
    "#Se puede lograr en una sola sentencia\n",
    "print(a[a > 2])     # Muestra \"[3 4 5 6]\""
   ]
  },
  {
   "cell_type": "code",
   "execution_count": 75,
   "metadata": {},
   "outputs": [
    {
     "name": "stdout",
     "output_type": "stream",
     "text": [
      "int64\n",
      "float64\n",
      "int64\n"
     ]
    }
   ],
   "source": [
    "import numpy as np\n",
    "\n",
    "x = np.array([1, 2])   # numpy elige el tipo de dato\n",
    "print(x.dtype)         # En este caso \"int64\"\n",
    "\n",
    "x = np.array([1.0, 2.0])   # numpy elige el tipo de dato\n",
    "print(x.dtype)             # en este caso \"float64\"\n",
    "\n",
    "x = np.array([1, 2], dtype=np.int64)   # fuerza el tipo de dato a int64\n",
    "print(x.dtype)                         # muestra \"int64\""
   ]
  },
  {
   "cell_type": "code",
   "execution_count": 76,
   "metadata": {},
   "outputs": [
    {
     "name": "stdout",
     "output_type": "stream",
     "text": [
      "[[ 6.  8.]\n",
      " [10. 12.]]\n",
      "[[ 6.  8.]\n",
      " [10. 12.]]\n",
      "\n",
      "[[-4. -4.]\n",
      " [-4. -4.]]\n",
      "[[-4. -4.]\n",
      " [-4. -4.]]\n",
      "\n",
      "[[ 5. 12.]\n",
      " [21. 32.]]\n",
      "[[ 5. 12.]\n",
      " [21. 32.]]\n",
      "\n",
      "[[0.2        0.33333333]\n",
      " [0.42857143 0.5       ]]\n",
      "[[0.2        0.33333333]\n",
      " [0.42857143 0.5       ]]\n",
      "\n",
      "[[1.         1.41421356]\n",
      " [1.73205081 2.        ]]\n"
     ]
    }
   ],
   "source": [
    "#Operaciones con matrices en python\n",
    "import numpy as np\n",
    "\n",
    "x = np.array([[1,2],[3,4]], dtype=np.float64)\n",
    "y = np.array([[5,6],[7,8]], dtype=np.float64)\n",
    "\n",
    "# Suma elemento a elemento\n",
    "# [[ 6.0  8.0]\n",
    "#  [10.0 12.0]]\n",
    "\n",
    "print(x + y)\n",
    "print(np.add(x, y))\n",
    "print()\n",
    "\n",
    "# Diferencia elemento a elemento\n",
    "# [[-4.0 -4.0]\n",
    "#  [-4.0 -4.0]]\n",
    "\n",
    "print(x - y)\n",
    "print(np.subtract(x, y))\n",
    "print()\n",
    "\n",
    "# Producto elemento a elemento\n",
    "# [[ 5.0 12.0]\n",
    "#  [21.0 32.0]]\n",
    "print(x * y)\n",
    "print(np.multiply(x, y))\n",
    "print()\n",
    "\n",
    "# División elemento a elemento\n",
    "# [[ 0.2         0.33333333]\n",
    "#  [ 0.42857143  0.5       ]]\n",
    "print(x / y)\n",
    "print(np.divide(x, y))\n",
    "print()\n",
    "\n",
    "# Raíz cuadrada, elemento a elemento\n",
    "# [[ 1.          1.41421356]\n",
    "#  [ 1.73205081  2.        ]]\n",
    "print(np.sqrt(x))"
   ]
  },
  {
   "cell_type": "code",
   "execution_count": 77,
   "metadata": {},
   "outputs": [
    {
     "name": "stdout",
     "output_type": "stream",
     "text": [
      "219\n",
      "219\n",
      "219\n",
      "[29 67]\n",
      "[29 67]\n",
      "[[19 22]\n",
      " [43 50]]\n",
      "[[19 22]\n",
      " [43 50]]\n",
      "0\n"
     ]
    }
   ],
   "source": [
    "import numpy as np\n",
    "\n",
    "x = np.array([[1,2],[3,4]])\n",
    "y = np.array([[5,6],[7,8]])\n",
    "\n",
    "v = np.array([9,10])\n",
    "w = np.array([11, 12])\n",
    "\n",
    "# Producto interno de vectores \n",
    "print(v.dot(w))\n",
    "print(np.dot(v, w))\n",
    "print(v @ w)\n",
    "\n",
    "# Producto interno de vectores\n",
    "print(x.dot(v))\n",
    "print(np.dot(x, v))\n",
    "\n",
    "# Producto interno de vectores\n",
    "print(x.dot(y))\n",
    "print(np.dot(x, y))\n",
    "\n",
    "v1 = np.array([3, 4])\n",
    "v2 = np.array([4, -3])\n",
    "print(v1 @ v2) #Qué indica el resultado?"
   ]
  },
  {
   "cell_type": "code",
   "execution_count": 78,
   "metadata": {},
   "outputs": [
    {
     "name": "stdout",
     "output_type": "stream",
     "text": [
      "10\n",
      "[4 6]\n",
      "[3 7]\n"
     ]
    }
   ],
   "source": [
    "import numpy as np\n",
    "\n",
    "x = np.array([[1,2],[3,4]])\n",
    "\n",
    "print(np.sum(x))  # Suma todos los elementos \"10\"\n",
    "print(np.sum(x, axis=0))  # Suma los elementos de las columnas; \"[4 6]\"\n",
    "print(np.sum(x, axis=1))  # Suma los elementos por fila \"[3 7]\""
   ]
  },
  {
   "cell_type": "code",
   "execution_count": 79,
   "metadata": {},
   "outputs": [
    {
     "name": "stdout",
     "output_type": "stream",
     "text": [
      "[[1 2]\n",
      " [3 4]]\n",
      "[[1 3]\n",
      " [2 4]]\n",
      "[[1 3]\n",
      " [2 4]]\n",
      "\n",
      "[1 2 3]\n",
      "[1 2 3]\n"
     ]
    }
   ],
   "source": [
    "import numpy as np\n",
    "\n",
    "x = np.array([[1,2], [3,4]])\n",
    "print(x)  \n",
    "\n",
    "# Transpuesta\n",
    "print(x.T)  # \"[[1 3]\n",
    "            #  [2 4]]\"\n",
    "# o bien\n",
    "print(np.transpose(x))\n",
    "print()\n",
    "\n",
    "# Pedir la transpuesta de un array de una dimensión no hace nada\n",
    "v = np.array([1,2,3])\n",
    "print(v)    # \"[1 2 3]\"\n",
    "print(v.T)  # \"[1 2 3]\""
   ]
  },
  {
   "cell_type": "code",
   "execution_count": 80,
   "metadata": {},
   "outputs": [
    {
     "name": "stdout",
     "output_type": "stream",
     "text": [
      "[[1 2]\n",
      " [3 4]]\n",
      "[[1 2 1]\n",
      " [3 4 2]]\n",
      "\n",
      "[[ 7 10  5]\n",
      " [15 22 11]]\n"
     ]
    }
   ],
   "source": [
    "import numpy as np\n",
    "# Producto de matrices\n",
    "\n",
    "x = np.array([[1,2], [3,4]])\n",
    "print(x)  \n",
    "y= np.array(([[1,2,1], [3,4,2]]))\n",
    "print(y)\n",
    "print()\n",
    "\n",
    "v = x @ y\n",
    "print(v)  \n",
    "\n",
    "# Si hacemos\n",
    "# w=y@x\n",
    "# print(w)\n",
    "# nos da error y nos explica la causa"
   ]
  },
  {
   "cell_type": "code",
   "execution_count": 81,
   "metadata": {},
   "outputs": [
    {
     "name": "stdout",
     "output_type": "stream",
     "text": [
      "10.000000000000002\n",
      "\n",
      "[[ 0.6 -0.7]\n",
      " [-0.2  0.4]]\n",
      "\n",
      "[[4 2]\n",
      " [7 6]]\n"
     ]
    }
   ],
   "source": [
    "import numpy as np\n",
    "\n",
    "# Calculo el determinante\n",
    "A = np.array([[4, 7],\n",
    "              [2, 6]])\n",
    "\n",
    "print(np.linalg.det(A))\n",
    "print()\n",
    "print(np.linalg.inv(A))\n",
    "print()\n",
    "print(np.transpose(A))"
   ]
  },
  {
   "cell_type": "code",
   "execution_count": 82,
   "metadata": {},
   "outputs": [],
   "source": [
    "#https://docs.scipy.org/doc/numpy/reference/"
   ]
  },
  {
   "cell_type": "markdown",
   "metadata": {},
   "source": [
    "### Librería matplotlib - Gráficos"
   ]
  },
  {
   "cell_type": "markdown",
   "metadata": {},
   "source": [
    "* Tabla Símbolo- Color\n",
    "\n",
    "“b”\tAzul\n",
    "\n",
    "“g”\tVerde\n",
    "\n",
    "“r”\tRojo\n",
    "\n",
    "“c”\tCian\n",
    "\n",
    "“m”\tMagenta\n",
    "\n",
    "“y”\tAmarillo\n",
    "\n",
    "“k”\tNegro\n",
    "\n",
    "“w”\tBlanco\n",
    "\n",
    "* Tabla Marcas y líneas\n",
    "\n",
    "* Símbolo-\tDescripción\n",
    "“-“\tLínea continua\n",
    "\n",
    "“–”\tLínea a trazos\n",
    "\n",
    "“-.”\tLínea a puntos y rayas\n",
    "\n",
    "“:”\tLínea punteada\n",
    "\n",
    "“.”\tSímbolo punto\n",
    "\n",
    "“,”\tSímbolo pixel\n",
    "\n",
    "“o”\tSímbolo círculo relleno\n",
    "\n",
    "“v”\tSímbolo triángulo hacia abajo\n",
    "\n",
    "“^”\tSímbolo triángulo hacia arriba\n",
    "\n",
    "“<”\tSímbolo triángulo hacia la izquierda\n",
    "\n",
    "“>”\tSímbolo triángulo hacia la derecha\n",
    "\n",
    "“s”\tSímbolo cuadrado\n",
    "\n",
    "“p”\tSímbolo pentágono\n",
    "\n",
    "“*”\tSímbolo estrella\n",
    "\n",
    "“+”\tSímbolo cruz\n",
    "\n",
    "“x”\tSímbolo X\n",
    "\n",
    "“D”\tSímbolo diamante\n",
    "\n",
    "“d”\tSímbolo diamante delgado"
   ]
  },
  {
   "cell_type": "code",
   "execution_count": 83,
   "metadata": {},
   "outputs": [],
   "source": [
    "%matplotlib inline\n",
    "# %matplotlib inline No abre una ventana para cada gráfica"
   ]
  },
  {
   "cell_type": "code",
   "execution_count": 86,
   "metadata": {},
   "outputs": [
    {
     "data": {
      "image/png": "[encoded data removed]",
      "text/plain": [
       "<Figure size 432x288 with 1 Axes>"
      ]
     },
     "metadata": {
      "needs_background": "light"
     },
     "output_type": "display_data"
    }
   ],
   "source": [
    "import numpy as np\n",
    "import matplotlib.pyplot as plt\n",
    "\n",
    "x = np.linspace(0, 10, 10)\n",
    "x2 = x*x\n",
    "x3 = x**3\n",
    "plt.plot(x, x, 'b.', x, x2, 'rd', x, x3, 'g^')\n",
    "plt.show()"
   ]
  },
  {
   "cell_type": "code",
   "execution_count": 87,
   "metadata": {},
   "outputs": [
    {
     "data": {
      "image/png": "[encoded data removed]",
      "text/plain": [
       "<Figure size 432x288 with 1 Axes>"
      ]
     },
     "metadata": {
      "needs_background": "light"
     },
     "output_type": "display_data"
    }
   ],
   "source": [
    "# Se puede cambiar el intervalo horizontal con xlim\n",
    "# Se puede cambiar el intervalo vertical con ylim\n",
    "\n",
    "x = np.linspace(0,10,10)\n",
    "x2 = x*x\n",
    "x3 = x**3\n",
    "plt.xlim(5, 10)     # nuevos límites para el eje OX\n",
    "\n",
    "plt.plot(x, x, 'b.', x, x2, 'rd', x, x3, 'g^')\n",
    "plt.gca().legend(('Lineal', 'Cuadrática', 'Cúbica'))\n",
    "\n",
    "plt.show()"
   ]
  },
  {
   "cell_type": "code",
   "execution_count": 88,
   "metadata": {},
   "outputs": [
    {
     "data": {
      "image/png": "[encoded data removed]",
      "text/plain": [
       "<Figure size 432x288 with 1 Axes>"
      ]
     },
     "metadata": {
      "needs_background": "light"
     },
     "output_type": "display_data"
    },
    {
     "data": {
      "image/png": "[encoded data removed]",
      "text/plain": [
       "<Figure size 432x288 with 1 Axes>"
      ]
     },
     "metadata": {
      "needs_background": "light"
     },
     "output_type": "display_data"
    },
    {
     "data": {
      "image/png": "[encoded data removed]",
      "text/plain": [
       "<Figure size 432x288 with 1 Axes>"
      ]
     },
     "metadata": {
      "needs_background": "light"
     },
     "output_type": "display_data"
    }
   ],
   "source": [
    "import matplotlib.pyplot as plt\n",
    "\n",
    "# Gráficos múltiples\n",
    "plt.plot([4, 8, 13, 17, 20], [54, 67, 98, 78, 45])\n",
    "plt.show()\n",
    "plt.plot([4, 8, 13 ,17, 20], [54, 67, 98, 78, 45], 'g--d')  # en color verde con guiones y punto diamante\n",
    "plt.show()\n",
    "plt.scatter([4, 8, 13, 17, 20], [54, 67, 98, 78, 45])  # puntos\n",
    "plt.show()"
   ]
  },
  {
   "cell_type": "markdown",
   "metadata": {},
   "source": [
    "Defina el vector $u = (5, 9 , 10 , -1)$\n",
    "\n",
    "Defina el vector $v = (-2 , 0 , 5 , 4)$\n",
    "\n",
    "Graficar los vectores $u$, $v$, $u+v$ "
   ]
  },
  {
   "cell_type": "code",
   "execution_count": 89,
   "metadata": {},
   "outputs": [
    {
     "data": {
      "image/png": "[encoded data removed]",
      "text/plain": [
       "<Figure size 864x1080 with 4 Axes>"
      ]
     },
     "metadata": {
      "needs_background": "light"
     },
     "output_type": "display_data"
    },
    {
     "name": "stdout",
     "output_type": "stream",
     "text": [
      "[ 5  9 10 -1] [-2  0  5  4] [ 3  9 15  3]\n"
     ]
    }
   ],
   "source": [
    "import numpy as np\n",
    "import matplotlib.pyplot as plt\n",
    "\n",
    "# %matplotlib inline No abre una ventana para cada gráfica\n",
    "\n",
    "u = np.array([5, 9, 10, -1])\n",
    "v = np.array([-2, 0, 5, 4])\n",
    "w = u + v\n",
    "\n",
    "# Para varios gráficos es útil usar la función subplots y luego axs\n",
    "fig, axs = plt.subplots(nrows=2, ncols=2, sharex=True)  # Otra variable usada es f\n",
    "# f, axs = plt.subplots(2,2,figsize=(12,15)) # ancho, altura\n",
    "fig.set_figwidth(12)\n",
    "fig.set_figheight(15)\n",
    "\n",
    "axs[0,0].plot(range(4), u)\n",
    "axs[0,0].set_title('vector u')\n",
    "axs[0,0].set_xlabel('x')\n",
    "axs[0,0].set_ylabel('y')\n",
    "\n",
    "axs[0,1].plot(range(4), v)\n",
    "axs[0,1].set_title('vector v')\n",
    "axs[0,1].set_xlabel('x')\n",
    "axs[0,1].set_ylabel('y')\n",
    "\n",
    "\n",
    "axs[1,0].plot(range(4), w)\n",
    "axs[1,0].set_title('vector suma')\n",
    "axs[1,0].set_xlabel('x')\n",
    "axs[1,0].set_ylabel('y')\n",
    "\n",
    "axs[1,1],plt.scatter(range(4), w)\n",
    "axs[1,1].set_title('vector suma')\n",
    "axs[1,1].set_xlabel('x')\n",
    "axs[1,1].set_ylabel('y')\n",
    "\n",
    "plt.show()\n",
    "print(u, v, w)"
   ]
  },
  {
   "cell_type": "code",
   "execution_count": 90,
   "metadata": {},
   "outputs": [
    {
     "name": "stdout",
     "output_type": "stream",
     "text": [
      "[ 2  6 10 14 18 22 26]\n"
     ]
    },
    {
     "data": {
      "image/png": "[encoded data removed]",
      "text/plain": [
       "<Figure size 864x720 with 2 Axes>"
      ]
     },
     "metadata": {
      "needs_background": "light"
     },
     "output_type": "display_data"
    }
   ],
   "source": [
    "import numpy as np\n",
    "import matplotlib.pyplot as plt\n",
    "\n",
    "s = range(2,27,4)\n",
    "s = np.array(s)\n",
    "print(s)\n",
    "l = np.linspace(0.0, 1.0, 256)\n",
    "\n",
    "fig, axs = plt.subplots(nrows=1, ncols=2, sharex=True)\n",
    "fig.set_figwidth(12)\n",
    "fig.set_figheight(10)\n",
    "\n",
    "axs[0].scatter(range(7), s)  # En el eje horizontal es range(7) porque tiene que coincidir la cantidad de elementos\n",
    "axs[1].plot(l)\n",
    "plt.show()  # Observar valores ejes horizontal y vertical"
   ]
  },
  {
   "cell_type": "code",
   "execution_count": 91,
   "metadata": {},
   "outputs": [
    {
     "data": {
      "image/png": "[encoded data removed]",
      "text/plain": [
       "<Figure size 720x216 with 2 Axes>"
      ]
     },
     "metadata": {
      "needs_background": "light"
     },
     "output_type": "display_data"
    }
   ],
   "source": [
    "# Otra forma de mostrar múltiples gráficos\n",
    "\n",
    "import numpy as np\n",
    "import matplotlib.pyplot as plt\n",
    "\n",
    "x = np.linspace(0, 4, 1000)\n",
    "f = plt.figure(figsize=(10, 3))\n",
    "\n",
    "ax = f.add_subplot(121)\n",
    "ax2 = f.add_subplot(122)\n",
    "\n",
    "ax.plot(x, np.sin(x))\n",
    "ax2.plot(x, np.cos(x), 'r:')\n",
    "\n",
    "plt.show()"
   ]
  },
  {
   "cell_type": "markdown",
   "metadata": {},
   "source": [
    "## Otros ejemplos con arrays\n",
    "Generar lista A de dimensión 3x4.\n",
    "\n",
    "Convertirla en array y mostrarla.\n",
    "\n",
    "Encontrar, guardar en variable y mostrar el máximo.\n",
    "\n",
    "Generar y mostrar la transpuesta y su dimensión.\n",
    "\n",
    "Generar una lista B de 12 elementos, 11 numéricos y el último string. Mostrar el tipo.\n",
    "\n",
    "Generar una lista C con los 11 primeros elementos de la anterior. Mostrar el tipo.\n",
    "\n",
    "Generar un vector D con los elementos: 0 1 2 3 4 5 6 7 8 9 10. Utilizar comando de numpy arange().\n",
    "\n",
    "Convertir en vector la lista C. Mostrar tipo.\n",
    "\n",
    "\n"
   ]
  },
  {
   "cell_type": "code",
   "execution_count": 94,
   "metadata": {},
   "outputs": [
    {
     "name": "stdout",
     "output_type": "stream",
     "text": [
      "Lista A: [[1, 2, 3, 4], [9, 10, 11, 12], [5, 6, 7, 8], [1, 1, 2, 2], [2, 3, 3, 4]]\n",
      "tipo: <class 'list'> | largo: 5\n",
      "\n",
      "Matriz Amat a partir de la lista A\n",
      "Matriz A = [[ 1  2  3  4]\n",
      " [ 9 10 11 12]\n",
      " [ 5  6  7  8]\n",
      " [ 1  1  2  2]\n",
      " [ 2  3  3  4]]\n",
      "Dimensión de la matriz A: (5, 4)\n",
      "<class 'numpy.ndarray'> tamaño: 20 forma: (5, 4)\n",
      "máximo de matriz = 12\n",
      "\n",
      "traspuesta de la matriz A\n",
      "[[ 1  9  5  1  2]\n",
      " [ 2 10  6  1  3]\n",
      " [ 3 11  7  2  3]\n",
      " [ 4 12  8  2  4]]\n",
      "\n",
      "La dimensión de la transpuesta es (4, 5)\n"
     ]
    }
   ],
   "source": [
    "import numpy as np\n",
    "\n",
    "# Generamos lista\n",
    "A = [\n",
    "    [1, 2, 3, 4],\n",
    "    [9, 10, 11, 12],\n",
    "    [5, 6, 7, 8],\n",
    "    [1, 1, 2, 2],\n",
    "    [2, 3, 3, 4]\n",
    "]\n",
    "print(\"Lista A: {}\".format(A))\n",
    "print(\"tipo: {} | largo: {}\".format(type(A), len(A)))\n",
    "print()\n",
    "\n",
    "Amat = np.array(A)\n",
    "print(\"Matriz Amat a partir de la lista A\")\n",
    "print(\"Matriz A = {}\".format(Amat))\n",
    "print(\"Dimensión de la matriz A: {}\".format(Amat.shape))\n",
    "print(type(Amat), \"tamaño:\", Amat.size, \"forma:\", Amat.shape)\n",
    "\n",
    "m = Amat.max()\n",
    "print(\"máximo de matriz = {}\".format(m))\n",
    "print()\n",
    "\n",
    "At = np.transpose(Amat) # transpuesta de la matriz\n",
    "print(\"traspuesta de la matriz A\")\n",
    "print(At)\n",
    "\n",
    "print()\n",
    "print(\"La dimensión de la transpuesta es {}\".format(At.shape))"
   ]
  },
  {
   "cell_type": "code",
   "execution_count": 95,
   "metadata": {},
   "outputs": [
    {
     "name": "stdout",
     "output_type": "stream",
     "text": [
      "Lista B = [1, 2, 3, 4, 5, 6, 7, 8, 9, 10, 11, 'hola']\n",
      "<class 'list'>\n",
      "\n",
      "Tomo C como los primeros 11 elementos de la lista B = [1, 2, 3, 4, 5, 6, 7, 8, 9, 10, 11]\n",
      "<class 'list'>\n",
      "\n",
      "Vector np.arange(11) es = [ 0  1  2  3  4  5  6  7  8  9 10]\n",
      "<class 'numpy.ndarray'>\n",
      "\n",
      "Lista C convertida en vector = [ 1  2  3  4  5  6  7  8  9 10 11]\n",
      "<class 'numpy.ndarray'>\n",
      "\n"
     ]
    }
   ],
   "source": [
    "B = [1, 2, 3, 4, 5, 6, 7, 8, 9, 10, 11, \"hola\"]\n",
    "print(\"Lista B = {}\".format(B)) # La lista puede tener elementos de distinto tipo\n",
    "print(type(B))\n",
    "print()\n",
    "\n",
    "C = B[0:11]\n",
    "print(\"Tomo C como los primeros 11 elementos de la lista B = {}\".format(C))\n",
    "print(type(C))\n",
    "print()\n",
    "\n",
    "D = np.arange(11)\n",
    "print(\"Vector np.arange(11) es = {}\".format(D)) # con np.arange() generamos vectores\n",
    "print(type(D))\n",
    "print()\n",
    "\n",
    "E = np.array(C)\n",
    "print(\"Lista C convertida en vector = {}\".format(E))\n",
    "print(type(E))\n",
    "print()"
   ]
  },
  {
   "cell_type": "markdown",
   "metadata": {},
   "source": [
    "Dada la matriz A, del ejericio anterior u otra:\n",
    "\n",
    "Tomar el elemento de la fila 3 columna 2.\n",
    "\n",
    "Asignarle un nuevo valor.\n",
    "\n",
    "Generar una matriz con las dos primeras filas de la anterior utilizando el comando range, o corchetes.\n",
    "\n",
    "Generar distintas submatrices.\n"
   ]
  },
  {
   "cell_type": "code",
   "execution_count": 96,
   "metadata": {},
   "outputs": [
    {
     "name": "stdout",
     "output_type": "stream",
     "text": [
      "[[ 1  2  3  4]\n",
      " [ 9 10 11 12]\n",
      " [ 5  6  7  8]\n",
      " [ 1  1  2  2]\n",
      " [ 2  3  3  4]]\n",
      "valor de la matriz Amat en el lugar [2,1] es 6\n",
      "\n",
      "[[ 1  2  3  4]\n",
      " [ 9 10 11 12]\n",
      " [ 5 15  7  8]\n",
      " [ 1  1  2  2]\n",
      " [ 2  3  3  4]]\n",
      "el nuevo valor de la matriz Amat en el lugar [2,1] es = 15\n"
     ]
    }
   ],
   "source": [
    "# Elemento de una matriz\n",
    "print(Amat)\n",
    "print(\"valor de la matriz Amat en el lugar [2,1] es {}\".format(Amat[2,1])) # fila 2(3ra) columna 1 (2da)\n",
    "print()\n",
    "\n",
    "# Cambiar un valor de A\n",
    "Amat[2][1] = 15\n",
    "print(Amat)\n",
    "print(\"el nuevo valor de la matriz Amat en el lugar [2,1] es = {}\".format(Amat[2,1])) # fila 2(3ra) columna 1 (2da)"
   ]
  },
  {
   "cell_type": "code",
   "execution_count": 97,
   "metadata": {},
   "outputs": [
    {
     "name": "stdout",
     "output_type": "stream",
     "text": [
      "\n",
      " Submatriz formada por las dos primeras filas separadas con A[range(0,2)]:\n",
      "[[ 1  2  3  4]\n",
      " [ 9 10 11 12]]\n",
      "\n",
      "\n",
      "Submatriz dos primeras filas separadas con A[0:2]=\n",
      "[[ 1  2  3  4]\n",
      " [ 9 10 11 12]] \n",
      "\n",
      "\n",
      "Submatriz primera fila obtenida con A[0:1] = [[1 2 3 4]]\n",
      "\n",
      "\n",
      "Submatriz primera fila obtenida con A[0] = [1 2 3 4]\n",
      "\n",
      "\n",
      "Submatriz formada por las 3 primeras filas y las dos primeras columnas Amat[0:3,0:2]\n",
      "[[ 1  2]\n",
      " [ 9 10]\n",
      " [ 5 15]] \n",
      "\n",
      "Submatriz formada por las Filas segunda y tercera, columnnas segunda y tercera Amat[1:3,1:3]\n",
      "[[10 11]\n",
      " [15  7]] \n",
      "\n",
      "\n",
      " atributo y función size de un arreglo con numpy, dos formas de obtenerlo M.size o np.size(M): 20 o 20\n"
     ]
    }
   ],
   "source": [
    "# Submatriz \n",
    "print(\"\\n Submatriz formada por las dos primeras filas separadas con A[range(0,2)]:\")\n",
    "print(Amat[range(0, 2)]) \n",
    "print()\n",
    "\n",
    "print(\"\\nSubmatriz dos primeras filas separadas con A[0:2]=\")\n",
    "print(Amat[0:2],\"\\n\") #desde fila 0 (inclusive) hasta fila 2 exclusive\n",
    "\n",
    "print(\"\\nSubmatriz primera fila obtenida con A[0:1] = {}\\n\".format(Amat[0:1]))\n",
    "\n",
    "print(\"\\nSubmatriz primera fila obtenida con A[0] = {}\\n\".format(Amat[0]))\n",
    "\n",
    "print(\"\\nSubmatriz formada por las 3 primeras filas y las dos primeras columnas Amat[0:3,0:2]\")\n",
    "print(Amat[0:3,0:2],\"\\n\")#desde fila y col 0 (inclusive) hasta fila 3 y col 2 exclusive\n",
    "\n",
    "print(\"Submatriz formada por las Filas segunda y tercera, columnnas segunda y tercera Amat[1:3,1:3]\")\n",
    "print(Amat[1:3,1:3],\"\\n\") #desde fila y col 1 (inclusive) hasta fila y col 3 exclusive\n",
    "\n",
    "print(\"\\n atributo y función size de un arreglo con numpy, dos formas de obtenerlo M.size o np.size(M): {} o {}\".format(Amat.size,  np.size(Amat)))"
   ]
  },
  {
   "cell_type": "code",
   "execution_count": 98,
   "metadata": {},
   "outputs": [
    {
     "name": "stdout",
     "output_type": "stream",
     "text": [
      "(5, 4) (4, 5)\n",
      "Matriz=\n",
      "' <class 'numpy.ndarray'>\n",
      "[[ 1  2  3  4]\n",
      " [ 9 10 11 12]\n",
      " [ 5 15  7  8]\n",
      " [ 1  1  2  2]\n",
      " [ 2  3  3  4]]\n",
      "\n",
      "Transpuesta\n",
      " <class 'numpy.ndarray'>\n",
      "[[ 1  9  5  1  2]\n",
      " [ 2 10 15  1  3]\n",
      " [ 3 11  7  2  3]\n",
      " [ 4 12  8  2  4]]\n",
      "\n",
      "Producto matriz por su traspuesta\n",
      "[[ 30 110  88  17  33]\n",
      " [110 446 368  65 129]\n",
      " [ 88 368 363  50 108]\n",
      " [ 17  65  50  10  19]\n",
      " [ 33 129 108  19  38]]\n",
      "\n",
      "Producto matriz punto a punto por sí misma\n",
      "[[  1   4   9  16]\n",
      " [ 81 100 121 144]\n",
      " [ 25 225  49  64]\n",
      " [  1   1   4   4]\n",
      " [  4   9   9  16]]\n",
      "\n",
      "[[  1   4   9  16]\n",
      " [ 81 100 121 144]\n",
      " [ 25 225  49  64]\n",
      " [  1   1   4   4]\n",
      " [  4   9   9  16]]\n",
      "\n",
      "División punto a punto de la matriz por sí misma\n",
      "[[1. 1. 1. 1.]\n",
      " [1. 1. 1. 1.]\n",
      " [1. 1. 1. 1.]\n",
      " [1. 1. 1. 1.]\n",
      " [1. 1. 1. 1.]]\n",
      "\n",
      "División de los elementos por 2\n",
      "[[0.5 1.  1.5 2. ]\n",
      " [4.5 5.  5.5 6. ]\n",
      " [2.5 7.5 3.5 4. ]\n",
      " [0.5 0.5 1.  1. ]\n",
      " [1.  1.5 1.5 2. ]]\n",
      "\n",
      "Sumo la matriz a sí misma\n",
      "[[ 2  4  6  8]\n",
      " [18 20 22 24]\n",
      " [10 30 14 16]\n",
      " [ 2  2  4  4]\n",
      " [ 4  6  6  8]]\n",
      "\n",
      "Concateno lista\n",
      "[[1, 2, 3, 4], [9, 10, 11, 12], [5, 6, 7, 8], [1, 1, 2, 2], [2, 3, 3, 4], [1, 2, 3, 4], [9, 10, 11, 12], [5, 6, 7, 8], [1, 1, 2, 2], [2, 3, 3, 4]]\n",
      "\n",
      "Convierto la concatenación en arreglo\n",
      "[[ 1  2  3  4]\n",
      " [ 9 10 11 12]\n",
      " [ 5  6  7  8]\n",
      " [ 1  1  2  2]\n",
      " [ 2  3  3  4]\n",
      " [ 1  2  3  4]\n",
      " [ 9 10 11 12]\n",
      " [ 5  6  7  8]\n",
      " [ 1  1  2  2]\n",
      " [ 2  3  3  4]]\n",
      "\n",
      "Sumo 3 punto a punto a la matriz original\n",
      "[[ 4  5  6  7]\n",
      " [12 13 14 15]\n",
      " [ 8 18 10 11]\n",
      " [ 4  4  5  5]\n",
      " [ 5  6  6  7]]\n",
      "\n",
      "Multiplico por 2 todos los elementos de la matriz original\n",
      "[[ 2  4  6  8]\n",
      " [18 20 22 24]\n",
      " [10 30 14 16]\n",
      " [ 2  2  4  4]\n",
      " [ 4  6  6  8]]\n"
     ]
    }
   ],
   "source": [
    "# Operaciones matriciales- Revisión\n",
    "print(np.shape(Amat), np.shape(At))\n",
    "print(\"Matriz=\\n'\",type(Amat))\n",
    "print(Amat)\n",
    "print()\n",
    "print(\"Transpuesta\\n\",type(At))\n",
    "print(At)\n",
    "print()\n",
    "print(\"Producto matriz por su traspuesta\")\n",
    "print(np.dot(Amat, At))  #\n",
    "print()\n",
    "      \n",
    "#Producto lugar a lugar/ punto a punto de arreglos numpy\n",
    "print(\"Producto matriz punto a punto por sí misma\")\n",
    "print(Amat*Amat) \n",
    "print()\n",
    "#Otra forma\n",
    "print(np.multiply(Amat,Amat)) #Producto punto a punto\n",
    "\n",
    "print()\n",
    "print(\"División punto a punto de la matriz por sí misma\")\n",
    "print(Amat/Amat)    #División punto a punto . Cuidado con la división por ceros!!!\n",
    "\n",
    "print()\n",
    "print(\"División de los elementos por 2\")\n",
    "print(Amat/2) #División punto a punto\n",
    "\n",
    "print()\n",
    "print(\"Sumo la matriz a sí misma\")\n",
    "print(Amat + Amat)     #Suma (lugar a lugar)\n",
    "\n",
    "print()\n",
    "print(\"Concateno lista\")\n",
    "print(A + A)     #Ojo!! concatenación de listas ya que A es lista\n",
    "\n",
    "print()\n",
    "print(\"Convierto la concatenación en arreglo\")\n",
    "print(np.array(A + A)) #concatenación de listas en arreglos!\n",
    "\n",
    "print()\n",
    "print(\"Sumo 3 punto a punto a la matriz original\")\n",
    "print(Amat + 3) #Suma (lugar a lugar)\n",
    "\n",
    "print()\n",
    "print(\"Multiplico por 2 todos los elementos de la matriz original\")\n",
    "print(2*Amat) #Producto por escalar (lugar a lugar)"
   ]
  },
  {
   "cell_type": "markdown",
   "metadata": {},
   "source": [
    "**Ejercicio**\n",
    "\n",
    "Defina una matriz de unos de dimensión 3x2.\n",
    "\n",
    "Multiplique la primera fila por 3.\n",
    "\n",
    "Multiplique la última fila por 2.\n",
    "\n",
    "Muestre la matriz obtenida y su traspuesta."
   ]
  },
  {
   "cell_type": "code",
   "execution_count": 99,
   "metadata": {},
   "outputs": [
    {
     "name": "stdout",
     "output_type": "stream",
     "text": [
      "[[1. 1.]\n",
      " [1. 1.]\n",
      " [1. 1.]]\n",
      "\n",
      "[[3. 3.]\n",
      " [1. 1.]\n",
      " [2. 2.]]\n"
     ]
    }
   ],
   "source": [
    "import numpy as np\n",
    "\n",
    "A = np.ones((3, 2))\n",
    "print(A)\n",
    "print()\n",
    "\n",
    "A[0:1] = 3 * A[0:1]\n",
    "A[2:] = 2 * A[2:]\n",
    "print(A)"
   ]
  },
  {
   "cell_type": "markdown",
   "metadata": {},
   "source": [
    "### Algunas funciones numpy para arreglos - Alias np\n",
    "\n",
    "`np.sum()` `np.mean()` `np.median()` `np.max()` `np.min()` `np.std()` `np.array()` `np.arange()`\n",
    "\n",
    "`np.float32()` `np.int32()` `np.concatenate()`\n",
    "\n",
    "`np.unique()` #quita los elementos repetidos\n",
    "\n",
    "`np.round()`"
   ]
  },
  {
   "cell_type": "markdown",
   "metadata": {},
   "source": [
    "**Ejercicio plus**\n",
    "* construya una función que :\n",
    "- pida un número impar\n",
    "- que imprima \"Error, debe ingresar un número impar\" si no es impar\n",
    "- y que devuelva una matriz cuadrada de ancho y alto el número impar ingresado, cuyos valores sean ese número en la última fila y columna y decrezca de a uno al acercarse al lugar [0,0], hasta llegar a uno.\n",
    "A modo de ejemplo, Si el número ingresado es 5 la matriz resultante deberá dar:\n",
    "\n",
    "[[ 1  2  3  4  5]\n",
    "\n",
    " [ 2  2  3  4  5]\n",
    " \n",
    " [ 3  3  3  4  5]\n",
    " \n",
    " [ 4  4  4  4  5]\n",
    " \n",
    " [ 5  5  5  5  5]]\n",
    " \n",
    " - Al implementar la función verificar que el resultado es una matriz simétrica, es decir es igual que su traspuesta."
   ]
  },
  {
   "cell_type": "code",
   "execution_count": 100,
   "metadata": {},
   "outputs": [],
   "source": [
    "class NotOddNumber(Exception):\n",
    "    pass"
   ]
  },
  {
   "cell_type": "code",
   "execution_count": 140,
   "metadata": {},
   "outputs": [],
   "source": [
    "def input_odd(x):\n",
    "    if x % 2 == 0:\n",
    "        raise NotOddNumber(\"Error, debe ingresar un número impar\")\n",
    "\n",
    "    matrix = np.full((x, x), x)\n",
    "    \n",
    "    matrix[x-2, 0:x-1] = x - 1\n",
    "\n",
    "    matrix[x-3] = matrix[-2]\n",
    "    matrix[x-3, 0:x-2] = x - 2\n",
    "\n",
    "    matrix[x-4] = matrix[-3]\n",
    "    matrix[x-4, 0:x-3] = x - 3\n",
    "\n",
    "    matrix[x-5] = matrix[-4]\n",
    "    matrix[x-5, 0:x-4] = x - 4\n",
    "\n",
    "    return matrix"
   ]
  },
  {
   "cell_type": "code",
   "execution_count": 142,
   "metadata": {},
   "outputs": [
    {
     "data": {
      "text/plain": [
       "array([[1, 2, 3, 4, 5],\n",
       "       [2, 2, 3, 4, 5],\n",
       "       [3, 3, 3, 4, 5],\n",
       "       [4, 4, 4, 4, 5],\n",
       "       [5, 5, 5, 5, 5]])"
      ]
     },
     "execution_count": 142,
     "metadata": {},
     "output_type": "execute_result"
    }
   ],
   "source": [
    "input_odd(5)"
   ]
  },
  {
   "cell_type": "code",
   "execution_count": null,
   "metadata": {},
   "outputs": [],
   "source": []
  }
 ],
 "metadata": {
  "kernelspec": {
   "display_name": "Python 3",
   "language": "python",
   "name": "python3"
  },
  "language_info": {
   "codemirror_mode": {
    "name": "ipython",
    "version": 3
   },
   "file_extension": ".py",
   "mimetype": "text/x-python",
   "name": "python",
   "nbconvert_exporter": "python",
   "pygments_lexer": "ipython3",
   "version": "3.6.5"
  }
 },
 "nbformat": 4,
 "nbformat_minor": 4
}
