{
 "cells": [
  {
   "cell_type": "code",
   "execution_count": 1,
   "metadata": {
    "colab": {},
    "colab_type": "code",
    "id": "WoMvkoJAZHMy"
   },
   "outputs": [],
   "source": [
    "%load_ext autoreload\n",
    "%autoreload 2\n",
    "\n",
    "%matplotlib inline"
   ]
  },
  {
   "cell_type": "markdown",
   "metadata": {
    "colab_type": "text",
    "id": "ig_EUK7UpGHE"
   },
   "source": [
    "### Curso-Taller 2019: Aprendizaje Automático e Imágenes en Python \n",
    "* Docentes:  Dra. Valeria S. Rulloni - Dra. Laura M. Vargas\n",
    "* Ayudantes: Axel Aguerreberry - Sebastián Palacio\n",
    "* Colaboradoras: Dra. Ana Carolina Maldonado - Dra. Claudia Egea\n",
    "\n",
    "### Temario a desarrollar:\n",
    "*\tUso y herramientas básicas de Python\n",
    "*\tImágenes digitales: tipos (binarias, monocromáticas y a color)\n",
    "*\tHistograma. Mejora de la imagen: contraste, filtros: suavizado y detección de bordes.\n",
    "*\tUmbralado y Binarización. Operaciones Morfológicas: erosión, dilatación, cierre y apertura.\n",
    "*\t**Clasificación de imágenes.**\n",
    "*\t**Aprendizaje automático**\n",
    "*\t**Aprendizaje profundo: Redes neuronales**\n",
    "*\tAplicaciones: Grafos para segmentación de imágenes, entre otras.\n",
    "\n"
   ]
  },
  {
   "cell_type": "markdown",
   "metadata": {
    "colab_type": "text",
    "id": "YofqDHYMpGHP"
   },
   "source": [
    "# Laboratorio Parte 3: Keras, MNIST data, aumentación de datos, redes neuronales convolucionales (CNN), drop-out"
   ]
  },
  {
   "cell_type": "code",
   "execution_count": 2,
   "metadata": {
    "colab": {},
    "colab_type": "code",
    "id": "IHTAzB7epGHR"
   },
   "outputs": [
    {
     "name": "stderr",
     "output_type": "stream",
     "text": [
      "Using TensorFlow backend.\n"
     ]
    }
   ],
   "source": [
    "# importo librerias necesarias\n",
    "import numpy as np\n",
    "import matplotlib\n",
    "import matplotlib.pyplot as plt\n",
    "import seaborn as sns\n",
    "import tensorflow as tf\n",
    "import keras\n",
    "import cv2\n",
    "\n",
    "from tensorflow.examples.tutorials.mnist import input_data\n",
    "from keras.layers import Input, Dense, Conv2D, MaxPooling2D, Flatten, BatchNormalization, Activation, Dropout\n",
    "from keras.models import Model\n",
    "from keras.callbacks import EarlyStopping, ModelCheckpoint, Callback"
   ]
  },
  {
   "cell_type": "code",
   "execution_count": 3,
   "metadata": {},
   "outputs": [],
   "source": [
    "sns.set_style(\"white\")"
   ]
  },
  {
   "cell_type": "code",
   "execution_count": 4,
   "metadata": {},
   "outputs": [
    {
     "name": "stdout",
     "output_type": "stream",
     "text": [
      "1.15.0\n",
      "2.2.5\n"
     ]
    }
   ],
   "source": [
    "print(tf.__version__)\n",
    "print(keras.__version__)"
   ]
  },
  {
   "cell_type": "code",
   "execution_count": 5,
   "metadata": {
    "colab": {
     "base_uri": "https://localhost:8080/",
     "height": 530
    },
    "colab_type": "code",
    "executionInfo": {
     "elapsed": 1995,
     "status": "ok",
     "timestamp": 1573759808337,
     "user": {
      "displayName": "Mario Ferreyra",
      "photoUrl": "https://lh3.googleusercontent.com/a-/AAuE7mC3ALq72FIGdXTnw1XggOwOgPC7wztJCvlXdaEk2w=s64",
      "userId": "00857178684086436690"
     },
     "user_tz": 180
    },
    "id": "fm-5wwpjpGHe",
    "outputId": "7f27115a-df48-4dfd-d797-4d8973a65be3"
   },
   "outputs": [
    {
     "name": "stdout",
     "output_type": "stream",
     "text": [
      "WARNING:tensorflow:From <ipython-input-5-5933df94991b>:2: read_data_sets (from tensorflow.contrib.learn.python.learn.datasets.mnist) is deprecated and will be removed in a future version.\n",
      "Instructions for updating:\n",
      "Please use alternatives such as official/mnist/dataset.py from tensorflow/models.\n",
      "WARNING:tensorflow:From /home/ubuntu/miniconda3/envs/mlip/lib/python3.6/site-packages/tensorflow_core/contrib/learn/python/learn/datasets/mnist.py:260: maybe_download (from tensorflow.contrib.learn.python.learn.datasets.base) is deprecated and will be removed in a future version.\n",
      "Instructions for updating:\n",
      "Please write your own downloading logic.\n",
      "WARNING:tensorflow:From /home/ubuntu/miniconda3/envs/mlip/lib/python3.6/site-packages/tensorflow_core/contrib/learn/python/learn/datasets/mnist.py:262: extract_images (from tensorflow.contrib.learn.python.learn.datasets.mnist) is deprecated and will be removed in a future version.\n",
      "Instructions for updating:\n",
      "Please use tf.data to implement this functionality.\n",
      "Extracting ./mnist/data/train-images-idx3-ubyte.gz\n",
      "WARNING:tensorflow:From /home/ubuntu/miniconda3/envs/mlip/lib/python3.6/site-packages/tensorflow_core/contrib/learn/python/learn/datasets/mnist.py:267: extract_labels (from tensorflow.contrib.learn.python.learn.datasets.mnist) is deprecated and will be removed in a future version.\n",
      "Instructions for updating:\n",
      "Please use tf.data to implement this functionality.\n",
      "Extracting ./mnist/data/train-labels-idx1-ubyte.gz\n",
      "WARNING:tensorflow:From /home/ubuntu/miniconda3/envs/mlip/lib/python3.6/site-packages/tensorflow_core/contrib/learn/python/learn/datasets/mnist.py:110: dense_to_one_hot (from tensorflow.contrib.learn.python.learn.datasets.mnist) is deprecated and will be removed in a future version.\n",
      "Instructions for updating:\n",
      "Please use tf.one_hot on tensors.\n",
      "Extracting ./mnist/data/t10k-images-idx3-ubyte.gz\n",
      "Extracting ./mnist/data/t10k-labels-idx1-ubyte.gz\n",
      "WARNING:tensorflow:From /home/ubuntu/miniconda3/envs/mlip/lib/python3.6/site-packages/tensorflow_core/contrib/learn/python/learn/datasets/mnist.py:290: DataSet.__init__ (from tensorflow.contrib.learn.python.learn.datasets.mnist) is deprecated and will be removed in a future version.\n",
      "Instructions for updating:\n",
      "Please use alternatives such as official/mnist/dataset.py from tensorflow/models.\n"
     ]
    }
   ],
   "source": [
    "# importo y guardo MNIST data\n",
    "mnist = input_data.read_data_sets(\"./mnist/data/\", one_hot=True)"
   ]
  },
  {
   "cell_type": "markdown",
   "metadata": {
    "colab_type": "text",
    "id": "BHE-CmgDpGHj"
   },
   "source": [
    "## Exploración del dataset"
   ]
  },
  {
   "cell_type": "code",
   "execution_count": 6,
   "metadata": {},
   "outputs": [],
   "source": [
    "X_train = mnist.train.images\n",
    "y_train = mnist.train.labels\n",
    "\n",
    "X_val = mnist.validation.images\n",
    "y_val = mnist.validation.labels\n",
    "\n",
    "X_test = mnist.test.images\n",
    "y_test = mnist.test.labels"
   ]
  },
  {
   "cell_type": "code",
   "execution_count": 7,
   "metadata": {
    "colab": {
     "base_uri": "https://localhost:8080/",
     "height": 85
    },
    "colab_type": "code",
    "executionInfo": {
     "elapsed": 1817,
     "status": "ok",
     "timestamp": 1573759811379,
     "user": {
      "displayName": "Mario Ferreyra",
      "photoUrl": "https://lh3.googleusercontent.com/a-/AAuE7mC3ALq72FIGdXTnw1XggOwOgPC7wztJCvlXdaEk2w=s64",
      "userId": "00857178684086436690"
     },
     "user_tz": 180
    },
    "id": "VAKy-CLtpGHk",
    "outputId": "2ef16834-8724-4ce7-89af-21cd017dd96f"
   },
   "outputs": [
    {
     "name": "stdout",
     "output_type": "stream",
     "text": [
      "Imagenes de Entrenamiento: (55000, 784)\n",
      "Labels de Entrenamiento  : (5000, 10)\n",
      "\n",
      "Imagenes de Validacion   : (5000, 784)\n",
      "Labels de Validacion     : (5000, 10)\n",
      "\n",
      "Imagenes de Testeo       : (10000, 784)\n",
      "Labels de Testeo         : (10000, 10)\n"
     ]
    }
   ],
   "source": [
    "# Dimensiones de la data\n",
    "print(f\"Imagenes de Entrenamiento: {X_train.shape}\")\n",
    "print(f\"Labels de Entrenamiento  : {y_val.shape}\")\n",
    "print()\n",
    "print(f\"Imagenes de Validacion   : {X_val.shape}\")\n",
    "print(f\"Labels de Validacion     : {y_val.shape}\")\n",
    "print()\n",
    "print(f\"Imagenes de Testeo       : {X_test.shape}\")\n",
    "print(f\"Labels de Testeo         : {y_test.shape}\")"
   ]
  },
  {
   "cell_type": "code",
   "execution_count": 8,
   "metadata": {},
   "outputs": [],
   "source": [
    "##### Some Constants #####\n",
    "IMG_ROWS = 28\n",
    "IMG_COLS = 28\n",
    "NUM_CLASSES = 10\n",
    "\n",
    "BATCH_SIZE = 32\n",
    "NUM_EPOCHS = 10"
   ]
  },
  {
   "cell_type": "code",
   "execution_count": 9,
   "metadata": {
    "colab": {
     "base_uri": "https://localhost:8080/",
     "height": 1000
    },
    "colab_type": "code",
    "executionInfo": {
     "elapsed": 1949,
     "status": "ok",
     "timestamp": 1573759823466,
     "user": {
      "displayName": "Mario Ferreyra",
      "photoUrl": "https://lh3.googleusercontent.com/a-/AAuE7mC3ALq72FIGdXTnw1XggOwOgPC7wztJCvlXdaEk2w=s64",
      "userId": "00857178684086436690"
     },
     "user_tz": 180
    },
    "id": "tqirwdHEpGHp",
    "outputId": "f1c86e9f-42ec-46fc-b3e6-8a2c19246068"
   },
   "outputs": [
    {
     "data": {
      "image/png": "[encoded data removed]",
      "text/plain": [
       "<Figure size 1080x1080 with 9 Axes>"
      ]
     },
     "metadata": {},
     "output_type": "display_data"
    }
   ],
   "source": [
    "# Visualizamos algunas imagenes\n",
    "fig, ax = plt.subplots(3, 3, figsize=[15, 15])\n",
    "\n",
    "for j in range(3):\n",
    "    for i in range(3):\n",
    "        random_image = np.random.randint(low=0, high=55000, size=1)\n",
    "\n",
    "        ax[i,j].imshow(X_train[random_image].reshape(28, 28), 'gray')\n",
    "        ax[i,j].set_xticks([])\n",
    "        ax[i,j].set_yticks([])\n",
    "        ax[i,j].set_title(f'Label: {y_train[random_image]}', color='r')\n",
    "\n",
    "# fig.subplots_adjust(wspace=0.1, hspace=0)\n",
    "plt.show()"
   ]
  },
  {
   "cell_type": "markdown",
   "metadata": {
    "colab_type": "text",
    "id": "3BdBTq_1pGHx"
   },
   "source": [
    "# Datos de entrenamiento para el Modelo"
   ]
  },
  {
   "cell_type": "code",
   "execution_count": 10,
   "metadata": {
    "colab": {},
    "colab_type": "code",
    "id": "wEClD4GApGHy"
   },
   "outputs": [],
   "source": [
    "X_train = X_train.reshape(55000, 28, 28)\n",
    "X_val = X_val.reshape(5000, 28, 28)\n",
    "X_test = X_test.reshape(10000, 28, 28)"
   ]
  },
  {
   "cell_type": "markdown",
   "metadata": {
    "colab_type": "text",
    "id": "ecpRggCWpGHi"
   },
   "source": [
    "### Documentación de Keras: https://keras.io/"
   ]
  },
  {
   "cell_type": "markdown",
   "metadata": {
    "colab_type": "text",
    "id": "_ofRFnD7vZWc"
   },
   "source": [
    "### Aumentación de datos por Rotación de Imágenes "
   ]
  },
  {
   "cell_type": "code",
   "execution_count": 11,
   "metadata": {
    "colab": {},
    "colab_type": "code",
    "id": "ywu6WU7FvZWd"
   },
   "outputs": [],
   "source": [
    "def rotacion(image, angle):\n",
    "    height, width = image.shape[0], image.shape[1]\n",
    "    medio = (width/2, height/2)\n",
    "\n",
    "    M = cv2.getRotationMatrix2D(medio, angle, 1.0)\n",
    "    imagen_rotada = cv2.warpAffine(image, M, (width, height))\n",
    "\n",
    "    return imagen_rotada"
   ]
  },
  {
   "cell_type": "code",
   "execution_count": 12,
   "metadata": {
    "colab": {},
    "colab_type": "code",
    "id": "Hpi2v2RwvZWh"
   },
   "outputs": [],
   "source": [
    "def data_augmentation(images, labels):\n",
    "    all_labels = []\n",
    "    all_images = []\n",
    "\n",
    "    for i in range(images.shape[0]):\n",
    "        image, label = images[i], labels[i]\n",
    "\n",
    "        all_images.append(image)\n",
    "        all_labels.append(label)\n",
    "\n",
    "        all_images.append(rotacion(image, 5))\n",
    "        all_labels.append(label)    \n",
    "\n",
    "        all_images.append(rotacion(image, -5))\n",
    "        all_labels.append(label)\n",
    "\n",
    "    return np.asarray(all_images), np.asarray(all_labels)"
   ]
  },
  {
   "cell_type": "code",
   "execution_count": 13,
   "metadata": {
    "colab": {
     "base_uri": "https://localhost:8080/",
     "height": 424
    },
    "colab_type": "code",
    "executionInfo": {
     "elapsed": 1564,
     "status": "ok",
     "timestamp": 1573759848787,
     "user": {
      "displayName": "Mario Ferreyra",
      "photoUrl": "https://lh3.googleusercontent.com/a-/AAuE7mC3ALq72FIGdXTnw1XggOwOgPC7wztJCvlXdaEk2w=s64",
      "userId": "00857178684086436690"
     },
     "user_tz": 180
    },
    "id": "bfQaNbMOvZWk",
    "outputId": "8bca1d9d-9b18-42ef-d03b-87b88890ab2d"
   },
   "outputs": [
    {
     "data": {
      "image/png": "[encoded data removed]",
      "text/plain": [
       "<Figure size 1080x1080 with 3 Axes>"
      ]
     },
     "metadata": {},
     "output_type": "display_data"
    },
    {
     "name": "stdout",
     "output_type": "stream",
     "text": [
      "(28, 28)\n"
     ]
    }
   ],
   "source": [
    "fig, ax = plt.subplots(1, 3, figsize=(15,15))\n",
    "\n",
    "ax[0].imshow(X_train[0], 'gray', vmin=0, vmax=1);\n",
    "ax[0].axis('off')\n",
    "ax[0].set_title('Imagen Original')\n",
    "\n",
    "ax[1].imshow(rotacion(X_train[0], 5), 'gray', vmin=0, vmax=1);\n",
    "ax[1].axis('off')\n",
    "ax[1].set_title('Imagen rotada +5')\n",
    "\n",
    "ax[2].imshow(rotacion(X_train[0], -5), 'gray', vmin=0, vmax=1);\n",
    "ax[2].axis('off')\n",
    "ax[2].set_title('Imagen rotada -5')\n",
    "\n",
    "fig.subplots_adjust(wspace=0.05, top=0.8)\n",
    "plt.show()\n",
    "print(rotacion(X_train[0], 5).shape)"
   ]
  },
  {
   "cell_type": "code",
   "execution_count": 14,
   "metadata": {
    "colab": {
     "base_uri": "https://localhost:8080/",
     "height": 34
    },
    "colab_type": "code",
    "executionInfo": {
     "elapsed": 3554,
     "status": "ok",
     "timestamp": 1573759851441,
     "user": {
      "displayName": "Mario Ferreyra",
      "photoUrl": "https://lh3.googleusercontent.com/a-/AAuE7mC3ALq72FIGdXTnw1XggOwOgPC7wztJCvlXdaEk2w=s64",
      "userId": "00857178684086436690"
     },
     "user_tz": 180
    },
    "id": "uPc2p03ivZWn",
    "outputId": "9f1891d6-7bdd-4c9c-e9df-df435258a0e4"
   },
   "outputs": [
    {
     "name": "stdout",
     "output_type": "stream",
     "text": [
      "(165000, 28, 28) (165000, 10)\n"
     ]
    }
   ],
   "source": [
    "X_train, y_train = data_augmentation(X_train, y_train)\n",
    "print(X_train.shape, y_train.shape)"
   ]
  },
  {
   "cell_type": "code",
   "execution_count": 15,
   "metadata": {
    "colab": {},
    "colab_type": "code",
    "id": "BQPQy_k-vZWq"
   },
   "outputs": [],
   "source": [
    "X_train = X_train.reshape(165000, 28, 28, 1)\n",
    "X_val = X_val.reshape(5000, 28, 28, 1)\n",
    "X_test = X_test.reshape(10000, 28, 28, 1)"
   ]
  },
  {
   "cell_type": "markdown",
   "metadata": {
    "colab_type": "text",
    "id": "xzdFBXik0rKK"
   },
   "source": [
    "### Uso de Drop out para evitar sobre-ajuste (overfitting) del modelo"
   ]
  },
  {
   "cell_type": "code",
   "execution_count": 16,
   "metadata": {
    "colab": {},
    "colab_type": "code",
    "id": "3HllT5hKpGH6"
   },
   "outputs": [
    {
     "name": "stdout",
     "output_type": "stream",
     "text": [
      "WARNING:tensorflow:From /home/ubuntu/miniconda3/envs/mlip/lib/python3.6/site-packages/keras/backend/tensorflow_backend.py:66: The name tf.get_default_graph is deprecated. Please use tf.compat.v1.get_default_graph instead.\n",
      "\n",
      "WARNING:tensorflow:From /home/ubuntu/miniconda3/envs/mlip/lib/python3.6/site-packages/keras/backend/tensorflow_backend.py:541: The name tf.placeholder is deprecated. Please use tf.compat.v1.placeholder instead.\n",
      "\n",
      "WARNING:tensorflow:From /home/ubuntu/miniconda3/envs/mlip/lib/python3.6/site-packages/keras/backend/tensorflow_backend.py:4432: The name tf.random_uniform is deprecated. Please use tf.random.uniform instead.\n",
      "\n",
      "WARNING:tensorflow:From /home/ubuntu/miniconda3/envs/mlip/lib/python3.6/site-packages/keras/backend/tensorflow_backend.py:190: The name tf.get_default_session is deprecated. Please use tf.compat.v1.get_default_session instead.\n",
      "\n",
      "WARNING:tensorflow:From /home/ubuntu/miniconda3/envs/mlip/lib/python3.6/site-packages/keras/backend/tensorflow_backend.py:197: The name tf.ConfigProto is deprecated. Please use tf.compat.v1.ConfigProto instead.\n",
      "\n",
      "WARNING:tensorflow:From /home/ubuntu/miniconda3/envs/mlip/lib/python3.6/site-packages/keras/backend/tensorflow_backend.py:203: The name tf.Session is deprecated. Please use tf.compat.v1.Session instead.\n",
      "\n",
      "WARNING:tensorflow:From /home/ubuntu/miniconda3/envs/mlip/lib/python3.6/site-packages/keras/backend/tensorflow_backend.py:207: The name tf.global_variables is deprecated. Please use tf.compat.v1.global_variables instead.\n",
      "\n",
      "WARNING:tensorflow:From /home/ubuntu/miniconda3/envs/mlip/lib/python3.6/site-packages/keras/backend/tensorflow_backend.py:216: The name tf.is_variable_initialized is deprecated. Please use tf.compat.v1.is_variable_initialized instead.\n",
      "\n",
      "WARNING:tensorflow:From /home/ubuntu/miniconda3/envs/mlip/lib/python3.6/site-packages/keras/backend/tensorflow_backend.py:223: The name tf.variables_initializer is deprecated. Please use tf.compat.v1.variables_initializer instead.\n",
      "\n",
      "WARNING:tensorflow:From /home/ubuntu/miniconda3/envs/mlip/lib/python3.6/site-packages/keras/backend/tensorflow_backend.py:2041: The name tf.nn.fused_batch_norm is deprecated. Please use tf.compat.v1.nn.fused_batch_norm instead.\n",
      "\n",
      "WARNING:tensorflow:From /home/ubuntu/miniconda3/envs/mlip/lib/python3.6/site-packages/keras/backend/tensorflow_backend.py:148: The name tf.placeholder_with_default is deprecated. Please use tf.compat.v1.placeholder_with_default instead.\n",
      "\n",
      "WARNING:tensorflow:From /home/ubuntu/miniconda3/envs/mlip/lib/python3.6/site-packages/keras/backend/tensorflow_backend.py:4267: The name tf.nn.max_pool is deprecated. Please use tf.nn.max_pool2d instead.\n",
      "\n",
      "WARNING:tensorflow:From /home/ubuntu/miniconda3/envs/mlip/lib/python3.6/site-packages/keras/backend/tensorflow_backend.py:3733: calling dropout (from tensorflow.python.ops.nn_ops) with keep_prob is deprecated and will be removed in a future version.\n",
      "Instructions for updating:\n",
      "Please use `rate` instead of `keep_prob`. Rate should be set to `rate = 1 - keep_prob`.\n"
     ]
    }
   ],
   "source": [
    "### A completar: definir capa de entrada, capas ocultas, y capa de salida\n",
    "\n",
    "inputs = Input(shape=(IMG_ROWS, IMG_COLS, 1))\n",
    "\n",
    "conv1 = Conv2D(64, 5, activation=None)(inputs)\n",
    "bn1 = BatchNormalization()(conv1)\n",
    "activation1 = Activation(\"relu\")(bn1)\n",
    "maxPool1 = MaxPooling2D(pool_size=(2, 2))(activation1)\n",
    "\n",
    "conv2 = Conv2D(128, 5, activation=None)(maxPool1)\n",
    "bn2 = BatchNormalization()(conv2)\n",
    "activation2 = Activation(\"relu\")(bn2)\n",
    "maxPool2 = MaxPooling2D(pool_size=(2, 2))(activation2)\n",
    "\n",
    "flatten = Flatten()(maxPool2)\n",
    "\n",
    "dense1 = Dense(256, activation=\"sigmoid\")(flatten)\n",
    "dense1 = Dropout(0.5)(dense1)\n",
    "\n",
    "dense2 = Dense(64, activation=\"sigmoid\")(dense1)\n",
    "dense2 = Dropout(0.5)(dense2)\n",
    "\n",
    "outputs = Dense(NUM_CLASSES, activation=\"softmax\")(dense2)"
   ]
  },
  {
   "cell_type": "code",
   "execution_count": 17,
   "metadata": {
    "colab": {},
    "colab_type": "code",
    "id": "xBhaE3oIpGH-"
   },
   "outputs": [],
   "source": [
    "### A completar: definir entrada y salida del modelo\n",
    "model = Model(\n",
    "    inputs=inputs,\n",
    "    outputs=outputs\n",
    ")"
   ]
  },
  {
   "cell_type": "code",
   "execution_count": 18,
   "metadata": {
    "colab": {
     "base_uri": "https://localhost:8080/",
     "height": 105
    },
    "colab_type": "code",
    "id": "umTP8FRVpGIC",
    "outputId": "7ca6fdc6-de33-4c9a-c7fc-39a85c2750c9"
   },
   "outputs": [
    {
     "name": "stdout",
     "output_type": "stream",
     "text": [
      "WARNING:tensorflow:From /home/ubuntu/miniconda3/envs/mlip/lib/python3.6/site-packages/keras/optimizers.py:793: The name tf.train.Optimizer is deprecated. Please use tf.compat.v1.train.Optimizer instead.\n",
      "\n",
      "WARNING:tensorflow:From /home/ubuntu/miniconda3/envs/mlip/lib/python3.6/site-packages/keras/backend/tensorflow_backend.py:3576: The name tf.log is deprecated. Please use tf.math.log instead.\n",
      "\n"
     ]
    }
   ],
   "source": [
    "### A completar: definir optimizador y funcion de costo\n",
    "model.compile(\n",
    "    optimizer='adam',\n",
    "    loss='categorical_crossentropy',\n",
    "    metrics=['accuracy']\n",
    ")"
   ]
  },
  {
   "cell_type": "code",
   "execution_count": 19,
   "metadata": {},
   "outputs": [
    {
     "name": "stdout",
     "output_type": "stream",
     "text": [
      "Model: \"model_1\"\n",
      "_________________________________________________________________\n",
      "Layer (type)                 Output Shape              Param #   \n",
      "=================================================================\n",
      "input_1 (InputLayer)         (None, 28, 28, 1)         0         \n",
      "_________________________________________________________________\n",
      "conv2d_1 (Conv2D)            (None, 24, 24, 64)        1664      \n",
      "_________________________________________________________________\n",
      "batch_normalization_1 (Batch (None, 24, 24, 64)        256       \n",
      "_________________________________________________________________\n",
      "activation_1 (Activation)    (None, 24, 24, 64)        0         \n",
      "_________________________________________________________________\n",
      "max_pooling2d_1 (MaxPooling2 (None, 12, 12, 64)        0         \n",
      "_________________________________________________________________\n",
      "conv2d_2 (Conv2D)            (None, 8, 8, 128)         204928    \n",
      "_________________________________________________________________\n",
      "batch_normalization_2 (Batch (None, 8, 8, 128)         512       \n",
      "_________________________________________________________________\n",
      "activation_2 (Activation)    (None, 8, 8, 128)         0         \n",
      "_________________________________________________________________\n",
      "max_pooling2d_2 (MaxPooling2 (None, 4, 4, 128)         0         \n",
      "_________________________________________________________________\n",
      "flatten_1 (Flatten)          (None, 2048)              0         \n",
      "_________________________________________________________________\n",
      "dense_1 (Dense)              (None, 256)               524544    \n",
      "_________________________________________________________________\n",
      "dropout_1 (Dropout)          (None, 256)               0         \n",
      "_________________________________________________________________\n",
      "dense_2 (Dense)              (None, 64)                16448     \n",
      "_________________________________________________________________\n",
      "dropout_2 (Dropout)          (None, 64)                0         \n",
      "_________________________________________________________________\n",
      "dense_3 (Dense)              (None, 10)                650       \n",
      "=================================================================\n",
      "Total params: 749,002\n",
      "Trainable params: 748,618\n",
      "Non-trainable params: 384\n",
      "_________________________________________________________________\n"
     ]
    }
   ],
   "source": [
    "model.summary()"
   ]
  },
  {
   "cell_type": "code",
   "execution_count": 20,
   "metadata": {
    "colab": {},
    "colab_type": "code",
    "id": "eUmdtpkApGIG"
   },
   "outputs": [],
   "source": [
    "## para guardar el modelo\n",
    "filepath = \"prueba3.h5\"\n",
    "model_checkpoint = ModelCheckpoint(\n",
    "    filepath,\n",
    "    monitor='loss',\n",
    "    verbose=1,\n",
    "    save_best_only=True\n",
    ")"
   ]
  },
  {
   "cell_type": "code",
   "execution_count": 21,
   "metadata": {
    "colab": {
     "base_uri": "https://localhost:8080/",
     "height": 374
    },
    "colab_type": "code",
    "id": "isv-GaCLpGIK",
    "outputId": "4f6e02ee-3bd1-4397-c4f5-4f3b7c9d9b62"
   },
   "outputs": [
    {
     "name": "stdout",
     "output_type": "stream",
     "text": [
      "WARNING:tensorflow:From /home/ubuntu/miniconda3/envs/mlip/lib/python3.6/site-packages/tensorflow_core/python/ops/math_grad.py:1424: where (from tensorflow.python.ops.array_ops) is deprecated and will be removed in a future version.\n",
      "Instructions for updating:\n",
      "Use tf.where in 2.0, which has the same broadcast rule as np.where\n",
      "WARNING:tensorflow:From /home/ubuntu/miniconda3/envs/mlip/lib/python3.6/site-packages/keras/backend/tensorflow_backend.py:1033: The name tf.assign_add is deprecated. Please use tf.compat.v1.assign_add instead.\n",
      "\n",
      "WARNING:tensorflow:From /home/ubuntu/miniconda3/envs/mlip/lib/python3.6/site-packages/keras/backend/tensorflow_backend.py:1020: The name tf.assign is deprecated. Please use tf.compat.v1.assign instead.\n",
      "\n",
      "Train on 165000 samples, validate on 5000 samples\n",
      "Epoch 1/10\n",
      "165000/165000 [==============================] - 380s 2ms/step - loss: 0.1634 - acc: 0.9609 - val_loss: 0.0438 - val_acc: 0.9880\n",
      "\n",
      "Epoch 00001: loss improved from inf to 0.16341, saving model to prueba3.h5\n",
      "Epoch 2/10\n",
      "165000/165000 [==============================] - 379s 2ms/step - loss: 0.0571 - acc: 0.9857 - val_loss: 0.0341 - val_acc: 0.9900\n",
      "\n",
      "Epoch 00002: loss improved from 0.16341 to 0.05710, saving model to prueba3.h5\n",
      "Epoch 3/10\n",
      "165000/165000 [==============================] - 380s 2ms/step - loss: 0.0397 - acc: 0.9902 - val_loss: 0.0251 - val_acc: 0.9932\n",
      "\n",
      "Epoch 00003: loss improved from 0.05710 to 0.03973, saving model to prueba3.h5\n",
      "Epoch 4/10\n",
      "165000/165000 [==============================] - 380s 2ms/step - loss: 0.0298 - acc: 0.9924 - val_loss: 0.0354 - val_acc: 0.9918\n",
      "\n",
      "Epoch 00004: loss improved from 0.03973 to 0.02976, saving model to prueba3.h5\n",
      "Epoch 5/10\n",
      "165000/165000 [==============================] - 380s 2ms/step - loss: 0.0241 - acc: 0.9938 - val_loss: 0.0249 - val_acc: 0.9952\n",
      "\n",
      "Epoch 00005: loss improved from 0.02976 to 0.02405, saving model to prueba3.h5\n",
      "Epoch 6/10\n",
      "165000/165000 [==============================] - 379s 2ms/step - loss: 0.0190 - acc: 0.9950 - val_loss: 0.0318 - val_acc: 0.9936\n",
      "\n",
      "Epoch 00006: loss improved from 0.02405 to 0.01901, saving model to prueba3.h5\n",
      "Epoch 7/10\n",
      "165000/165000 [==============================] - 379s 2ms/step - loss: 0.0172 - acc: 0.9957 - val_loss: 0.0295 - val_acc: 0.9938\n",
      "\n",
      "Epoch 00007: loss improved from 0.01901 to 0.01722, saving model to prueba3.h5\n",
      "Epoch 8/10\n",
      "165000/165000 [==============================] - 379s 2ms/step - loss: 0.0146 - acc: 0.9962 - val_loss: 0.0295 - val_acc: 0.9948\n",
      "\n",
      "Epoch 00008: loss improved from 0.01722 to 0.01459, saving model to prueba3.h5\n",
      "Epoch 9/10\n",
      "165000/165000 [==============================] - 380s 2ms/step - loss: 0.0132 - acc: 0.9967 - val_loss: 0.0318 - val_acc: 0.9942\n",
      "\n",
      "Epoch 00009: loss improved from 0.01459 to 0.01317, saving model to prueba3.h5\n",
      "Epoch 10/10\n",
      "165000/165000 [==============================] - 380s 2ms/step - loss: 0.0119 - acc: 0.9970 - val_loss: 0.0355 - val_acc: 0.9944\n",
      "\n",
      "Epoch 00010: loss improved from 0.01317 to 0.01185, saving model to prueba3.h5\n",
      "CPU times: user 3h 31min 21s, sys: 2min 32s, total: 3h 33min 54s\n",
      "Wall time: 1h 3min 16s\n"
     ]
    }
   ],
   "source": [
    "%%time\n",
    "history = model.fit(\n",
    "    X_train, y_train,\n",
    "    batch_size=BATCH_SIZE,\n",
    "    epochs=NUM_EPOCHS,\n",
    "    validation_data=(X_val, y_val),\n",
    "    callbacks=[model_checkpoint]\n",
    ")"
   ]
  },
  {
   "cell_type": "code",
   "execution_count": 22,
   "metadata": {
    "colab": {
     "base_uri": "https://localhost:8080/",
     "height": 119
    },
    "colab_type": "code",
    "id": "ZSYHiDbjpGIO",
    "outputId": "63490613-0d7b-47e1-b4f6-5e5b9764a72d"
   },
   "outputs": [
    {
     "name": "stdout",
     "output_type": "stream",
     "text": [
      "Accuracy:\n",
      "165000/165000 [==============================] - 97s 588us/step\n",
      "\t* Train = [0.00419220606380967, 0.9988303030303031]\n",
      "5000/5000 [==============================] - 3s 586us/step\n",
      "\t* Val   = [0.03551698296451859, 0.9944]\n",
      "10000/10000 [==============================] - 6s 591us/step\n",
      "\t* Test  = [0.02975730240074922, 0.9941]\n"
     ]
    }
   ],
   "source": [
    "print(\"Accuracy:\")\n",
    "print(f\"\\t* Train = {model.evaluate(X_train, y_train)}\")\n",
    "print(f\"\\t* Val   = {model.evaluate(X_val, y_val)}\")\n",
    "print(f\"\\t* Test  = {model.evaluate(X_test, y_test)}\")"
   ]
  },
  {
   "cell_type": "code",
   "execution_count": 23,
   "metadata": {
    "colab": {
     "base_uri": "https://localhost:8080/",
     "height": 562
    },
    "colab_type": "code",
    "id": "ke2uSBgCpGIR",
    "outputId": "18d13d3d-0b07-46bf-c926-9ec931271fd4"
   },
   "outputs": [
    {
     "data": {
      "text/plain": [
       "<matplotlib.legend.Legend at 0x7fc695ccb080>"
      ]
     },
     "execution_count": 23,
     "metadata": {},
     "output_type": "execute_result"
    },
    {
     "data": {
      "image/png": "[encoded data removed]",
      "text/plain": [
       "<Figure size 432x288 with 1 Axes>"
      ]
     },
     "metadata": {},
     "output_type": "display_data"
    },
    {
     "data": {
      "image/png": "[encoded data removed]",
      "text/plain": [
       "<Figure size 432x288 with 1 Axes>"
      ]
     },
     "metadata": {},
     "output_type": "display_data"
    }
   ],
   "source": [
    "## Visualizamos curvas de entrenamiento\n",
    "\n",
    "plt.figure()\n",
    "plt.title(\"Accuracy vs epochs\")\n",
    "plt.plot(history.history['acc'])\n",
    "plt.plot(history.history['val_acc'])\n",
    "plt.legend(['Training Accuracy', 'Validation Accuracy'])\n",
    "\n",
    "\n",
    "plt.figure()\n",
    "plt.title(\"Loss vs epochs\")\n",
    "plt.plot(history.history['loss'])\n",
    "plt.plot(history.history['val_loss'])\n",
    "plt.legend(['Training Loss', 'Validation Loss'])"
   ]
  },
  {
   "cell_type": "code",
   "execution_count": null,
   "metadata": {
    "colab": {},
    "colab_type": "code",
    "id": "QOCdZxsopGIV"
   },
   "outputs": [],
   "source": []
  },
  {
   "cell_type": "markdown",
   "metadata": {
    "colab_type": "text",
    "id": "iQIQmtPbpGIY"
   },
   "source": [
    "## Usemos este modelo para hacer predicciones"
   ]
  },
  {
   "cell_type": "code",
   "execution_count": 24,
   "metadata": {
    "colab": {},
    "colab_type": "code",
    "id": "r0f4-FB7pGIZ"
   },
   "outputs": [],
   "source": [
    "## A completar: utilizar imagenes de testeo\n",
    "\n",
    "predictions = model.predict(X_test)"
   ]
  },
  {
   "cell_type": "code",
   "execution_count": 25,
   "metadata": {
    "colab": {
     "base_uri": "https://localhost:8080/",
     "height": 1000
    },
    "colab_type": "code",
    "id": "_hBlpLFxpGIf",
    "outputId": "aedcff73-aaca-462b-b5a0-77d437571e3d"
   },
   "outputs": [
    {
     "data": {
      "image/png": "[encoded data removed]",
      "text/plain": [
       "<Figure size 1080x1080 with 9 Axes>"
      ]
     },
     "metadata": {},
     "output_type": "display_data"
    }
   ],
   "source": [
    "fig, ax = plt.subplots(3, 3, figsize=[15, 15])\n",
    "\n",
    "for j in range(3):\n",
    "    for i in range(3):\n",
    "        random_image = np.random.randint(low=0, high=1000, size=1)\n",
    "\n",
    "        ax[i,j].imshow(X_test[random_image].reshape(28,28), 'gray')\n",
    "        ax[i,j].set_xticks([])\n",
    "        ax[i,j].set_yticks([])\n",
    "        ax[i,j].set_title(f'Predccion de mi red: {np.argmax(predictions[random_image])}', color='r')\n",
    "\n",
    "plt.show()"
   ]
  },
  {
   "cell_type": "code",
   "execution_count": null,
   "metadata": {
    "colab": {},
    "colab_type": "code",
    "id": "HgfuQZZMpGIj"
   },
   "outputs": [],
   "source": []
  }
 ],
 "metadata": {
  "anaconda-cloud": {},
  "colab": {
   "name": "Laboratorio3.ipynb",
   "provenance": []
  },
  "kernelspec": {
   "display_name": "mlip",
   "language": "python",
   "name": "mlip"
  },
  "language_info": {
   "codemirror_mode": {
    "name": "ipython",
    "version": 3
   },
   "file_extension": ".py",
   "mimetype": "text/x-python",
   "name": "python",
   "nbconvert_exporter": "python",
   "pygments_lexer": "ipython3",
   "version": "3.6.9"
  }
 },
 "nbformat": 4,
 "nbformat_minor": 4
}
